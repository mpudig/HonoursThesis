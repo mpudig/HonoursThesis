{
 "cells": [
  {
   "cell_type": "code",
   "execution_count": 191,
   "metadata": {},
   "outputs": [],
   "source": [
    "import numpy as np\n",
    "import matplotlib.pyplot as plt"
   ]
  },
  {
   "cell_type": "code",
   "execution_count": 351,
   "metadata": {},
   "outputs": [],
   "source": [
    "# MLD readjustment for simple, 1D case: uniform mixed layer and then a linearly stratified thermocline\n",
    "\n",
    "z_m = 100 # Initial MLD, call it 100m\n",
    "z_b = 1000 # Base of thermocline, call it 1000m\n",
    "dz = 20 # Thickness of each level (Make sure z_m is divisible by it!)\n",
    "z = np.arange(0, z_b+dz, dz) # Depth levels from surface to base of thermocline\n",
    "z_m_index = np.where(z==z_m)[0][0]\n",
    "\n",
    "T_0 = 18 # Initial mixed layer temperature before forcing (convectively stable)\n",
    "del_T = 1.5 # Change to forced temperature, assumed to propagate immediately through the mixed layer\n",
    "dT = 0.5 # Linear step change within thermocline\n",
    "T_b = T_0 - dT*dz\n",
    "\n",
    "mixed_layer = T_0*np.ones(z_m_index) # Uniform temperature in mixed layer\n",
    "thermocline = np.linspace(T_b, T_0)[::-1] # Temperature profile from the surface to base of thermocline\n",
    "temp_0 = np.concatenate([mixed_layer, thermocline])"
   ]
  },
  {
   "cell_type": "code",
   "execution_count": 357,
   "metadata": {},
   "outputs": [
    {
     "name": "stdout",
     "output_type": "stream",
     "text": [
      "Mixed layer has deepened by 100 m\n",
      "New mixed layer depth is 200 m\n"
     ]
    }
   ],
   "source": [
    "# Algorithm for convective adjustment to deepen mixed layer\n",
    "\n",
    "# NOTE: This is coherent for changes in dz\n",
    "\n",
    "# Initialise convectively unstable array\n",
    "temp = np.zeros(temp_0.size)\n",
    "temp[0:z_m_index+1] = T_0 - del_T\n",
    "temp[z_m_index+1:] = temp_0[z_m_index+1:]\n",
    "\n",
    "# Mix successive layers in thermocline with mixed layer above it until the convective instability is gone\n",
    "\n",
    "### How can I justify mixing as simply taking the average between ML and layer below? Is this correct?\n",
    "\n",
    "for i in range(temp.size):\n",
    "    temp_ave = np.mean(temp[0:i+2])\n",
    "    if temp[i] <= temp[i+1]: # Criterion for checking if convective instability still present\n",
    "        temp[:i+2] = temp_ave\n",
    "    else:\n",
    "        MLD = z[i]\n",
    "        del_MLD = MLD - z_m\n",
    "        print('Mixed layer has deepened by %s m' % del_MLD)\n",
    "        print('New mixed layer depth is %s m' % MLD)\n",
    "        break"
   ]
  }
 ],
 "metadata": {
  "kernelspec": {
   "display_name": "Python 3",
   "language": "python",
   "name": "python3"
  },
  "language_info": {
   "codemirror_mode": {
    "name": "ipython",
    "version": 3
   },
   "file_extension": ".py",
   "mimetype": "text/x-python",
   "name": "python",
   "nbconvert_exporter": "python",
   "pygments_lexer": "ipython3",
   "version": "3.7.4"
  }
 },
 "nbformat": 4,
 "nbformat_minor": 2
}
