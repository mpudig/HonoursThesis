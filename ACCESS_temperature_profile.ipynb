{
 "cells": [
  {
   "cell_type": "markdown",
   "metadata": {},
   "source": [
    "#### This notebook finds the average globally-averaged (zonal and meridional) temperature profile in the control simulation."
   ]
  },
  {
   "cell_type": "code",
   "execution_count": 1,
   "metadata": {},
   "outputs": [],
   "source": [
    "import cosima_cookbook as cc\n",
    "import numpy as np\n",
    "import xarray as xr\n",
    "import pandas as pd\n",
    "import matplotlib.pyplot as plt\n",
    "import cmocean as cm\n",
    "from scipy.optimize import curve_fit\n",
    "from xhistogram.xarray import histogram\n",
    "\n",
    "from dask.distributed import Client\n",
    "\n",
    "%matplotlib inline"
   ]
  },
  {
   "cell_type": "code",
   "execution_count": 2,
   "metadata": {
    "jupyter": {
     "source_hidden": true
    }
   },
   "outputs": [
    {
     "data": {
      "text/html": [
       "<table style=\"border: 2px solid white;\">\n",
       "<tr>\n",
       "<td style=\"vertical-align: top; border: 0px solid white\">\n",
       "<h3 style=\"text-align: left;\">Client</h3>\n",
       "<ul style=\"text-align: left; list-style: none; margin: 0; padding: 0;\">\n",
       "  <li><b>Scheduler: </b>tcp://127.0.0.1:42111</li>\n",
       "  <li><b>Dashboard: </b><a href='/proxy/8787/status' target='_blank'>/proxy/8787/status</a></li>\n",
       "</ul>\n",
       "</td>\n",
       "<td style=\"vertical-align: top; border: 0px solid white\">\n",
       "<h3 style=\"text-align: left;\">Cluster</h3>\n",
       "<ul style=\"text-align: left; list-style:none; margin: 0; padding: 0;\">\n",
       "  <li><b>Workers: </b>8</li>\n",
       "  <li><b>Cores: </b>8</li>\n",
       "  <li><b>Memory: </b>128.85 GB</li>\n",
       "</ul>\n",
       "</td>\n",
       "</tr>\n",
       "</table>"
      ],
      "text/plain": [
       "<Client: 'tcp://127.0.0.1:42111' processes=8 threads=8, memory=128.85 GB>"
      ]
     },
     "metadata": {},
     "output_type": "display_data"
    }
   ],
   "source": [
    "client = Client(n_workers=8)\n",
    "display(client)"
   ]
  },
  {
   "cell_type": "code",
   "execution_count": 3,
   "metadata": {},
   "outputs": [
    {
     "data": {
      "text/html": [
       "<div>\n",
       "<style scoped>\n",
       "    .dataframe tbody tr th:only-of-type {\n",
       "        vertical-align: middle;\n",
       "    }\n",
       "\n",
       "    .dataframe tbody tr th {\n",
       "        vertical-align: top;\n",
       "    }\n",
       "\n",
       "    .dataframe thead th {\n",
       "        text-align: right;\n",
       "    }\n",
       "</style>\n",
       "<table border=\"1\" class=\"dataframe\">\n",
       "  <thead>\n",
       "    <tr style=\"text-align: right;\">\n",
       "      <th></th>\n",
       "      <th>experiment</th>\n",
       "      <th>ncfiles</th>\n",
       "    </tr>\n",
       "  </thead>\n",
       "  <tbody>\n",
       "    <tr>\n",
       "      <th>0</th>\n",
       "      <td>1deg_jra55_ryf_cont</td>\n",
       "      <td>169527</td>\n",
       "    </tr>\n",
       "    <tr>\n",
       "      <th>1</th>\n",
       "      <td>1deg_jra55_ryf_rcp45cool_spinup500</td>\n",
       "      <td>42426</td>\n",
       "    </tr>\n",
       "    <tr>\n",
       "      <th>2</th>\n",
       "      <td>1deg_jra55_ryf_rcp45warm_spinup500</td>\n",
       "      <td>47726</td>\n",
       "    </tr>\n",
       "    <tr>\n",
       "      <th>3</th>\n",
       "      <td>1deg_jra55_ryf_rcp45cool_spinup400</td>\n",
       "      <td>21206</td>\n",
       "    </tr>\n",
       "    <tr>\n",
       "      <th>4</th>\n",
       "      <td>1deg_jra55_ryf_rcp45warm_spinup400</td>\n",
       "      <td>21206</td>\n",
       "    </tr>\n",
       "    <tr>\n",
       "      <th>5</th>\n",
       "      <td>1deg_jra55_ryf_rcp45cool_x2_spinup500</td>\n",
       "      <td>42426</td>\n",
       "    </tr>\n",
       "    <tr>\n",
       "      <th>6</th>\n",
       "      <td>1deg_jra55_ryf_rcp45warm_x2_spinup500</td>\n",
       "      <td>42426</td>\n",
       "    </tr>\n",
       "    <tr>\n",
       "      <th>7</th>\n",
       "      <td>1deg_jra55_ryf_rcp45warm_x1_spinup500</td>\n",
       "      <td>42426</td>\n",
       "    </tr>\n",
       "    <tr>\n",
       "      <th>8</th>\n",
       "      <td>1deg_jra55_ryf_rcp45cool_x1_spinup500</td>\n",
       "      <td>42426</td>\n",
       "    </tr>\n",
       "    <tr>\n",
       "      <th>9</th>\n",
       "      <td>1deg_jra55_ryf_warm_0sat_8dwlw_spinup500</td>\n",
       "      <td>21206</td>\n",
       "    </tr>\n",
       "    <tr>\n",
       "      <th>10</th>\n",
       "      <td>1deg_jra55_ryf_warm_1.5sat_0dwlw_spinup500</td>\n",
       "      <td>21206</td>\n",
       "    </tr>\n",
       "    <tr>\n",
       "      <th>11</th>\n",
       "      <td>1deg_jra55_ryf_RCPwarm_x1</td>\n",
       "      <td>9534</td>\n",
       "    </tr>\n",
       "    <tr>\n",
       "      <th>12</th>\n",
       "      <td>1deg_jra55_ryf_RCPwarm_x2</td>\n",
       "      <td>9534</td>\n",
       "    </tr>\n",
       "    <tr>\n",
       "      <th>13</th>\n",
       "      <td>1deg_jra55_ryf_RCPwarm_humid_x1</td>\n",
       "      <td>42426</td>\n",
       "    </tr>\n",
       "    <tr>\n",
       "      <th>14</th>\n",
       "      <td>1deg_jra55_ryf_RCPwarm_humid_x2</td>\n",
       "      <td>42207</td>\n",
       "    </tr>\n",
       "    <tr>\n",
       "      <th>15</th>\n",
       "      <td>1deg_jra55_ryf_RCPcool_humid_x1</td>\n",
       "      <td>42207</td>\n",
       "    </tr>\n",
       "    <tr>\n",
       "      <th>16</th>\n",
       "      <td>1deg_jra55_ryf_RCPcool_humid_x2</td>\n",
       "      <td>42426</td>\n",
       "    </tr>\n",
       "    <tr>\n",
       "      <th>17</th>\n",
       "      <td>1deg_jra55_ryf_rcp45warm_x1_spinup500_test</td>\n",
       "      <td>4230</td>\n",
       "    </tr>\n",
       "    <tr>\n",
       "      <th>18</th>\n",
       "      <td>1deg_jra55_ryf_rcp45warm_x1_spinup500_test1</td>\n",
       "      <td>4230</td>\n",
       "    </tr>\n",
       "  </tbody>\n",
       "</table>\n",
       "</div>"
      ],
      "text/plain": [
       "                                     experiment  ncfiles\n",
       "0                           1deg_jra55_ryf_cont   169527\n",
       "1            1deg_jra55_ryf_rcp45cool_spinup500    42426\n",
       "2            1deg_jra55_ryf_rcp45warm_spinup500    47726\n",
       "3            1deg_jra55_ryf_rcp45cool_spinup400    21206\n",
       "4            1deg_jra55_ryf_rcp45warm_spinup400    21206\n",
       "5         1deg_jra55_ryf_rcp45cool_x2_spinup500    42426\n",
       "6         1deg_jra55_ryf_rcp45warm_x2_spinup500    42426\n",
       "7         1deg_jra55_ryf_rcp45warm_x1_spinup500    42426\n",
       "8         1deg_jra55_ryf_rcp45cool_x1_spinup500    42426\n",
       "9      1deg_jra55_ryf_warm_0sat_8dwlw_spinup500    21206\n",
       "10   1deg_jra55_ryf_warm_1.5sat_0dwlw_spinup500    21206\n",
       "11                    1deg_jra55_ryf_RCPwarm_x1     9534\n",
       "12                    1deg_jra55_ryf_RCPwarm_x2     9534\n",
       "13              1deg_jra55_ryf_RCPwarm_humid_x1    42426\n",
       "14              1deg_jra55_ryf_RCPwarm_humid_x2    42207\n",
       "15              1deg_jra55_ryf_RCPcool_humid_x1    42207\n",
       "16              1deg_jra55_ryf_RCPcool_humid_x2    42426\n",
       "17   1deg_jra55_ryf_rcp45warm_x1_spinup500_test     4230\n",
       "18  1deg_jra55_ryf_rcp45warm_x1_spinup500_test1     4230"
      ]
     },
     "execution_count": 3,
     "metadata": {},
     "output_type": "execute_result"
    }
   ],
   "source": [
    "### Generate new session\n",
    "\n",
    "db = '/scratch/e14/mp2135/access-om2/archive/databases/1deg_jra55_ryf_experiments_abrupt_spinup500.db'\n",
    "session = cc.database.create_session(db)\n",
    "\n",
    "cc.querying.get_experiments(session)"
   ]
  },
  {
   "cell_type": "code",
   "execution_count": 10,
   "metadata": {
    "collapsed": true,
    "jupyter": {
     "outputs_hidden": true
    }
   },
   "outputs": [
    {
     "name": "stderr",
     "output_type": "stream",
     "text": [
      "WARNING:py.warnings:/g/data3/hh5/public/apps/miniconda3/envs/analysis3-21.01/lib/python3.8/site-packages/cosima_cookbook/querying.py:241: UserWarning: Your query gets a variable from differently-named files: {'ocean-3d-temp-1-monthly-mean-ym_2461_01.nc', 'ocean-3d-temp-1-monthly-mean-ym_2472_01.nc', 'ocean-3d-temp-1-monthly-mean-ym_2498_01.nc', 'ocean-3d-temp-1-monthly-mean-ym_2463_01.nc', 'ocean-3d-temp-1-monthly-mean-ym_2480_01.nc', 'ocean-3d-temp-1-monthly-mean-ym_2411_01.nc', 'ocean-3d-temp-1-monthly-mean-ym_2476_01.nc', 'ocean-3d-temp-1-monthly-mean-ym_2426_01.nc', 'ocean-3d-temp-1-monthly-mean-ym_2409_01.nc', 'ocean-3d-temp-1-monthly-mean-ym_2444_01.nc', 'ocean-3d-temp-1-monthly-mean-ym_2487_01.nc', 'ocean-3d-temp-1-monthly-mean-ym_2403_01.nc', 'ocean-3d-temp-1-monthly-mean-ym_2442_01.nc', 'ocean-3d-temp-1-monthly-mean-ym_2429_01.nc', 'ocean-3d-temp-1-monthly-mean-ym_2492_01.nc', 'ocean-3d-temp-1-monthly-mean-ym_2418_01.nc', 'ocean-3d-temp-1-monthly-mean-ym_2400_01.nc', 'ocean-3d-temp-1-monthly-mean-ym_2405_01.nc', 'ocean-3d-temp-1-monthly-mean-ym_2434_01.nc', 'ocean-3d-temp-1-monthly-mean-ym_2417_01.nc', 'ocean-3d-temp-1-monthly-mean-ym_2479_01.nc', 'ocean-3d-temp-1-monthly-mean-ym_2467_01.nc', 'ocean-3d-temp-1-monthly-mean-ym_2499_01.nc', 'ocean-3d-temp-1-monthly-mean-ym_2430_01.nc', 'ocean-3d-temp-1-monthly-mean-ym_2457_01.nc', 'ocean-3d-temp-1-monthly-mean-ym_2413_01.nc', 'ocean-3d-temp-1-monthly-mean-ym_2473_01.nc', 'ocean-3d-temp-1-monthly-mean-ym_2451_01.nc', 'ocean-3d-temp-1-monthly-mean-ym_2407_01.nc', 'ocean-3d-temp-1-monthly-mean-ym_2493_01.nc', 'ocean-3d-temp-1-monthly-mean-ym_2477_01.nc', 'ocean-3d-temp-1-monthly-mean-ym_2433_01.nc', 'ocean-3d-temp-1-monthly-mean-ym_2421_01.nc', 'ocean-3d-temp-1-monthly-mean-ym_2436_01.nc', 'ocean-3d-temp-1-monthly-mean-ym_2449_01.nc', 'ocean-3d-temp-1-monthly-mean-ym_2483_01.nc', 'ocean-3d-temp-1-monthly-mean-ym_2455_01.nc', 'ocean-3d-temp-1-monthly-mean-ym_2428_01.nc', 'ocean-3d-temp-1-monthly-mean-ym_2404_01.nc', 'ocean-3d-temp-1-monthly-mean-ym_2462_01.nc', 'ocean-3d-temp-1-monthly-mean-ym_2408_01.nc', 'ocean-3d-temp-1-monthly-mean-ym_2420_01.nc', 'ocean-3d-temp-1-monthly-mean-ym_2423_01.nc', 'ocean-3d-temp-1-monthly-mean-ym_2453_01.nc', 'ocean-3d-temp-1-monthly-mean-ym_2438_01.nc', 'ocean-3d-temp-1-monthly-mean-ym_2474_01.nc', 'ocean-3d-temp-1-monthly-mean-ym_2495_01.nc', 'ocean-3d-temp-1-monthly-mean-ym_2490_01.nc', 'ocean-3d-temp-1-monthly-mean-ym_2441_01.nc', 'ocean-3d-temp-1-monthly-mean-ym_2437_01.nc', 'ocean-3d-temp-1-monthly-mean-ym_2439_01.nc', 'ocean-3d-temp-1-monthly-mean-ym_2459_01.nc', 'ocean-3d-temp-1-monthly-mean-ym_2427_01.nc', 'ocean-3d-temp-1-monthly-mean-ym_2446_01.nc', 'ocean-3d-temp-1-monthly-mean-ym_2431_01.nc', 'ocean-3d-temp-1-monthly-mean-ym_2415_01.nc', 'ocean-3d-temp-1-monthly-mean-ym_2432_01.nc', 'ocean-3d-temp-1-monthly-mean-ym_2497_01.nc', 'ocean-3d-temp-1-monthly-mean-ym_2460_01.nc', 'ocean-3d-temp-1-monthly-mean-ym_2447_01.nc', 'ocean-3d-temp-1-monthly-mean-ym_2425_01.nc', 'ocean-3d-temp-1-monthly-mean-ym_2435_01.nc', 'ocean-3d-temp-1-monthly-mean-ym_2489_01.nc', 'ocean-3d-temp-1-monthly-mean-ym_2470_01.nc', 'ocean-3d-temp-1-monthly-mean-ym_2494_01.nc', 'ocean-3d-temp-1-monthly-mean-ym_2416_01.nc', 'ocean-3d-temp-1-monthly-mean-ym_2481_01.nc', 'ocean-3d-temp-1-monthly-mean-ym_2468_01.nc', 'ocean-3d-temp-1-monthly-mean-ym_2419_01.nc', 'ocean-3d-temp-1-monthly-mean-ym_2482_01.nc', 'ocean-3d-temp-1-monthly-mean-ym_2401_01.nc', 'ocean-3d-temp-1-monthly-mean-ym_2454_01.nc', 'ocean-3d-temp-1-monthly-mean-ym_2464_01.nc', 'ocean-3d-temp-1-monthly-mean-ym_2450_01.nc', 'ocean-3d-temp-1-monthly-mean-ym_2402_01.nc', 'ocean-3d-temp-1-monthly-mean-ym_2478_01.nc', 'ocean-3d-temp-1-monthly-mean-ym_2484_01.nc', 'ocean-3d-temp-1-monthly-mean-ym_2443_01.nc', 'ocean-3d-temp-1-monthly-mean-ym_2445_01.nc', 'ocean-3d-temp-1-monthly-mean-ym_2486_01.nc', 'ocean-3d-temp-1-monthly-mean-ym_2465_01.nc', 'ocean-3d-temp-1-monthly-mean-ym_2485_01.nc', 'ocean-3d-temp-1-monthly-mean-ym_2414_01.nc', 'ocean-3d-temp-1-monthly-mean-ym_2458_01.nc', 'ocean-3d-temp-1-monthly-mean-ym_2452_01.nc', 'ocean-3d-temp-1-monthly-mean-ym_2440_01.nc', 'ocean-3d-temp-1-monthly-mean-ym_2488_01.nc', 'ocean-3d-temp-1-monthly-mean-ym_2410_01.nc', 'ocean-3d-temp-1-monthly-mean-ym_2496_01.nc', 'ocean-3d-temp-1-monthly-mean-ym_2424_01.nc', 'ocean-3d-temp-1-monthly-mean-ym_2406_01.nc', 'ocean-3d-temp-1-monthly-mean-ym_2469_01.nc', 'ocean-3d-temp-1-monthly-mean-ym_2471_01.nc', 'ocean-3d-temp-1-monthly-mean-ym_2412_01.nc', 'ocean-3d-temp-1-monthly-mean-ym_2448_01.nc', 'ocean-3d-temp-1-monthly-mean-ym_2422_01.nc', 'ocean-3d-temp-1-monthly-mean-ym_2491_01.nc', 'ocean-3d-temp-1-monthly-mean-ym_2466_01.nc', 'ocean-3d-temp-1-monthly-mean-ym_2475_01.nc', 'ocean-3d-temp-1-monthly-mean-ym_2456_01.nc'}. This could lead to unexpected behaviour! Disambiguate by passing ncfile= to getvar, specifying the desired file.\n",
      "  warnings.warn(\n",
      "\n"
     ]
    }
   ],
   "source": [
    "yr_beg = '2400-01-16'\n",
    "\n",
    "expt = '1deg_jra55_ryf_cont'\n",
    "var = 'temp'\n",
    "frequency = '1 monthly'\n",
    "temp_cont = cc.querying.getvar(expt, var, session, start_time = yr_beg).groupby('time.year').mean(dim='time').chunk(chunks='auto').load()"
   ]
  },
  {
   "cell_type": "code",
   "execution_count": 17,
   "metadata": {
    "collapsed": true,
    "jupyter": {
     "outputs_hidden": true
    }
   },
   "outputs": [
    {
     "name": "stderr",
     "output_type": "stream",
     "text": [
      "WARNING:py.warnings:/g/data3/hh5/public/apps/miniconda3/envs/analysis3-21.01/lib/python3.8/site-packages/cosima_cookbook/querying.py:241: UserWarning: Your query gets a variable from differently-named files: {'ocean-3d-dzt-1-monthly-mean-ym_2494_01.nc', 'ocean-3d-dzt-1-monthly-mean-ym_2424_01.nc', 'ocean-3d-dzt-1-monthly-mean-ym_2463_01.nc', 'ocean-3d-dzt-1-monthly-mean-ym_2447_01.nc', 'ocean-3d-dzt-1-monthly-mean-ym_2451_01.nc', 'ocean-3d-dzt-1-monthly-mean-ym_2418_01.nc', 'ocean-3d-dzt-1-monthly-mean-ym_2479_01.nc', 'ocean-3d-dzt-1-monthly-mean-ym_2403_01.nc', 'ocean-3d-dzt-1-monthly-mean-ym_2441_01.nc', 'ocean-3d-dzt-1-monthly-mean-ym_2467_01.nc', 'ocean-3d-dzt-1-monthly-mean-ym_2430_01.nc', 'ocean-3d-dzt-1-monthly-mean-ym_2483_01.nc', 'ocean-3d-dzt-1-monthly-mean-ym_2486_01.nc', 'ocean-3d-dzt-1-monthly-mean-ym_2480_01.nc', 'ocean-3d-dzt-1-monthly-mean-ym_2452_01.nc', 'ocean-3d-dzt-1-monthly-mean-ym_2408_01.nc', 'ocean-3d-dzt-1-monthly-mean-ym_2409_01.nc', 'ocean-3d-dzt-1-monthly-mean-ym_2460_01.nc', 'ocean-3d-dzt-1-monthly-mean-ym_2465_01.nc', 'ocean-3d-dzt-1-monthly-mean-ym_2482_01.nc', 'ocean-3d-dzt-1-monthly-mean-ym_2472_01.nc', 'ocean-3d-dzt-1-monthly-mean-ym_2406_01.nc', 'ocean-3d-dzt-1-monthly-mean-ym_2402_01.nc', 'ocean-3d-dzt-1-monthly-mean-ym_2481_01.nc', 'ocean-3d-dzt-1-monthly-mean-ym_2476_01.nc', 'ocean-3d-dzt-1-monthly-mean-ym_2414_01.nc', 'ocean-3d-dzt-1-monthly-mean-ym_2411_01.nc', 'ocean-3d-dzt-1-monthly-mean-ym_2405_01.nc', 'ocean-3d-dzt-1-monthly-mean-ym_2434_01.nc', 'ocean-3d-dzt-1-monthly-mean-ym_2492_01.nc', 'ocean-3d-dzt-1-monthly-mean-ym_2454_01.nc', 'ocean-3d-dzt-1-monthly-mean-ym_2475_01.nc', 'ocean-3d-dzt-1-monthly-mean-ym_2404_01.nc', 'ocean-3d-dzt-1-monthly-mean-ym_2453_01.nc', 'ocean-3d-dzt-1-monthly-mean-ym_2478_01.nc', 'ocean-3d-dzt-1-monthly-mean-ym_2464_01.nc', 'ocean-3d-dzt-1-monthly-mean-ym_2498_01.nc', 'ocean-3d-dzt-1-monthly-mean-ym_2487_01.nc', 'ocean-3d-dzt-1-monthly-mean-ym_2436_01.nc', 'ocean-3d-dzt-1-monthly-mean-ym_2445_01.nc', 'ocean-3d-dzt-1-monthly-mean-ym_2444_01.nc', 'ocean-3d-dzt-1-monthly-mean-ym_2473_01.nc', 'ocean-3d-dzt-1-monthly-mean-ym_2423_01.nc', 'ocean-3d-dzt-1-monthly-mean-ym_2416_01.nc', 'ocean-3d-dzt-1-monthly-mean-ym_2468_01.nc', 'ocean-3d-dzt-1-monthly-mean-ym_2490_01.nc', 'ocean-3d-dzt-1-monthly-mean-ym_2474_01.nc', 'ocean-3d-dzt-1-monthly-mean-ym_2422_01.nc', 'ocean-3d-dzt-1-monthly-mean-ym_2425_01.nc', 'ocean-3d-dzt-1-monthly-mean-ym_2488_01.nc', 'ocean-3d-dzt-1-monthly-mean-ym_2417_01.nc', 'ocean-3d-dzt-1-monthly-mean-ym_2459_01.nc', 'ocean-3d-dzt-1-monthly-mean-ym_2438_01.nc', 'ocean-3d-dzt-1-monthly-mean-ym_2471_01.nc', 'ocean-3d-dzt-1-monthly-mean-ym_2458_01.nc', 'ocean-3d-dzt-1-monthly-mean-ym_2410_01.nc', 'ocean-3d-dzt-1-monthly-mean-ym_2496_01.nc', 'ocean-3d-dzt-1-monthly-mean-ym_2462_01.nc', 'ocean-3d-dzt-1-monthly-mean-ym_2412_01.nc', 'ocean-3d-dzt-1-monthly-mean-ym_2461_01.nc', 'ocean-3d-dzt-1-monthly-mean-ym_2429_01.nc', 'ocean-3d-dzt-1-monthly-mean-ym_2433_01.nc', 'ocean-3d-dzt-1-monthly-mean-ym_2426_01.nc', 'ocean-3d-dzt-1-monthly-mean-ym_2457_01.nc', 'ocean-3d-dzt-1-monthly-mean-ym_2450_01.nc', 'ocean-3d-dzt-1-monthly-mean-ym_2401_01.nc', 'ocean-3d-dzt-1-monthly-mean-ym_2437_01.nc', 'ocean-3d-dzt-1-monthly-mean-ym_2443_01.nc', 'ocean-3d-dzt-1-monthly-mean-ym_2432_01.nc', 'ocean-3d-dzt-1-monthly-mean-ym_2499_01.nc', 'ocean-3d-dzt-1-monthly-mean-ym_2477_01.nc', 'ocean-3d-dzt-1-monthly-mean-ym_2419_01.nc', 'ocean-3d-dzt-1-monthly-mean-ym_2470_01.nc', 'ocean-3d-dzt-1-monthly-mean-ym_2493_01.nc', 'ocean-3d-dzt-1-monthly-mean-ym_2415_01.nc', 'ocean-3d-dzt-1-monthly-mean-ym_2400_01.nc', 'ocean-3d-dzt-1-monthly-mean-ym_2407_01.nc', 'ocean-3d-dzt-1-monthly-mean-ym_2420_01.nc', 'ocean-3d-dzt-1-monthly-mean-ym_2491_01.nc', 'ocean-3d-dzt-1-monthly-mean-ym_2495_01.nc', 'ocean-3d-dzt-1-monthly-mean-ym_2497_01.nc', 'ocean-3d-dzt-1-monthly-mean-ym_2440_01.nc', 'ocean-3d-dzt-1-monthly-mean-ym_2448_01.nc', 'ocean-3d-dzt-1-monthly-mean-ym_2421_01.nc', 'ocean-3d-dzt-1-monthly-mean-ym_2489_01.nc', 'ocean-3d-dzt-1-monthly-mean-ym_2428_01.nc', 'ocean-3d-dzt-1-monthly-mean-ym_2469_01.nc', 'ocean-3d-dzt-1-monthly-mean-ym_2484_01.nc', 'ocean-3d-dzt-1-monthly-mean-ym_2446_01.nc', 'ocean-3d-dzt-1-monthly-mean-ym_2431_01.nc', 'ocean-3d-dzt-1-monthly-mean-ym_2466_01.nc', 'ocean-3d-dzt-1-monthly-mean-ym_2442_01.nc', 'ocean-3d-dzt-1-monthly-mean-ym_2413_01.nc', 'ocean-3d-dzt-1-monthly-mean-ym_2449_01.nc', 'ocean-3d-dzt-1-monthly-mean-ym_2439_01.nc', 'ocean-3d-dzt-1-monthly-mean-ym_2485_01.nc', 'ocean-3d-dzt-1-monthly-mean-ym_2455_01.nc', 'ocean-3d-dzt-1-monthly-mean-ym_2435_01.nc', 'ocean-3d-dzt-1-monthly-mean-ym_2427_01.nc', 'ocean-3d-dzt-1-monthly-mean-ym_2456_01.nc'}. This could lead to unexpected behaviour! Disambiguate by passing ncfile= to getvar, specifying the desired file.\n",
      "  warnings.warn(\n",
      "\n"
     ]
    }
   ],
   "source": [
    "variable_to_average = temp_cont\n",
    "coord = 'geolat_t'\n",
    "variable_as_coord = cc.querying.getvar(expt, coord, session, n=1).load()\n",
    "yu_ocean = cc.querying.getvar(expt, 'yu_ocean', session, n=1).load()\n",
    "bins =  np.insert(yu_ocean.values, 0, np.array(-90), axis=0) \n",
    "dzt = cc.querying.getvar(expt, 'dzt', session, start_time = yr_beg).groupby('time.year').mean(dim='time') #thickness of cells\n",
    "area_t = cc.querying.getvar(expt, 'area_t', session, n=1) # area of cells\n",
    "dVol = (dzt * area_t).load() #Volume of cells\n",
    "\n",
    "histVolCoordDepth = histogram(variable_as_coord.broadcast_like(dVol).where(~np.isnan(dVol)), bins = [bins], weights = dVol, dim = ['yt_ocean', 'xt_ocean'])\n",
    "histTVolCoordDepth = histogram(variable_as_coord.broadcast_like(dVol).where(~np.isnan(dVol)), bins = [bins], weights = dVol * variable_to_average, dim = ['yt_ocean', 'xt_ocean'])\n",
    "temp_cont_zonal_ave = (histTVolCoordDepth / histVolCoordDepth)"
   ]
  },
  {
   "cell_type": "code",
   "execution_count": 84,
   "metadata": {},
   "outputs": [
    {
     "data": {
      "image/png": "[encoded data removed]",
      "text/plain": [
       "<Figure size 792x792 with 1 Axes>"
      ]
     },
     "metadata": {
      "needs_background": "light"
     },
     "output_type": "display_data"
    }
   ],
   "source": [
    "plt.figure(figsize=(11,11))\n",
    "lat_lim = 66.5\n",
    "plt.plot((temp_cont_zonal_ave.sel(st_ocean = slice(0, 1050)).sel(geolat_t_bin = slice(-lat_lim, lat_lim)).mean(dim = 'geolat_t_bin').mean(dim = 'year') - 273.15).values, \\\n",
    "         (temp_cont_zonal_ave.sel(st_ocean = slice(0, 1050)).sel(geolat_t_bin = slice(-lat_lim, lat_lim)).mean(dim = 'geolat_t_bin').mean(dim = 'year')['st_ocean']))\n",
    "plt.title('Globally avergaed temperature profile between {}S and {}N in control, annually averaged over 100 years'.format(lat_lim, lat_lim))\n",
    "plt.xlabel('Deg (C)')\n",
    "plt.ylabel('Depth (m)')\n",
    "plt.gca().invert_yaxis()"
   ]
  },
  {
   "cell_type": "code",
   "execution_count": 80,
   "metadata": {},
   "outputs": [],
   "source": [
    "T_for_one_dim_model = temp_cont_zonal_ave.sel(st_ocean = slice(0, 1050)).sel(geolat_t_bin = slice(-lat_lim, lat_lim)).mean(dim = 'geolat_t_bin').mean(dim = 'year') - 273.15\n",
    "T_t = T_for_one_dim_model.values\n",
    "z_t = T_for_one_dim_model['st_ocean'].values"
   ]
  },
  {
   "cell_type": "code",
   "execution_count": 81,
   "metadata": {},
   "outputs": [
    {
     "data": {
      "text/plain": [
       "(array([27.14607106, 27.13324037, 27.11532038, 27.09157359, 27.05303047,\n",
       "        26.99940227, 26.90575061, 26.7421736 , 26.47303201, 26.07777922,\n",
       "        25.55533381, 24.8782619 , 23.96874268, 22.71262596, 21.01500463,\n",
       "        19.13799197, 17.45100166, 16.03286975, 14.75540181, 13.53766921,\n",
       "        12.29218774, 11.08185742,  9.98923226,  8.97820451,  8.04806038,\n",
       "         7.17267913,  6.32982906,  5.52776851,  4.7684474 ]),\n",
       " array([   1.15174985,    3.64867401,    6.56491852,    9.97086906,\n",
       "          13.94870853,   18.59437943,   24.01987267,   30.35588455,\n",
       "          37.75489044,   46.39470291,   56.48257065,   68.25986481,\n",
       "          82.00740814,   98.0514679 ,  116.7703476 ,  138.60160828,\n",
       "         164.04943848,  193.69206238,  228.18814087,  268.28121948,\n",
       "         314.8001709 ,  368.65353394,  430.81393433,  502.28930664,\n",
       "         584.0770874 ,  677.10028076,  782.12670898,  899.6817627 ,\n",
       "        1029.96813965]))"
      ]
     },
     "execution_count": 81,
     "metadata": {},
     "output_type": "execute_result"
    }
   ],
   "source": [
    "T_t, z_t"
   ]
  }
 ],
 "metadata": {
  "kernelspec": {
   "display_name": "Python 3",
   "language": "python",
   "name": "python3"
  },
  "language_info": {
   "codemirror_mode": {
    "name": "ipython",
    "version": 3
   },
   "file_extension": ".py",
   "mimetype": "text/x-python",
   "name": "python",
   "nbconvert_exporter": "python",
   "pygments_lexer": "ipython3",
   "version": "3.8.6"
  }
 },
 "nbformat": 4,
 "nbformat_minor": 4
}
