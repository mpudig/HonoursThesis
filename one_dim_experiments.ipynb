{
 "cells": [
  {
   "cell_type": "code",
   "execution_count": 1,
   "metadata": {},
   "outputs": [],
   "source": [
    "import numpy as np\n",
    "import matplotlib.pyplot as plt\n",
    "import matplotlib.animation as animation\n",
    "from matplotlib.colors import TwoSlopeNorm\n",
    "import cmocean as cm\n",
    "\n",
    "from one_dim_model import *\n",
    "# one_dim_model is the python script, not the jupyter notebook"
   ]
  },
  {
   "cell_type": "code",
   "execution_count": 2,
   "metadata": {},
   "outputs": [],
   "source": [
    "# Constants, data, parameters...\n",
    "\n",
    "rho = 1025 # kg/m^3\n",
    "c = 4000 # J/(kg C)\n",
    "\n",
    "dt = 10.0 * 86400 # units: s\n",
    "dz = 5 # units: m\n",
    "\n",
    "T_top = 24 # Top temperature\n",
    "T_bot = 6 # Bottom temperature\n",
    "\n",
    "z_mix = 50.0 # Depth of minimum mixing layer\n",
    "z_base = 1000 # Depth of thermocline\n",
    "\n",
    "# Initial condition, e.g. here we just use a linearly stratified profile\n",
    "\n",
    "z = np.linspace(0.0, z_base, int(z_base / dz) + 1)\n",
    "steady = steady_state(z)"
   ]
  },
  {
   "cell_type": "code",
   "execution_count": 5,
   "metadata": {},
   "outputs": [],
   "source": [
    "# Experimental parameters\n",
    "\n",
    "years = 50\n",
    "days = dt / 86400\n",
    "N = int(years * 360 / days)\n",
    "t = np.linspace(0.0, years * 360, N + 1)\n",
    "\n",
    "kappa = 5e-6\n",
    "gamma_year = 1.3\n",
    "gamma = 1/(gamma_year * 365 * 86400)\n",
    "mu_year = 100\n",
    "mu = 1/(mu_year * 365 * 86400)"
   ]
  },
  {
   "cell_type": "code",
   "execution_count": 20,
   "metadata": {},
   "outputs": [],
   "source": [
    "### Generate parameter space\n",
    "\n",
    "Qv = np.arange(1.0, 3.0 + 0.2, 0.2)\n",
    "T0v = np.arange(0.5, 1.0 + 0.01, 0.1)\n",
    "kappav = np.arange(1e-6, 1e-5 + 1e-7, 1e-6)\n",
    "gammav = np.arange(0.5, 2.9 + 0.2, 0.2)\n",
    "\n",
    "num_of_expts = Qv.shape[0] * T0v.shape[0] * kappav.shape[0] * gammav.shape[0]"
   ]
  },
  {
   "cell_type": "code",
   "execution_count": 27,
   "metadata": {},
   "outputs": [
    {
     "data": {
      "text/plain": [
       "6.673333333333333"
      ]
     },
     "execution_count": 27,
     "metadata": {},
     "output_type": "execute_result"
    }
   ],
   "source": [
    "num_of_expts * 2.8 / 3600"
   ]
  },
  {
   "cell_type": "markdown",
   "metadata": {},
   "source": [
    "### Run the model"
   ]
  },
  {
   "cell_type": "code",
   "execution_count": 22,
   "metadata": {},
   "outputs": [
    {
     "name": "stdout",
     "output_type": "stream",
     "text": [
      "2.71 s ± 7.28 ms per loop (mean ± std. dev. of 7 runs, 1 loop each)\n"
     ]
    }
   ],
   "source": [
    "%%timeit\n",
    "\n",
    "# Control \n",
    "\n",
    "Q = np.ones(int(years * 360 / days) + 1) * 0.0\n",
    "T0 = np.ones(int(years * 360 / days) + 1) * 0.0\n",
    "control = FTCS(dt, dz, kappa, gamma, mu, z_mix, years, steady, Q, T0)"
   ]
  },
  {
   "cell_type": "code",
   "execution_count": 23,
   "metadata": {},
   "outputs": [
    {
     "name": "stdout",
     "output_type": "stream",
     "text": [
      "2.83 s ± 2.03 ms per loop (mean ± std. dev. of 7 runs, 1 loop each)\n"
     ]
    }
   ],
   "source": [
    "%%timeit\n",
    "\n",
    "# Cool\n",
    "\n",
    "Q = np.ones(int(years * 360 / days) + 1) * - 2.0\n",
    "T0 = np.ones(int(years * 360 / days) + 1) * - 1.0\n",
    "cool = FTCS(dt, dz, kappa, gamma, mu, z_mix, years, steady, Q, T0)"
   ]
  },
  {
   "cell_type": "code",
   "execution_count": 24,
   "metadata": {},
   "outputs": [
    {
     "name": "stdout",
     "output_type": "stream",
     "text": [
      "2.72 s ± 17 ms per loop (mean ± std. dev. of 7 runs, 1 loop each)\n"
     ]
    }
   ],
   "source": [
    "%%timeit\n",
    "\n",
    "# Warm\n",
    "\n",
    "Q = np.ones(int(years * 360 / days) + 1) * 2.0\n",
    "T0 = np.ones(int(years * 360 / days) + 1) * 1.0\n",
    "warm = FTCS(dt, dz, kappa, gamma, mu, z_mix, years, steady, Q, T0)"
   ]
  },
  {
   "cell_type": "code",
   "execution_count": 44,
   "metadata": {},
   "outputs": [
    {
     "data": {
      "text/plain": [
       "(200, 1801)"
      ]
     },
     "execution_count": 44,
     "metadata": {},
     "output_type": "execute_result"
    }
   ],
   "source": [
    "warm.shape"
   ]
  },
  {
   "cell_type": "code",
   "execution_count": 51,
   "metadata": {},
   "outputs": [
    {
     "data": {
      "text/plain": [
       "0.6864"
      ]
     },
     "execution_count": 51,
     "metadata": {},
     "output_type": "execute_result"
    }
   ],
   "source": [
    "control.itemsize * control.size # size of the warm array in bytes\n",
    "\n",
    "control.itemsize * control.size * num_of_expts / 1e+9 # size of experiment array in gigabytes... large! should I annually average first?\n",
    "control.itemsize * 200 * 50 * num_of_expts / 1e+9 # annually average it before storing and you get a muuuuuch smaller array :)"
   ]
  },
  {
   "cell_type": "markdown",
   "metadata": {},
   "source": [
    "### Run lots n lots of experiments!\n",
    "\n",
    "Below, we run experiments for all combinations of parameters in the (Qv, T0v, kappav, gammav) space as defined above. We will then create a cost function (a (|z| - 1) x |Qv| x |T0v| x |kappav| x |gammav| array) which seeks to minimise the sum of squares of residuals between the experimental curves and the 'truth' curve (where the 'truth' is the output from ACCESS-OM2) for each climate variable (e.g., global average temperature anomaly, SST anomaly).\n",
    "\n",
    "We will store the output (a (|z| - 1) x |t| array of temperature profiles over time) from each experiment in a large array, $T$, ie \n",
    "\n",
    "$$T = \\big(T_{ijkl}(z, t)\\big),$$ \n",
    "\n",
    "where each $T_{ijkl}(z, t)$ contains one experiment corresponding to some unique combination of the $Q_i, T_{0j}, \\kappa_k,$ and $\\gamma_l$ paramaters.\n",
    "\n",
    "Using the experiment array, we can globally average and anomalise with respect to the control simulations for each paramater (only $\\gamma$ and $\\kappa$ influence the control) to get an array of global average temperature anomalies $$\\overline{T}' = \\big(\\overline{T}'_{ijkl}(t)\\big).$$ If we denote the global average temperature anomaly from ACCESS $\\overline{T}'_{3D}$, then the we define the cost function (a |Qv| x |T0v| x |kappav| x |gammav| array) \n",
    "\n",
    "$$C = (c_{ijkl}),$$ \n",
    "\n",
    "where \n",
    "\n",
    "$$c_{ijkl} = \\sum_{n = 1}^{final} \\big(\\overline{T}'_{3D}(t_n) - \\overline{T}'_{ijkl}(t_n)\\big)^2.$$ Then, the optimal paramaters will be chosen to be those that correspond to the indicies of\n",
    "\n",
    "$$\\min_{ijkl} C.$$\n",
    "\n",
    "Then do the same for SST. Then, the optimal"
   ]
  },
  {
   "cell_type": "code",
   "execution_count": null,
   "metadata": {},
   "outputs": [],
   "source": []
  },
  {
   "cell_type": "code",
   "execution_count": null,
   "metadata": {},
   "outputs": [],
   "source": []
  },
  {
   "cell_type": "code",
   "execution_count": null,
   "metadata": {},
   "outputs": [],
   "source": []
  },
  {
   "cell_type": "code",
   "execution_count": null,
   "metadata": {},
   "outputs": [],
   "source": []
  },
  {
   "cell_type": "code",
   "execution_count": null,
   "metadata": {},
   "outputs": [],
   "source": []
  },
  {
   "cell_type": "code",
   "execution_count": null,
   "metadata": {},
   "outputs": [],
   "source": []
  },
  {
   "cell_type": "code",
   "execution_count": null,
   "metadata": {},
   "outputs": [],
   "source": []
  },
  {
   "cell_type": "code",
   "execution_count": null,
   "metadata": {},
   "outputs": [],
   "source": []
  },
  {
   "cell_type": "code",
   "execution_count": null,
   "metadata": {},
   "outputs": [],
   "source": []
  },
  {
   "cell_type": "code",
   "execution_count": 19,
   "metadata": {},
   "outputs": [
    {
     "data": {
      "text/plain": [
       "<matplotlib.legend.Legend at 0x14d31ea38fd0>"
      ]
     },
     "execution_count": 19,
     "metadata": {},
     "output_type": "execute_result"
    },
    {
     "data": {
      "image/png": "[encoded data removed]",
      "text/plain": [
       "<Figure size 1800x648 with 2 Axes>"
      ]
     },
     "metadata": {
      "needs_background": "light"
     },
     "output_type": "display_data"
    }
   ],
   "source": [
    "# Plot\n",
    "\n",
    "days = dt / 86400\n",
    "timesteps = control.shape[1]\n",
    "length = (timesteps - 1) * days / 365 \n",
    "time_years = np.linspace(0, length, timesteps)\n",
    "\n",
    "#Calculate ocean heat content\n",
    "GAT_control = OHC(control)\n",
    "GAT_cool = OHC(cool)\n",
    "GAT_warm = OHC(warm)\n",
    "# GAT_coolx2 = OHC(coolx2)\n",
    "# GAT_warmx2 = OHC(warmx2)\n",
    "# GAT_coolxhalf = OHC(coolxhalf)\n",
    "# GAT_warmxhalf = OHC(warmxhalf)\n",
    "\n",
    "fig, axs = plt.subplots(ncols=2, nrows=1, figsize=(25,9))\n",
    "\n",
    "axs[0].plot(time_years, - 1 * (GAT_cool - GAT_control), color='b', label='Cooling x $-1$')\n",
    "#axs[0].plot(time_years, - 2 * (GAT_coolxhalf - GAT_control), color='b', label='Half cooling x $-2$', linestyle = '-.')\n",
    "#axs[0].plot(time_years, - 0.5 * (GAT_coolx2 - GAT_control), color='b', label='Double cooling x $-0.5$', linestyle = '--')\n",
    "axs[0].plot(time_years, GAT_warm - GAT_control, color='r', label='Warming')\n",
    "#axs[0].plot(time_years, 2 * (GAT_warmxhalf - GAT_control), color='r', label='Half warming x $2$', linestyle = '-.')\n",
    "#axs[0].plot(time_years, 0.5 * (GAT_warmx2 - GAT_control), color='r', label='Double warming', linestyle = '--')\n",
    "#axs[0].plot(time_years, (GAT_warm - GAT_control) + (GAT_cool - GAT_control))\n",
    "axs[0].grid()\n",
    "axs[0].set_title('Average temperature, $\\kappa$ = {} m$^2$/s, $1/\\gamma$ = {} yr, Q = {} W/m$^2$, T0 = {} K'.format(kappa, gamma_year, Q[0], T0[0]), fontsize = 16)\n",
    "axs[0].set_ylabel('Average temperature anomaly (K)', fontsize = 14)\n",
    "axs[0].set_xlabel('Years', fontsize = 14)\n",
    "axs[0].legend()\n",
    "\n",
    "axs[1].plot(time_years,  - 1 * (cool[0, :] - control[0, :]), color='b', label='Cooling x $-1$')\n",
    "#axs[1].plot(time_years,  - 2 * (coolxhalf[0, :] - control[0, :]), color='b', label='Half cooling x $-2$', linestyle = '-.')\n",
    "#axs[1].plot(time_years,  - 0.5 * (coolx2[0, :] - control[0, :]), color='b', label='Double cooling x $-0.5$', linestyle = '--')\n",
    "axs[1].plot(time_years, warm[0, :] - control[0, :], color='r',label='Warming')\n",
    "#axs[1].plot(time_years,  2 * (warmxhalf[0, :] - control[0, :]), color='r', label='Double warming x $2$', linestyle = '-.')\n",
    "#axs[1].plot(time_years, 0.5 * (warmx2[0, :] - control[0, :]), color='r',label='Double warming x $0.5', linestyle = '--')\n",
    "#axs[1].plot(time_years, (warm_expt[0, :] - control_expt[0, :]) + (cool_expt[0, :] - control_expt[0, :]))\n",
    "axs[1].grid()\n",
    "axs[1].set_title('SST, $\\kappa$ = {} m$^2$/s, $1/\\gamma$ = {} yr, Q = {} W/m$^2$, T0 = {} K'.format(kappa, gamma_year, Q[0], T0[0]), fontsize = 16)\n",
    "axs[1].set_ylabel('SST anomaly (K)', fontsize = 14)\n",
    "axs[1].set_xlabel('Years',fontsize = 14)\n",
    "axs[1].legend()\n",
    "#plt.savefig('SST and OHC anomalies, single abrupt, kappa = {}, Q = {}, gamma = {}.jpg'.format(kappa, Q, gamma_year))"
   ]
  },
  {
   "cell_type": "code",
   "execution_count": null,
   "metadata": {},
   "outputs": [],
   "source": []
  }
 ],
 "metadata": {
  "kernelspec": {
   "display_name": "Python 3",
   "language": "python",
   "name": "python3"
  },
  "language_info": {
   "codemirror_mode": {
    "name": "ipython",
    "version": 3
   },
   "file_extension": ".py",
   "mimetype": "text/x-python",
   "name": "python",
   "nbconvert_exporter": "python",
   "pygments_lexer": "ipython3",
   "version": "3.8.6"
  }
 },
 "nbformat": 4,
 "nbformat_minor": 4
}
