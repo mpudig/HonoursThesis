{
 "cells": [
  {
   "cell_type": "code",
   "execution_count": null,
   "id": "c26b3e84-5065-4d84-bf55-3c082e213d12",
   "metadata": {},
   "outputs": [],
   "source": [
    "import cosima_cookbook as cc\n",
    "import numpy as np\n",
    "import xarray as xr\n",
    "import pandas as pd\n",
    "import matplotlib.pyplot as plt\n",
    "import cmocean as cm\n",
    "from scipy.optimize import curve_fit\n",
    "from xhistogram.xarray import histogram\n",
    "from scipy.optimize import fsolve\n",
    "\n",
    "from dask.distributed import Client\n",
    "\n",
    "%matplotlib inline"
   ]
  },
  {
   "cell_type": "markdown",
   "id": "6dcfc6c4-1a4c-4da1-8901-682cd869776e",
   "metadata": {},
   "source": [
    "### 1D model"
   ]
  },
  {
   "cell_type": "code",
   "execution_count": 27,
   "id": "1b22477c-ad4a-4ddc-954f-a88b30f3cdb2",
   "metadata": {},
   "outputs": [],
   "source": [
    "# Constants, data, parameters\n",
    "\n",
    "rho = 1035 # kg/m^3\n",
    "c = 4000 # J/(kg C)\n",
    "\n",
    "z_m = 25.0 # Depth of minimum mixing layer\n",
    "z_d = 900.0 # Depth for deep ocean restoring term\n",
    "z_b = 1000.0 # Depth of thermocline\n",
    "\n",
    "lambd = 8/(1.2 - 1.0)\n",
    "gamma = lambd / (rho*c*z_m)\n",
    "kappa = 0\n",
    "mu = 1/(5 * 365 * 86400)\n",
    "\n",
    "T_0 = 22.0 # Top temperature for initial condition\n",
    "T_b = 5.0 # Bottom temperature for initial condition (this warms up a bit during runs because of the no-flux at bottom condition)\n",
    "\n",
    "dt = 10.0 * 86400 # units: s\n",
    "dz = 5.0 # units: m\n",
    "\n",
    "z = np.linspace(0.0, z_b, int(z_b / dz) + 1) # Depth at top/bottom of grid cell\n",
    "z_t = (z[1:] + z[:-1]) / 2 # Depth at the middle of grid cell\n",
    "\n",
    "# Initial condition: constant in mixing layer, linearly stratified elsewhere\n",
    "\n",
    "def initial_condition(z_t):\n",
    "    mixing_index = (np.abs(z_t - z_m)).argmin() # Index in z_t exactly dz / 2 m above z_m.\n",
    "    mixing_layer = T_0 * np.ones(mixing_index + 1)\n",
    "    z_t = z_t[mixing_index + 1:]\n",
    "    thermocline = ((T_0 - T_b) * z_t - (T_0 * z_b - T_b * z_m)) / (z_m - z_b)\n",
    "    return np.concatenate((mixing_layer, thermocline), axis = None)\n",
    "\n",
    "T_i = initial_condition(z_t)\n",
    "\n",
    "\n",
    "### Intermediate functions\n",
    "\n",
    "def convective_adjustment(T, z_m):\n",
    "        \n",
    "    def mixing_Rahmstorf(T):\n",
    "        \n",
    "        for i in range(len(T) - 1):\n",
    "            \n",
    "            if T[i] < T[i + 1]:\n",
    "                \n",
    "                j = 0\n",
    "                \n",
    "                # This loop mixes the instability downwards\n",
    "                \n",
    "                while T[i + j] < T[i + j + 1]:\n",
    "                    \n",
    "                    T[i : i + j + 2] = np.mean(T[i : i + j + 2])\n",
    "                    \n",
    "                    j += 1\n",
    "                    \n",
    "                break\n",
    "            \n",
    "        return T\n",
    "    \n",
    "    \n",
    "    # Run the Rahmstorf mixing algorithm until the instability has been eliminated from the water column (i.e., from the mixing layer) \n",
    "    \n",
    "    for k in range(int(z_m / dz) + 1):\n",
    "        \n",
    "        mixing_Rahmstorf(T)\n",
    "    \n",
    "    return mixing_Rahmstorf(T)\n",
    "\n",
    "\n",
    "\n",
    "### The forward-in-time, central-in-space scheme with restoring and flux boundary conditions ###\n",
    "\n",
    "def model(dt, dz, z_m, z_d, z_b, kappa, lambd, T_initial, Q, T0, years):\n",
    "    \n",
    "    # Data\n",
    "    days = dt / 86400 # Timestep in days\n",
    "    M = int(z_b / dz) # Number of spatial steps evaluated at the top / bottom of the grid cell\n",
    "    N = int(years * 360 / days) # Number of timesteps in days (taking for simplicity 1 year = 360 days)\n",
    "    z = np.linspace(0.0, z_b, M + 1) # Depth at top / bottom of grid cell\n",
    "    z_t = (z[1:] + z[:-1]) / 2 # Depth at the middle of grid cell \n",
    "    t = np.linspace(0.0, years * 360, N + 1)\n",
    "    Hdeep = np.heaviside(z - z_d, 1) # 1 below z = z_d, 0 elsewhere\n",
    "    Hmix = np.heaviside(z_m - z, 0) # 1 above z = z_m, 0 elsewhere\n",
    "    radiative_forcing = Q / (c * rho * z_m)\n",
    "    \n",
    "    # Temperature and flux matrices. Prescribe initial and boundary conditions\n",
    "    T = np.zeros((M, N + 1)) # i.e., evaluated at the middle of grid cell\n",
    "    F = np.zeros((M + 1, N + 1)) # i.e., evaluated at the top / bottom of grid cell\n",
    "    \n",
    "    T[:, 0] = T_initial # Initial condition\n",
    "    F[0, :] = 0 # No flux at surface\n",
    "    F[- 1, :] = 0 # No flux at base\n",
    "        \n",
    "    for n in range(0, N):\n",
    "    \n",
    "        for m in range(1, M):\n",
    "            \n",
    "            F[m, n] = kappa / dz * (T[m - 1, n] - T[m, n])\n",
    "            \n",
    "        for m in range(0, M):\n",
    "             \n",
    "            #NB: T_i = T_i(z), the initial profile\n",
    "            \n",
    "            T[m, n + 1] = T[m, n] + dt / dz * (F[m, n] - F[m + 1, n]) \\\n",
    "            + dt * (radiative_forcing[n] - gamma * (T[m, n] - (T0[n] + T_i[m]))) * Hmix[m]  \\\n",
    "            - dt * mu * (T[m, n] - T_i[m]) * Hdeep[m]\n",
    "\n",
    "        #Convective adjustment step\n",
    "    \n",
    "        convective_adjustment(T[:, n + 1], z_m)\n",
    "        \n",
    "    return T"
   ]
  },
  {
   "cell_type": "code",
   "execution_count": 37,
   "id": "356d0bf1-e6b4-48a7-b2f1-22e07ea81f1f",
   "metadata": {},
   "outputs": [],
   "source": [
    "years=20\n",
    "days = dt / 86400\n",
    "N = int(years * 360 / days)\n",
    "t = np.linspace(0.0, years * 360, N + 1)\n",
    "\n",
    "# Control\n",
    "\n",
    "Q = np.append(0, np.zeros(int(years * 360 / days)))\n",
    "T0 = np.append(0, np.zeros(int(years * 360 / days)))\n",
    "onedim_cont_nokb = model(dt, dz, z_m, z_d, z_b, kappa, gamma, T_i, Q, T0, years)\n",
    "\n",
    "# # Step function perturbation\n",
    "\n",
    "# Q = np.append(0, np.ones(int(years * 360 / days)) * 8.0)\n",
    "# T0 = np.append(0, np.ones(int(years * 360 / days)) * 1.0)\n",
    "\n",
    "onedim_cool_nokb = model(dt, dz, z_m, z_d, z_b, kappa, gamma, T_i, - Q, - T0, years)\n",
    "onedim_warm_nokb = model(dt, dz, z_m, z_d, z_b, kappa, gamma, T_i, Q, T0, years)"
   ]
  },
  {
   "cell_type": "code",
   "execution_count": 26,
   "id": "8a54a246-49ca-4901-b261-2a75b6acbb9c",
   "metadata": {},
   "outputs": [
    {
     "data": {
      "text/plain": [
       "<matplotlib.legend.Legend at 0x14ac51eee130>"
      ]
     },
     "execution_count": 26,
     "metadata": {},
     "output_type": "execute_result"
    },
    {
     "data": {
      "image/png": "[encoded data removed]",
      "text/plain": [
       "<Figure size 504x792 with 1 Axes>"
      ]
     },
     "metadata": {
      "needs_background": "light"
     },
     "output_type": "display_data"
    }
   ],
   "source": [
    "plt.figure(figsize=(7,11))\n",
    "\n",
    "timestep = 4\n",
    "plt.plot(onedim_warm_nokb[:,timestep], z_t, label='warm', color='r')\n",
    "plt.plot(onedim_cool_nokb[:,0], z_t, label='initial', color='gray')\n",
    "plt.plot(onedim_cool_nokb[:,timestep], z_t, label='cool', color='b')\n",
    "\n",
    "plt.gca().invert_yaxis()\n",
    "plt.grid()\n",
    "plt.legend()\n",
    "         "
   ]
  }
 ],
 "metadata": {
  "kernelspec": {
   "display_name": "Python [conda env:analysis3]",
   "language": "python",
   "name": "conda-env-analysis3-py"
  },
  "language_info": {
   "codemirror_mode": {
    "name": "ipython",
    "version": 3
   },
   "file_extension": ".py",
   "mimetype": "text/x-python",
   "name": "python",
   "nbconvert_exporter": "python",
   "pygments_lexer": "ipython3",
   "version": "3.9.9"
  }
 },
 "nbformat": 4,
 "nbformat_minor": 5
}
