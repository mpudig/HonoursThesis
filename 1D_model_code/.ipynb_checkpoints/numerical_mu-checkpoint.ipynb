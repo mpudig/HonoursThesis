{
 "cells": [
  {
   "cell_type": "markdown",
   "metadata": {},
   "source": [
    "### This notebook solves numerically for a value of $\\mu$ to give a particular final base temperature"
   ]
  },
  {
   "cell_type": "code",
   "execution_count": 67,
   "metadata": {},
   "outputs": [],
   "source": [
    "import numpy as np\n",
    "import matplotlib.pyplot as plt\n",
    "from scipy.optimize import fsolve"
   ]
  },
  {
   "cell_type": "code",
   "execution_count": 106,
   "metadata": {},
   "outputs": [],
   "source": [
    "# Data\n",
    "\n",
    "rho = 1025 # kg/m^3\n",
    "c = 4000 # J/(kg C)\n",
    "\n",
    "z_m = 25.0 # Depth of minimum mixing layer\n",
    "z_d = 900.0 # Depth for deep ocean restoring term\n",
    "z_b = 1000.0 # Depth of thermocline\n",
    "\n",
    "lambd = 8/(1.2 - 1.0)\n",
    "gamma = lambd / (rho*c*z_m)\n",
    "kappa = 5e-06\n",
    "\n",
    "T_0 = 22.0 # Top temperature for initial condition\n",
    "T_b = 5.0 # Bottom temperature for initial condition (this warms up a bit during runs because of the no-flux at bottom condition)\n",
    "\n",
    "T_b_final = T_b + 0.4905\n",
    "\n",
    "\n",
    "def eqn(mu):\n",
    "    # Paramaters\n",
    "    A = (1 + np.exp(2 * np.sqrt(mu / kappa) * (z_b - z_d))) * np.exp(np.sqrt(mu / kappa) * z_d)\n",
    "    \n",
    "    B = (T_0 - T_b) / (z_m - z_b) * (z_m - z_d - np.sqrt(kappa / mu) * np.exp(np.sqrt(mu / kappa) * (z_b - z_d)))\n",
    "    \n",
    "    C = np.sqrt(gamma / kappa) * (np.exp(z_m * np.sqrt(gamma / kappa)) - np.exp( - z_m * np.sqrt(gamma / kappa))) * (z_d - z_m) \\\n",
    "    + np.exp(z_m * np.sqrt(gamma / kappa)) + np.exp( - z_m * np.sqrt(gamma / kappa))\n",
    "    \n",
    "    D = np.sqrt(gamma / kappa) * (np.exp(z_m * np.sqrt(gamma / kappa)) - np.exp( - z_m * np.sqrt(gamma / kappa)))\n",
    "    \n",
    "    E = (T_0 - T_b) / (z_m - z_b) * (1 - np.exp((z_b - z_d) * np.sqrt(mu / kappa)))\n",
    "    \n",
    "    F = np.sqrt(mu / kappa) * (1 - np.exp(2 * (z_b - z_d) * np.sqrt(mu / kappa))) * np.exp(z_d * np.sqrt(mu / kappa))\n",
    "    \n",
    "    # C_1\n",
    "    c_1 = (C * E + B * D) / (A * D - C * F)\n",
    "    \n",
    "    # The equation\n",
    "    equation = T_b_final - T_b - 2 * np.exp(np.sqrt(mu / kappa) * z_b) * c_1 - np.sqrt(kappa / mu) * (T_0 - T_b) / (z_m - z_b)\n",
    "    \n",
    "    return equation "
   ]
  },
  {
   "cell_type": "code",
   "execution_count": 107,
   "metadata": {},
   "outputs": [
    {
     "name": "stdout",
     "output_type": "stream",
     "text": [
      "5.005969099692949 years\n"
     ]
    }
   ],
   "source": [
    "mu_initial_guess = 1 / (11 * 365 * 86400) # 1 / 11 years^-1\n",
    "\n",
    "mu_numerical_soln = fsolve(eqn, mu_initial_guess)\n",
    "mu_numerical_soln = 1 / (mu_numerical_soln * 365 * 86400)\n",
    "\n",
    "print(f'{mu_numerical_soln[0]} years')"
   ]
  },
  {
   "cell_type": "code",
   "execution_count": null,
   "metadata": {},
   "outputs": [],
   "source": []
  }
 ],
 "metadata": {
  "kernelspec": {
   "display_name": "Python 3",
   "language": "python",
   "name": "python3"
  },
  "language_info": {
   "codemirror_mode": {
    "name": "ipython",
    "version": 3
   },
   "file_extension": ".py",
   "mimetype": "text/x-python",
   "name": "python",
   "nbconvert_exporter": "python",
   "pygments_lexer": "ipython3",
   "version": "3.8.6"
  }
 },
 "nbformat": 4,
 "nbformat_minor": 4
}
