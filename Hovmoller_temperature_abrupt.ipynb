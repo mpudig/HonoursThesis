{
 "cells": [
  {
   "cell_type": "markdown",
   "metadata": {},
   "source": [
    "This notebook generates a Hovmoller plot of temperature vs. depth for the abrupt experiments."
   ]
  },
  {
   "cell_type": "code",
   "execution_count": 1,
   "metadata": {},
   "outputs": [],
   "source": [
    "import cosima_cookbook as cc\n",
    "import numpy as np\n",
    "import xarray as xr\n",
    "import matplotlib.pyplot as plt\n",
    "import cmocean as cm\n",
    "import IPython.display\n",
    "\n",
    "from dask.distributed import Client\n",
    "\n",
    "%matplotlib inline"
   ]
  },
  {
   "cell_type": "code",
   "execution_count": 2,
   "metadata": {},
   "outputs": [
    {
     "data": {
      "text/html": [
       "<table style=\"border: 2px solid white;\">\n",
       "<tr>\n",
       "<td style=\"vertical-align: top; border: 0px solid white\">\n",
       "<h3 style=\"text-align: left;\">Client</h3>\n",
       "<ul style=\"text-align: left; list-style: none; margin: 0; padding: 0;\">\n",
       "  <li><b>Scheduler: </b>tcp://127.0.0.1:46681</li>\n",
       "  <li><b>Dashboard: </b><a href='/proxy/43205/status' target='_blank'>/proxy/43205/status</a></li>\n",
       "</ul>\n",
       "</td>\n",
       "<td style=\"vertical-align: top; border: 0px solid white\">\n",
       "<h3 style=\"text-align: left;\">Cluster</h3>\n",
       "<ul style=\"text-align: left; list-style:none; margin: 0; padding: 0;\">\n",
       "  <li><b>Workers: </b>3</li>\n",
       "  <li><b>Cores: </b>6</li>\n",
       "  <li><b>Memory: </b>25.77 GB</li>\n",
       "</ul>\n",
       "</td>\n",
       "</tr>\n",
       "</table>"
      ],
      "text/plain": [
       "<Client: 'tcp://127.0.0.1:46681' processes=3 threads=6, memory=25.77 GB>"
      ]
     },
     "metadata": {},
     "output_type": "display_data"
    }
   ],
   "source": [
    "client = Client()\n",
    "display(client)"
   ]
  },
  {
   "cell_type": "code",
   "execution_count": 3,
   "metadata": {},
   "outputs": [],
   "source": [
    "### Generate new database\n",
    "\n",
    "db = '/scratch/e14/mp2135/access-om2/archive/databases/1deg_jra55_ryf_experiments_abrupt.db'\n",
    "\n",
    "session = cc.database.create_session(db)\n",
    "\n",
    "directory_list = ['/scratch/e14/mp2135/access-om2/archive/1deg_jra55_ryf_cont',\n",
    "                     '/scratch/e14/mp2135/access-om2/archive/1deg_jra55_ryf_rcp45cool',\n",
    "                     '/scratch/e14/mp2135/access-om2/archive/1deg_jra55_ryf_rcp45warm']"
   ]
  },
  {
   "cell_type": "code",
   "execution_count": 4,
   "metadata": {},
   "outputs": [
    {
     "data": {
      "text/html": [
       "<div>\n",
       "<style scoped>\n",
       "    .dataframe tbody tr th:only-of-type {\n",
       "        vertical-align: middle;\n",
       "    }\n",
       "\n",
       "    .dataframe tbody tr th {\n",
       "        vertical-align: top;\n",
       "    }\n",
       "\n",
       "    .dataframe thead th {\n",
       "        text-align: right;\n",
       "    }\n",
       "</style>\n",
       "<table border=\"1\" class=\"dataframe\">\n",
       "  <thead>\n",
       "    <tr style=\"text-align: right;\">\n",
       "      <th></th>\n",
       "      <th>experiment</th>\n",
       "      <th>ncfiles</th>\n",
       "    </tr>\n",
       "  </thead>\n",
       "  <tbody>\n",
       "    <tr>\n",
       "      <th>0</th>\n",
       "      <td>1deg_jra55_ryf_cont</td>\n",
       "      <td>42207</td>\n",
       "    </tr>\n",
       "    <tr>\n",
       "      <th>1</th>\n",
       "      <td>1deg_jra55_ryf_rcp45cool</td>\n",
       "      <td>47726</td>\n",
       "    </tr>\n",
       "    <tr>\n",
       "      <th>2</th>\n",
       "      <td>1deg_jra55_ryf_rcp45warm</td>\n",
       "      <td>47640</td>\n",
       "    </tr>\n",
       "  </tbody>\n",
       "</table>\n",
       "</div>"
      ],
      "text/plain": [
       "                 experiment  ncfiles\n",
       "0       1deg_jra55_ryf_cont    42207\n",
       "1  1deg_jra55_ryf_rcp45cool    47726\n",
       "2  1deg_jra55_ryf_rcp45warm    47640"
      ]
     },
     "execution_count": 4,
     "metadata": {},
     "output_type": "execute_result"
    }
   ],
   "source": [
    "cc.querying.get_experiments(session)"
   ]
  },
  {
   "cell_type": "code",
   "execution_count": 5,
   "metadata": {},
   "outputs": [],
   "source": [
    "# Control\n",
    "\n",
    "control_expt = '1deg_jra55_ryf_cont'\n",
    "control = cc.querying.get_variables(session, experiment = control_expt)\n",
    "\n",
    "temp_control = cc.querying.getvar(control_expt, 'temp', session, frequency = '1 monthly').chunk(chunks='auto')\n",
    " # [:-1] to remove 2200-01-01:\n",
    "GAT_control = cc.querying.getvar(control_expt, 'temp_global_ave', session)[:-1].chunk(chunks=3650).load().groupby('time.year').mean('time')\n",
    "SST_control = cc.querying.getvar(control_expt, 'temp_surface_ave', session)[:-1].chunk(chunks=3650).load().groupby('time.year').mean('time')"
   ]
  },
  {
   "cell_type": "code",
   "execution_count": 6,
   "metadata": {
    "collapsed": true,
    "jupyter": {
     "outputs_hidden": true
    }
   },
   "outputs": [
    {
     "name": "stderr",
     "output_type": "stream",
     "text": [
      "distributed.utils_perf - WARNING - full garbage collections took 12% CPU time recently (threshold: 10%)\n",
      "distributed.utils_perf - WARNING - full garbage collections took 12% CPU time recently (threshold: 10%)\n"
     ]
    }
   ],
   "source": [
    "# Cool\n",
    "\n",
    "cool_expt = '1deg_jra55_ryf_rcp45cool'\n",
    "cool = cc.querying.get_variables(session, experiment = cool_expt)\n",
    "\n",
    "temp_cool = cc.querying.getvar(cool_expt, 'temp', session, frequency = '1 monthly').chunk(chunks='auto')\n",
    "GAT_cool = cc.querying.getvar(cool_expt, 'temp_global_ave', session)[:-1].chunk(chunks=3650).load().groupby('time.year').mean('time')\n",
    "SST_cool = cc.querying.getvar(cool_expt, 'temp_surface_ave', session)[:-1].chunk(chunks=3650).load().groupby('time.year').mean('time')\n",
    "\n",
    "GAT_cool_anom = GAT_cool - GAT_control\n",
    "SST_cool_anom = SST_cool - SST_control"
   ]
  },
  {
   "cell_type": "code",
   "execution_count": 7,
   "metadata": {
    "collapsed": true,
    "jupyter": {
     "outputs_hidden": true
    }
   },
   "outputs": [
    {
     "name": "stderr",
     "output_type": "stream",
     "text": [
      "distributed.utils_perf - WARNING - full garbage collections took 11% CPU time recently (threshold: 10%)\n",
      "distributed.utils_perf - WARNING - full garbage collections took 11% CPU time recently (threshold: 10%)\n",
      "distributed.utils_perf - WARNING - full garbage collections took 11% CPU time recently (threshold: 10%)\n",
      "distributed.utils_perf - WARNING - full garbage collections took 11% CPU time recently (threshold: 10%)\n",
      "distributed.utils_perf - WARNING - full garbage collections took 11% CPU time recently (threshold: 10%)\n",
      "distributed.utils_perf - WARNING - full garbage collections took 11% CPU time recently (threshold: 10%)\n",
      "distributed.utils_perf - WARNING - full garbage collections took 11% CPU time recently (threshold: 10%)\n",
      "distributed.utils_perf - WARNING - full garbage collections took 11% CPU time recently (threshold: 10%)\n",
      "distributed.utils_perf - WARNING - full garbage collections took 11% CPU time recently (threshold: 10%)\n",
      "distributed.utils_perf - WARNING - full garbage collections took 11% CPU time recently (threshold: 10%)\n",
      "distributed.utils_perf - WARNING - full garbage collections took 11% CPU time recently (threshold: 10%)\n",
      "distributed.utils_perf - WARNING - full garbage collections took 12% CPU time recently (threshold: 10%)\n",
      "distributed.utils_perf - WARNING - full garbage collections took 12% CPU time recently (threshold: 10%)\n",
      "distributed.utils_perf - WARNING - full garbage collections took 12% CPU time recently (threshold: 10%)\n",
      "distributed.utils_perf - WARNING - full garbage collections took 12% CPU time recently (threshold: 10%)\n",
      "distributed.utils_perf - WARNING - full garbage collections took 11% CPU time recently (threshold: 10%)\n",
      "distributed.utils_perf - WARNING - full garbage collections took 11% CPU time recently (threshold: 10%)\n",
      "distributed.utils_perf - WARNING - full garbage collections took 11% CPU time recently (threshold: 10%)\n",
      "distributed.utils_perf - WARNING - full garbage collections took 11% CPU time recently (threshold: 10%)\n",
      "distributed.utils_perf - WARNING - full garbage collections took 11% CPU time recently (threshold: 10%)\n",
      "distributed.utils_perf - WARNING - full garbage collections took 11% CPU time recently (threshold: 10%)\n",
      "distributed.utils_perf - WARNING - full garbage collections took 11% CPU time recently (threshold: 10%)\n",
      "distributed.utils_perf - WARNING - full garbage collections took 11% CPU time recently (threshold: 10%)\n",
      "distributed.utils_perf - WARNING - full garbage collections took 11% CPU time recently (threshold: 10%)\n",
      "distributed.utils_perf - WARNING - full garbage collections took 11% CPU time recently (threshold: 10%)\n",
      "distributed.utils_perf - WARNING - full garbage collections took 12% CPU time recently (threshold: 10%)\n",
      "distributed.utils_perf - WARNING - full garbage collections took 12% CPU time recently (threshold: 10%)\n",
      "distributed.utils_perf - WARNING - full garbage collections took 13% CPU time recently (threshold: 10%)\n",
      "distributed.utils_perf - WARNING - full garbage collections took 12% CPU time recently (threshold: 10%)\n"
     ]
    }
   ],
   "source": [
    "# Warm\n",
    "\n",
    "warm_expt = '1deg_jra55_ryf_rcp45warm'\n",
    "warm = cc.querying.get_variables(session, experiment = warm_expt)\n",
    "\n",
    "temp_warm = cc.querying.getvar(warm_expt, 'temp', session, frequency = '1 monthly').chunk(chunks='auto')\n",
    "GAT_warm = cc.querying.getvar(warm_expt, 'temp_global_ave', session)[:-1].chunk(chunks=3650).load().groupby('time.year').mean('time')\n",
    "SST_warm = cc.querying.getvar(warm_expt, 'temp_surface_ave', session)[:-1].chunk(chunks=3650).load().groupby('time.year').mean('time')\n",
    "\n",
    "GAT_warm_anom = GAT_warm - GAT_control\n",
    "SST_warm_anom = SST_warm - SST_control"
   ]
  },
  {
   "cell_type": "markdown",
   "metadata": {},
   "source": [
    "Next, we load cell area (denoted $a(x,y,z)$) from the ocean_grid file, construct a mask from the temperature file and make a profile of the total ocean area as a function of depth, $A$, namely\n",
    "$$ A(z) = \\sum_x \\sum_y a(x,y,z)$$\n",
    "*Note that this mask ignores the presence of partial cells, for now*."
   ]
  },
  {
   "cell_type": "code",
   "execution_count": 8,
   "metadata": {},
   "outputs": [
    {
     "data": {
      "text/html": [
       "<div>\n",
       "<style scoped>\n",
       "    .dataframe tbody tr th:only-of-type {\n",
       "        vertical-align: middle;\n",
       "    }\n",
       "\n",
       "    .dataframe tbody tr th {\n",
       "        vertical-align: top;\n",
       "    }\n",
       "\n",
       "    .dataframe thead th {\n",
       "        text-align: right;\n",
       "    }\n",
       "</style>\n",
       "<table border=\"1\" class=\"dataframe\">\n",
       "  <thead>\n",
       "    <tr style=\"text-align: right;\">\n",
       "      <th></th>\n",
       "      <th>name</th>\n",
       "      <th>long_name</th>\n",
       "      <th>frequency</th>\n",
       "      <th>ncfile</th>\n",
       "      <th># ncfiles</th>\n",
       "      <th>time_start</th>\n",
       "      <th>time_end</th>\n",
       "    </tr>\n",
       "  </thead>\n",
       "  <tbody>\n",
       "    <tr>\n",
       "      <th>343</th>\n",
       "      <td>area_t</td>\n",
       "      <td>tracer cell area</td>\n",
       "      <td>static</td>\n",
       "      <td>output059/ocean/ocean-2d-area_t.nc</td>\n",
       "      <td>19</td>\n",
       "      <td>1900-01-01 00:00:00</td>\n",
       "      <td>1900-01-01 00:00:00</td>\n",
       "    </tr>\n",
       "    <tr>\n",
       "      <th>344</th>\n",
       "      <td>area_u</td>\n",
       "      <td>velocity cell area</td>\n",
       "      <td>static</td>\n",
       "      <td>output040/ocean/ocean-2d-area_u.nc</td>\n",
       "      <td>19</td>\n",
       "      <td>1900-01-01 00:00:00</td>\n",
       "      <td>1900-01-01 00:00:00</td>\n",
       "    </tr>\n",
       "  </tbody>\n",
       "</table>\n",
       "</div>"
      ],
      "text/plain": [
       "       name           long_name frequency                              ncfile  \\\n",
       "343  area_t    tracer cell area    static  output059/ocean/ocean-2d-area_t.nc   \n",
       "344  area_u  velocity cell area    static  output040/ocean/ocean-2d-area_u.nc   \n",
       "\n",
       "     # ncfiles           time_start             time_end  \n",
       "343         19  1900-01-01 00:00:00  1900-01-01 00:00:00  \n",
       "344         19  1900-01-01 00:00:00  1900-01-01 00:00:00  "
      ]
     },
     "execution_count": 8,
     "metadata": {},
     "output_type": "execute_result"
    }
   ],
   "source": [
    "cc.querying.get_variables(session, control_expt)[cc.querying.get_variables(session, control_expt)['name'].str.lower().str.match('area')]"
   ]
  },
  {
   "cell_type": "code",
   "execution_count": 9,
   "metadata": {},
   "outputs": [],
   "source": [
    "area_t = cc.querying.getvar(control_expt, 'area_t', session, n=1)#.mean('time')\n",
    "mask = temp_control.isel(time=0).copy()\n",
    "mask = mask / mask                 ## This seems pretty dodgy to me, but it works!\n",
    "area = mask * area_t\n",
    "area_sum = area.sum('xt_ocean').sum('yt_ocean')\n",
    "IPython.display.clear_output()"
   ]
  },
  {
   "cell_type": "markdown",
   "metadata": {},
   "source": [
    "Now, the mean temperature at each time level can then be computed as \n",
    "$$T(z,t) = \\frac{\\sum_x \\sum_y a(x,y,z) \\theta(x,y,z,t)}{A(z)}$$\n",
    "where $T$ is the average temperature and $\\theta$ the potential temperature."
   ]
  },
  {
   "cell_type": "code",
   "execution_count": 10,
   "metadata": {
    "collapsed": true,
    "jupyter": {
     "outputs_hidden": true
    }
   },
   "outputs": [
    {
     "name": "stderr",
     "output_type": "stream",
     "text": [
      "distributed.utils_perf - WARNING - full garbage collections took 12% CPU time recently (threshold: 10%)\n",
      "distributed.utils_perf - WARNING - full garbage collections took 12% CPU time recently (threshold: 10%)\n",
      "distributed.utils_perf - WARNING - full garbage collections took 12% CPU time recently (threshold: 10%)\n",
      "distributed.utils_perf - WARNING - full garbage collections took 11% CPU time recently (threshold: 10%)\n",
      "distributed.utils_perf - WARNING - full garbage collections took 11% CPU time recently (threshold: 10%)\n",
      "distributed.utils_perf - WARNING - full garbage collections took 11% CPU time recently (threshold: 10%)\n",
      "distributed.utils_perf - WARNING - full garbage collections took 11% CPU time recently (threshold: 10%)\n"
     ]
    }
   ],
   "source": [
    "var = area_t * (temp_cool - temp_control)\n",
    "temp_hov = var.sum('xt_ocean').sum('yt_ocean').chunk(chunks='auto').compute()\n",
    "temp_hov_cool = temp_hov / area_sum\n",
    "\n",
    "var = area_t * (temp_warm - temp_control)\n",
    "temp_hov = var.sum('xt_ocean').sum('yt_ocean').chunk(chunks='auto').compute()\n",
    "temp_hov_warm = temp_hov / area_sum"
   ]
  },
  {
   "cell_type": "markdown",
   "metadata": {},
   "source": [
    "We can use xarray for a quick and dirty plot of this data:"
   ]
  },
  {
   "cell_type": "code",
   "execution_count": 14,
   "metadata": {},
   "outputs": [
    {
     "data": {
      "image/png": "[encoded data removed]",
      "text/plain": [
       "<Figure size 1512x648 with 4 Axes>"
      ]
     },
     "metadata": {
      "needs_background": "light"
     },
     "output_type": "display_data"
    }
   ],
   "source": [
    "fig, ax = plt.subplots(ncols=2, nrows=1, figsize = (21,9))\n",
    "p1 = temp_hov_cool[:,:33].T.plot.contourf(ax=ax[0], levels=45,yincrease=False)\n",
    "p2 = temp_hov_warm[:,:33].T.plot.contourf(ax=ax[1], levels=45,yincrease=False, add_colorbar=False)\n",
    "cb = plt.colorbar(p1,ax=ax[1],orientation='vertical')"
   ]
  },
  {
   "cell_type": "code",
   "execution_count": null,
   "metadata": {},
   "outputs": [],
   "source": []
  }
 ],
 "metadata": {
  "kernelspec": {
   "display_name": "Python 3",
   "language": "python",
   "name": "python3"
  },
  "language_info": {
   "codemirror_mode": {
    "name": "ipython",
    "version": 3
   },
   "file_extension": ".py",
   "mimetype": "text/x-python",
   "name": "python",
   "nbconvert_exporter": "python",
   "pygments_lexer": "ipython3",
   "version": "3.8.6"
  }
 },
 "nbformat": 4,
 "nbformat_minor": 4
}
