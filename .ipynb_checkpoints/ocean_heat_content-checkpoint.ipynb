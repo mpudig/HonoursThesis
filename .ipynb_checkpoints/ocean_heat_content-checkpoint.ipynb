{
 "cells": [
  {
   "cell_type": "markdown",
   "metadata": {},
   "source": [
    "#### This notebook analyses the heat content and SST responses in the abrupt experiments."
   ]
  },
  {
   "cell_type": "code",
   "execution_count": 2,
   "metadata": {},
   "outputs": [],
   "source": [
    "import cosima_cookbook as cc\n",
    "import numpy as np\n",
    "import xarray as xr\n",
    "import pandas as pd\n",
    "import matplotlib.pyplot as plt\n",
    "import cmocean as cm\n",
    "from scipy.optimize import curve_fit\n",
    "from xhistogram.xarray import histogram\n",
    "\n",
    "from dask.distributed import Client\n",
    "\n",
    "%matplotlib inline"
   ]
  },
  {
   "cell_type": "code",
   "execution_count": 3,
   "metadata": {
    "jupyter": {
     "source_hidden": true
    }
   },
   "outputs": [
    {
     "data": {
      "text/html": [
       "<table style=\"border: 2px solid white;\">\n",
       "<tr>\n",
       "<td style=\"vertical-align: top; border: 0px solid white\">\n",
       "<h3 style=\"text-align: left;\">Client</h3>\n",
       "<ul style=\"text-align: left; list-style: none; margin: 0; padding: 0;\">\n",
       "  <li><b>Scheduler: </b>tcp://127.0.0.1:38993</li>\n",
       "  <li><b>Dashboard: </b><a href='/proxy/38809/status' target='_blank'>/proxy/38809/status</a></li>\n",
       "</ul>\n",
       "</td>\n",
       "<td style=\"vertical-align: top; border: 0px solid white\">\n",
       "<h3 style=\"text-align: left;\">Cluster</h3>\n",
       "<ul style=\"text-align: left; list-style:none; margin: 0; padding: 0;\">\n",
       "  <li><b>Workers: </b>8</li>\n",
       "  <li><b>Cores: </b>8</li>\n",
       "  <li><b>Memory: </b>128.85 GB</li>\n",
       "</ul>\n",
       "</td>\n",
       "</tr>\n",
       "</table>"
      ],
      "text/plain": [
       "<Client: 'tcp://127.0.0.1:38993' processes=8 threads=8, memory=128.85 GB>"
      ]
     },
     "metadata": {},
     "output_type": "display_data"
    }
   ],
   "source": [
    "client = Client(n_workers=8)\n",
    "display(client)"
   ]
  },
  {
   "cell_type": "code",
   "execution_count": 4,
   "metadata": {},
   "outputs": [
    {
     "data": {
      "text/html": [
       "<div>\n",
       "<style scoped>\n",
       "    .dataframe tbody tr th:only-of-type {\n",
       "        vertical-align: middle;\n",
       "    }\n",
       "\n",
       "    .dataframe tbody tr th {\n",
       "        vertical-align: top;\n",
       "    }\n",
       "\n",
       "    .dataframe thead th {\n",
       "        text-align: right;\n",
       "    }\n",
       "</style>\n",
       "<table border=\"1\" class=\"dataframe\">\n",
       "  <thead>\n",
       "    <tr style=\"text-align: right;\">\n",
       "      <th></th>\n",
       "      <th>experiment</th>\n",
       "      <th>ncfiles</th>\n",
       "    </tr>\n",
       "  </thead>\n",
       "  <tbody>\n",
       "    <tr>\n",
       "      <th>0</th>\n",
       "      <td>1deg_jra55_ryf_cont</td>\n",
       "      <td>169527</td>\n",
       "    </tr>\n",
       "    <tr>\n",
       "      <th>1</th>\n",
       "      <td>1deg_jra55_ryf_rcp45cool_spinup500</td>\n",
       "      <td>42426</td>\n",
       "    </tr>\n",
       "    <tr>\n",
       "      <th>2</th>\n",
       "      <td>1deg_jra55_ryf_rcp45warm_spinup500</td>\n",
       "      <td>47726</td>\n",
       "    </tr>\n",
       "    <tr>\n",
       "      <th>3</th>\n",
       "      <td>1deg_jra55_ryf_rcp45cool_spinup400</td>\n",
       "      <td>21206</td>\n",
       "    </tr>\n",
       "    <tr>\n",
       "      <th>4</th>\n",
       "      <td>1deg_jra55_ryf_rcp45warm_spinup400</td>\n",
       "      <td>21206</td>\n",
       "    </tr>\n",
       "    <tr>\n",
       "      <th>5</th>\n",
       "      <td>1deg_jra55_ryf_rcp45cool_x2_spinup500</td>\n",
       "      <td>42426</td>\n",
       "    </tr>\n",
       "    <tr>\n",
       "      <th>6</th>\n",
       "      <td>1deg_jra55_ryf_rcp45warm_x2_spinup500</td>\n",
       "      <td>42426</td>\n",
       "    </tr>\n",
       "    <tr>\n",
       "      <th>7</th>\n",
       "      <td>1deg_jra55_ryf_rcp45warm_x1_spinup500</td>\n",
       "      <td>42426</td>\n",
       "    </tr>\n",
       "    <tr>\n",
       "      <th>8</th>\n",
       "      <td>1deg_jra55_ryf_rcp45cool_x1_spinup500</td>\n",
       "      <td>42426</td>\n",
       "    </tr>\n",
       "    <tr>\n",
       "      <th>9</th>\n",
       "      <td>1deg_jra55_ryf_warm_0sat_8dwlw_spinup500</td>\n",
       "      <td>21206</td>\n",
       "    </tr>\n",
       "    <tr>\n",
       "      <th>10</th>\n",
       "      <td>1deg_jra55_ryf_warm_1.5sat_0dwlw_spinup500</td>\n",
       "      <td>21206</td>\n",
       "    </tr>\n",
       "    <tr>\n",
       "      <th>11</th>\n",
       "      <td>1deg_jra55_ryf_RCPwarm_x1</td>\n",
       "      <td>9534</td>\n",
       "    </tr>\n",
       "    <tr>\n",
       "      <th>12</th>\n",
       "      <td>1deg_jra55_ryf_RCPwarm_x2</td>\n",
       "      <td>9534</td>\n",
       "    </tr>\n",
       "    <tr>\n",
       "      <th>13</th>\n",
       "      <td>1deg_jra55_ryf_RCPwarm_humid_x1</td>\n",
       "      <td>42426</td>\n",
       "    </tr>\n",
       "    <tr>\n",
       "      <th>14</th>\n",
       "      <td>1deg_jra55_ryf_RCPwarm_humid_x2</td>\n",
       "      <td>42207</td>\n",
       "    </tr>\n",
       "    <tr>\n",
       "      <th>15</th>\n",
       "      <td>1deg_jra55_ryf_RCPcool_humid_x1</td>\n",
       "      <td>42207</td>\n",
       "    </tr>\n",
       "    <tr>\n",
       "      <th>16</th>\n",
       "      <td>1deg_jra55_ryf_RCPcool_humid_x2</td>\n",
       "      <td>42426</td>\n",
       "    </tr>\n",
       "    <tr>\n",
       "      <th>17</th>\n",
       "      <td>1deg_jra55_ryf_rcp45warm_x1_spinup500_test</td>\n",
       "      <td>4230</td>\n",
       "    </tr>\n",
       "    <tr>\n",
       "      <th>18</th>\n",
       "      <td>1deg_jra55_ryf_rcp45warm_x1_spinup500_test1</td>\n",
       "      <td>4230</td>\n",
       "    </tr>\n",
       "  </tbody>\n",
       "</table>\n",
       "</div>"
      ],
      "text/plain": [
       "                                     experiment  ncfiles\n",
       "0                           1deg_jra55_ryf_cont   169527\n",
       "1            1deg_jra55_ryf_rcp45cool_spinup500    42426\n",
       "2            1deg_jra55_ryf_rcp45warm_spinup500    47726\n",
       "3            1deg_jra55_ryf_rcp45cool_spinup400    21206\n",
       "4            1deg_jra55_ryf_rcp45warm_spinup400    21206\n",
       "5         1deg_jra55_ryf_rcp45cool_x2_spinup500    42426\n",
       "6         1deg_jra55_ryf_rcp45warm_x2_spinup500    42426\n",
       "7         1deg_jra55_ryf_rcp45warm_x1_spinup500    42426\n",
       "8         1deg_jra55_ryf_rcp45cool_x1_spinup500    42426\n",
       "9      1deg_jra55_ryf_warm_0sat_8dwlw_spinup500    21206\n",
       "10   1deg_jra55_ryf_warm_1.5sat_0dwlw_spinup500    21206\n",
       "11                    1deg_jra55_ryf_RCPwarm_x1     9534\n",
       "12                    1deg_jra55_ryf_RCPwarm_x2     9534\n",
       "13              1deg_jra55_ryf_RCPwarm_humid_x1    42426\n",
       "14              1deg_jra55_ryf_RCPwarm_humid_x2    42207\n",
       "15              1deg_jra55_ryf_RCPcool_humid_x1    42207\n",
       "16              1deg_jra55_ryf_RCPcool_humid_x2    42426\n",
       "17   1deg_jra55_ryf_rcp45warm_x1_spinup500_test     4230\n",
       "18  1deg_jra55_ryf_rcp45warm_x1_spinup500_test1     4230"
      ]
     },
     "execution_count": 4,
     "metadata": {},
     "output_type": "execute_result"
    }
   ],
   "source": [
    "### Generate new session\n",
    "\n",
    "db = '/scratch/e14/mp2135/access-om2/archive/databases/1deg_jra55_ryf_experiments_abrupt_spinup500.db'\n",
    "session = cc.database.create_session(db)\n",
    "\n",
    "cc.querying.get_experiments(session)"
   ]
  },
  {
   "cell_type": "code",
   "execution_count": 5,
   "metadata": {},
   "outputs": [],
   "source": [
    "yr_beg = '2400-01-16'\n",
    "\n",
    "expt = '1deg_jra55_ryf_cont'\n",
    "var = 'temp'\n",
    "frequency = '1 monthly'\n",
    "temp_cont = cc.querying.getvar(expt, var, session, start_time = yr_beg).chunk(chunks='auto') "
   ]
  },
  {
   "cell_type": "code",
   "execution_count": 5,
   "metadata": {
    "jupyter": {
     "source_hidden": true
    }
   },
   "outputs": [],
   "source": [
    "expt = '1deg_jra55_ryf_RCPcool_humid_x1'\n",
    "var = 'temp'\n",
    "frequency = '1 monthly'\n",
    "temp_RCPcool_humid_x1 = cc.querying.getvar(expt, var, session, frequency = frequency).chunk(chunks='auto') "
   ]
  },
  {
   "cell_type": "code",
   "execution_count": 6,
   "metadata": {
    "jupyter": {
     "source_hidden": true
    }
   },
   "outputs": [],
   "source": [
    "expt = '1deg_jra55_ryf_RCPcool_humid_x2'\n",
    "var = 'temp'\n",
    "frequency = '1 monthly'\n",
    "temp_RCPcool_humid_x2 = cc.querying.getvar(expt, var, session, frequency = frequency).chunk(chunks='auto') "
   ]
  },
  {
   "cell_type": "code",
   "execution_count": 5,
   "metadata": {
    "jupyter": {
     "source_hidden": true
    }
   },
   "outputs": [],
   "source": [
    "expt = '1deg_jra55_ryf_RCPwarm_humid_x1'\n",
    "var = 'temp'\n",
    "frequency = '1 monthly'\n",
    "temp_RCPwarm_humid_x1 = cc.querying.getvar(expt, var, session, frequency = frequency).chunk(chunks='auto') "
   ]
  },
  {
   "cell_type": "code",
   "execution_count": 8,
   "metadata": {
    "jupyter": {
     "source_hidden": true
    }
   },
   "outputs": [],
   "source": [
    "expt = '1deg_jra55_ryf_RCPwarm_humid_x2'\n",
    "var = 'temp'\n",
    "frequency = '1 monthly'\n",
    "temp_RCPwarm_humid_x2 = cc.querying.getvar(expt, var, session, frequency = frequency).chunk(chunks='auto') "
   ]
  },
  {
   "cell_type": "code",
   "execution_count": 9,
   "metadata": {
    "jupyter": {
     "source_hidden": true
    }
   },
   "outputs": [],
   "source": [
    "expt = '1deg_jra55_ryf_rcp45cool_x1_spinup500'\n",
    "var = 'temp'\n",
    "frequency = '1 monthly'\n",
    "temp_coolx1 = cc.querying.getvar(expt, var, session, frequency = frequency).chunk(chunks='auto') "
   ]
  },
  {
   "cell_type": "code",
   "execution_count": 10,
   "metadata": {
    "jupyter": {
     "source_hidden": true
    }
   },
   "outputs": [],
   "source": [
    "expt = '1deg_jra55_ryf_rcp45cool_x2_spinup500'\n",
    "var = 'temp'\n",
    "frequency = '1 monthly'\n",
    "temp_coolx2 = cc.querying.getvar(expt, var, session, frequency = frequency).chunk(chunks='auto') "
   ]
  },
  {
   "cell_type": "code",
   "execution_count": 6,
   "metadata": {
    "jupyter": {
     "source_hidden": true
    }
   },
   "outputs": [],
   "source": [
    "expt = '1deg_jra55_ryf_rcp45warm_x1_spinup500'\n",
    "var = 'temp'\n",
    "frequency = '1 monthly'\n",
    "temp_warmx1 = cc.querying.getvar(expt, var, session, frequency = frequency).chunk(chunks='auto')"
   ]
  },
  {
   "cell_type": "code",
   "execution_count": 12,
   "metadata": {
    "jupyter": {
     "source_hidden": true
    }
   },
   "outputs": [],
   "source": [
    "expt = '1deg_jra55_ryf_rcp45warm_x2_spinup500'\n",
    "var = 'temp'\n",
    "frequency = '1 monthly'\n",
    "temp_warmx2 = cc.querying.getvar(expt, var, session, frequency = frequency).chunk(chunks='auto')"
   ]
  },
  {
   "cell_type": "code",
   "execution_count": 6,
   "metadata": {},
   "outputs": [],
   "source": [
    "expt = '1deg_jra55_ryf_rcp45warm_x1_spinup500_test'\n",
    "var = 'temp'\n",
    "frequency = '1 monthly'\n",
    "temp_warmx1_test = cc.querying.getvar(expt, var, session, frequency = frequency).chunk(chunks='auto')"
   ]
  },
  {
   "cell_type": "code",
   "execution_count": 7,
   "metadata": {},
   "outputs": [],
   "source": [
    "expt = '1deg_jra55_ryf_rcp45warm_x1_spinup500_test1'\n",
    "var = 'temp'\n",
    "frequency = '1 monthly'\n",
    "temp_warmx1_test1 = cc.querying.getvar(expt, var, session, frequency = frequency).chunk(chunks='auto')"
   ]
  },
  {
   "cell_type": "markdown",
   "metadata": {},
   "source": [
    "### Calculate global average temperature"
   ]
  },
  {
   "cell_type": "code",
   "execution_count": 8,
   "metadata": {},
   "outputs": [],
   "source": [
    "expt = '1deg_jra55_ryf_cont'\n",
    "var = 'dzt'\n",
    "dzt = cc.querying.getvar(expt, var, session, start_time = yr_beg) #thickness of cells\n",
    "area_t = cc.querying.getvar(expt, 'area_t', session, n=1) # area of cells\n",
    "dVol = (dzt * area_t) # Volume of cells\n",
    "Vol = dVol.sum(dim = ['xt_ocean', 'yt_ocean', 'st_ocean']) # total volume of ocean\n",
    "\n",
    "temp_cont_ave = (temp_cont * dVol).sum(dim = ['xt_ocean', 'yt_ocean', 'st_ocean']) / Vol"
   ]
  },
  {
   "cell_type": "code",
   "execution_count": 14,
   "metadata": {
    "jupyter": {
     "source_hidden": true
    }
   },
   "outputs": [],
   "source": [
    "expt = '1deg_jra55_ryf_RCPcool_humid_x1'\n",
    "var = 'dzt'\n",
    "dzt = cc.querying.getvar(expt, var, session) #thickness of cells\n",
    "area_t = cc.querying.getvar(expt, 'area_t', session, n=1) # area of cells\n",
    "dVol = (dzt * area_t) # Volume of cells\n",
    "Vol = dVol.sum(dim = ['xt_ocean', 'yt_ocean', 'st_ocean']) # total volume of ocean\n",
    "\n",
    "temp_RCPcool_humid_x1_ave = (temp_RCPcool_humid_x1 * dVol).sum(dim = ['xt_ocean', 'yt_ocean', 'st_ocean']) / Vol"
   ]
  },
  {
   "cell_type": "code",
   "execution_count": 15,
   "metadata": {
    "jupyter": {
     "source_hidden": true
    }
   },
   "outputs": [],
   "source": [
    "expt = '1deg_jra55_ryf_RCPcool_humid_x2'\n",
    "var = 'dzt'\n",
    "dzt = cc.querying.getvar(expt, var, session) #thickness of cells\n",
    "area_t = cc.querying.getvar(expt, 'area_t', session, n=1) # area of cells\n",
    "dVol = (dzt * area_t) # Volume of cells\n",
    "Vol = dVol.sum(dim = ['xt_ocean', 'yt_ocean', 'st_ocean']) # total volume of ocean\n",
    "\n",
    "temp_RCPcool_humid_x2_ave = (temp_RCPcool_humid_x2 * dVol).sum(dim = ['xt_ocean', 'yt_ocean', 'st_ocean']) / Vol"
   ]
  },
  {
   "cell_type": "code",
   "execution_count": 15,
   "metadata": {
    "jupyter": {
     "source_hidden": true
    }
   },
   "outputs": [],
   "source": [
    "expt = '1deg_jra55_ryf_RCPwarm_humid_x1'\n",
    "var = 'dzt'\n",
    "dzt = cc.querying.getvar(expt, var, session) #thickness of cells\n",
    "area_t = cc.querying.getvar(expt, 'area_t', session, n=1) # area of cells\n",
    "dVol = (dzt * area_t) # Volume of cells\n",
    "Vol = dVol.sum(dim = ['xt_ocean', 'yt_ocean', 'st_ocean']) # total volume of ocean\n",
    "\n",
    "temp_RCPwarm_humid_x1_ave = (temp_RCPwarm_humid_x1 * dVol).sum(dim = ['xt_ocean', 'yt_ocean', 'st_ocean']) / Vol"
   ]
  },
  {
   "cell_type": "code",
   "execution_count": 17,
   "metadata": {
    "jupyter": {
     "source_hidden": true
    }
   },
   "outputs": [],
   "source": [
    "expt = '1deg_jra55_ryf_RCPwarm_humid_x2'\n",
    "var = 'dzt'\n",
    "dzt = cc.querying.getvar(expt, var, session) #thickness of cells\n",
    "area_t = cc.querying.getvar(expt, 'area_t', session, n=1) # area of cells\n",
    "dVol = (dzt * area_t) # Volume of cells\n",
    "Vol = dVol.sum(dim = ['xt_ocean', 'yt_ocean', 'st_ocean']) # total volume of ocean\n",
    "\n",
    "temp_RCPwarm_humid_x2_ave = (temp_RCPwarm_humid_x2 * dVol).sum(dim = ['xt_ocean', 'yt_ocean', 'st_ocean']) / Vol"
   ]
  },
  {
   "cell_type": "code",
   "execution_count": 18,
   "metadata": {
    "jupyter": {
     "source_hidden": true
    }
   },
   "outputs": [],
   "source": [
    "expt = '1deg_jra55_ryf_rcp45cool_x1_spinup500'\n",
    "var = 'dzt'\n",
    "dzt = cc.querying.getvar(expt, var, session) #thickness of cells\n",
    "area_t = cc.querying.getvar(expt, 'area_t', session, n=1) # area of cells\n",
    "dVol = (dzt * area_t) # Volume of cells\n",
    "Vol = dVol.sum(dim = ['xt_ocean', 'yt_ocean', 'st_ocean']) # total volume of ocean\n",
    "\n",
    "temp_coolx1_ave = (temp_coolx1 * dVol).sum(dim = ['xt_ocean', 'yt_ocean', 'st_ocean']) / Vol"
   ]
  },
  {
   "cell_type": "code",
   "execution_count": 19,
   "metadata": {
    "jupyter": {
     "source_hidden": true
    }
   },
   "outputs": [],
   "source": [
    "expt = '1deg_jra55_ryf_rcp45cool_x2_spinup500'\n",
    "var = 'dzt'\n",
    "dzt = cc.querying.getvar(expt, var, session) #thickness of cells\n",
    "area_t = cc.querying.getvar(expt, 'area_t', session, n=1) # area of cells\n",
    "dVol = (dzt * area_t) # Volume of cells\n",
    "Vol = dVol.sum(dim = ['xt_ocean', 'yt_ocean', 'st_ocean']) # total volume of ocean\n",
    "\n",
    "temp_coolx2_ave = (temp_coolx2 * dVol).sum(dim = ['xt_ocean', 'yt_ocean', 'st_ocean']) / Vol"
   ]
  },
  {
   "cell_type": "code",
   "execution_count": 16,
   "metadata": {
    "jupyter": {
     "source_hidden": true
    }
   },
   "outputs": [],
   "source": [
    "expt = '1deg_jra55_ryf_rcp45warm_x1_spinup500'\n",
    "var = 'dzt'\n",
    "dzt = cc.querying.getvar(expt, var, session) #thickness of cells\n",
    "area_t = cc.querying.getvar(expt, 'area_t', session, n=1) # area of cells\n",
    "dVol = (dzt * area_t) # Volume of cells\n",
    "Vol = dVol.sum(dim = ['xt_ocean', 'yt_ocean', 'st_ocean']) # total volume of ocean\n",
    "\n",
    "temp_warmx1_ave = (temp_warmx1 * dVol).sum(dim = ['xt_ocean', 'yt_ocean', 'st_ocean']) / Vol"
   ]
  },
  {
   "cell_type": "code",
   "execution_count": 21,
   "metadata": {
    "jupyter": {
     "source_hidden": true
    }
   },
   "outputs": [],
   "source": [
    "expt = '1deg_jra55_ryf_rcp45warm_x2_spinup500'\n",
    "var = 'dzt'\n",
    "dzt = cc.querying.getvar(expt, var, session) #thickness of cells\n",
    "area_t = cc.querying.getvar(expt, 'area_t', session, n=1) # area of cells\n",
    "dVol = (dzt * area_t) # Volume of cells\n",
    "Vol = dVol.sum(dim = ['xt_ocean', 'yt_ocean', 'st_ocean']) # total volume of ocean\n",
    "\n",
    "temp_warmx2_ave = (temp_warmx2 * dVol).sum(dim = ['xt_ocean', 'yt_ocean', 'st_ocean']) / Vol"
   ]
  },
  {
   "cell_type": "code",
   "execution_count": 9,
   "metadata": {},
   "outputs": [],
   "source": [
    "expt = '1deg_jra55_ryf_rcp45warm_x1_spinup500_test'\n",
    "var = 'dzt'\n",
    "dzt = cc.querying.getvar(expt, var, session) #thickness of cells\n",
    "area_t = cc.querying.getvar(expt, 'area_t', session, n=1) # area of cells\n",
    "dVol = (dzt * area_t) # Volume of cells\n",
    "Vol = dVol.sum(dim = ['xt_ocean', 'yt_ocean', 'st_ocean']) # total volume of ocean\n",
    "\n",
    "temp_warmx1_test_ave = (temp_warmx1_test * dVol).sum(dim = ['xt_ocean', 'yt_ocean', 'st_ocean']) / Vol"
   ]
  },
  {
   "cell_type": "code",
   "execution_count": 10,
   "metadata": {},
   "outputs": [],
   "source": [
    "expt = '1deg_jra55_ryf_rcp45warm_x1_spinup500_test1'\n",
    "var = 'dzt'\n",
    "dzt = cc.querying.getvar(expt, var, session) #thickness of cells\n",
    "area_t = cc.querying.getvar(expt, 'area_t', session, n=1) # area of cells\n",
    "dVol = (dzt * area_t) # Volume of cells\n",
    "Vol = dVol.sum(dim = ['xt_ocean', 'yt_ocean', 'st_ocean']) # total volume of ocean\n",
    "\n",
    "temp_warmx1_test1_ave = (temp_warmx1_test1 * dVol).sum(dim = ['xt_ocean', 'yt_ocean', 'st_ocean']) / Vol"
   ]
  },
  {
   "cell_type": "code",
   "execution_count": 28,
   "metadata": {
    "jupyter": {
     "source_hidden": true
    }
   },
   "outputs": [],
   "source": [
    "expt = '1deg_jra55_ryf_warm_1.5sat_0dwlw_spinup500'\n",
    "var = 'dzt'\n",
    "dzt = cc.querying.getvar(expt, var, session) #thickness of cells\n",
    "area_t = cc.querying.getvar(expt, 'area_t', session, n=1) # area of cells\n",
    "dVol = (dzt * area_t) # Volume of cells\n",
    "Vol = dVol.sum(dim = ['xt_ocean', 'yt_ocean', 'st_ocean']) # total volume of ocean\n",
    "\n",
    "temp_warm_Tonly_ave = (temp_warm_Tonly * dVol).sum(dim = ['xt_ocean', 'yt_ocean', 'st_ocean']) / Vol"
   ]
  },
  {
   "cell_type": "code",
   "execution_count": 29,
   "metadata": {
    "jupyter": {
     "source_hidden": true
    }
   },
   "outputs": [],
   "source": [
    "expt = '1deg_jra55_ryf_warm_0sat_8dwlw_spinup500'\n",
    "var = 'dzt'\n",
    "dzt = cc.querying.getvar(expt, var, session) #thickness of cells\n",
    "area_t = cc.querying.getvar(expt, 'area_t', session, n=1) # area of cells\n",
    "dVol = (dzt * area_t) # Volume of cells\n",
    "Vol = dVol.sum(dim = ['xt_ocean', 'yt_ocean', 'st_ocean']) # total volume of ocean\n",
    "\n",
    "temp_warm_RADonly_ave = (temp_warm_RADonly * dVol).sum(dim = ['xt_ocean', 'yt_ocean', 'st_ocean']) / Vol"
   ]
  },
  {
   "cell_type": "code",
   "execution_count": 11,
   "metadata": {},
   "outputs": [],
   "source": [
    "temp_cont_ave = temp_cont_ave.groupby('time.year').mean(dim='time').load()\n",
    "temp_warmx1_test_ave = temp_warmx1_test_ave.groupby('time.year').mean(dim='time').load()\n",
    "temp_warmx1_test1_ave = temp_warmx1_test1_ave.groupby('time.year').mean(dim='time').load()"
   ]
  },
  {
   "cell_type": "code",
   "execution_count": 22,
   "metadata": {
    "jupyter": {
     "source_hidden": true
    }
   },
   "outputs": [],
   "source": [
    "temp_cont_ave = temp_cont_ave.groupby('time.year').mean(dim='time').load()\n",
    "\n",
    "temp_RCPcool_humid_x1_ave = temp_RCPcool_humid_x1_ave.groupby('time.year').mean(dim='time').load()\n",
    "temp_RCPcool_humid_x2_ave = temp_RCPcool_humid_x2_ave.groupby('time.year').mean(dim='time').load()\n",
    "temp_RCPwarm_humid_x1_ave = temp_RCPwarm_humid_x1_ave.groupby('time.year').mean(dim='time').load()\n",
    "temp_RCPwarm_humid_x2_ave = temp_RCPwarm_humid_x2_ave.groupby('time.year').mean(dim='time').load()\n",
    "\n",
    "temp_coolx1_ave = temp_coolx1_ave.groupby('time.year').mean(dim='time').load()\n",
    "temp_coolx2_ave = temp_coolx2_ave.groupby('time.year').mean(dim='time').load()\n",
    "temp_warmx1_ave = temp_warmx1_ave.groupby('time.year').mean(dim='time').load()\n",
    "temp_warmx2_ave = temp_warmx2_ave.groupby('time.year').mean(dim='time').load()"
   ]
  },
  {
   "cell_type": "code",
   "execution_count": 40,
   "metadata": {
    "collapsed": true,
    "jupyter": {
     "outputs_hidden": true,
     "source_hidden": true
    }
   },
   "outputs": [
    {
     "ename": "KeyError",
     "evalue": "'year'",
     "output_type": "error",
     "traceback": [
      "\u001b[0;31m---------------------------------------------------------------------------\u001b[0m",
      "\u001b[0;31mKeyError\u001b[0m                                  Traceback (most recent call last)",
      "\u001b[0;32m/g/data3/hh5/public/apps/miniconda3/envs/analysis3-21.01/lib/python3.8/site-packages/xarray/core/dataarray.py\u001b[0m in \u001b[0;36m_getitem_coord\u001b[0;34m(self, key)\u001b[0m\n\u001b[1;32m    692\u001b[0m         \u001b[0;32mtry\u001b[0m\u001b[0;34m:\u001b[0m\u001b[0;34m\u001b[0m\u001b[0;34m\u001b[0m\u001b[0m\n\u001b[0;32m--> 693\u001b[0;31m             \u001b[0mvar\u001b[0m \u001b[0;34m=\u001b[0m \u001b[0mself\u001b[0m\u001b[0;34m.\u001b[0m\u001b[0m_coords\u001b[0m\u001b[0;34m[\u001b[0m\u001b[0mkey\u001b[0m\u001b[0;34m]\u001b[0m\u001b[0;34m\u001b[0m\u001b[0;34m\u001b[0m\u001b[0m\n\u001b[0m\u001b[1;32m    694\u001b[0m         \u001b[0;32mexcept\u001b[0m \u001b[0mKeyError\u001b[0m\u001b[0;34m:\u001b[0m\u001b[0;34m\u001b[0m\u001b[0;34m\u001b[0m\u001b[0m\n",
      "\u001b[0;31mKeyError\u001b[0m: 'year'",
      "\nDuring handling of the above exception, another exception occurred:\n",
      "\u001b[0;31mKeyError\u001b[0m                                  Traceback (most recent call last)",
      "\u001b[0;32m<ipython-input-40-a2115c0232cd>\u001b[0m in \u001b[0;36m<module>\u001b[0;34m\u001b[0m\n\u001b[1;32m      4\u001b[0m     \u001b[0;32mreturn\u001b[0m \u001b[0ma\u001b[0m \u001b[0;34m*\u001b[0m \u001b[0mt\u001b[0m\u001b[0;34m**\u001b[0m\u001b[0;36m3\u001b[0m \u001b[0;34m+\u001b[0m \u001b[0mb\u001b[0m \u001b[0;34m*\u001b[0m \u001b[0mt\u001b[0m\u001b[0;34m**\u001b[0m\u001b[0;36m2\u001b[0m \u001b[0;34m+\u001b[0m \u001b[0mc\u001b[0m \u001b[0;34m*\u001b[0m \u001b[0mt\u001b[0m \u001b[0;34m+\u001b[0m \u001b[0md\u001b[0m\u001b[0;34m\u001b[0m\u001b[0;34m\u001b[0m\u001b[0m\n\u001b[1;32m      5\u001b[0m \u001b[0;34m\u001b[0m\u001b[0m\n\u001b[0;32m----> 6\u001b[0;31m \u001b[0mt\u001b[0m \u001b[0;34m=\u001b[0m \u001b[0mtemp_cont_ave\u001b[0m\u001b[0;34m[\u001b[0m\u001b[0;34m'year'\u001b[0m\u001b[0;34m]\u001b[0m\u001b[0;34m\u001b[0m\u001b[0;34m\u001b[0m\u001b[0m\n\u001b[0m\u001b[1;32m      7\u001b[0m \u001b[0mpopt\u001b[0m\u001b[0;34m,\u001b[0m \u001b[0mpcov\u001b[0m \u001b[0;34m=\u001b[0m \u001b[0mcurve_fit\u001b[0m\u001b[0;34m(\u001b[0m\u001b[0mcubic\u001b[0m\u001b[0;34m,\u001b[0m \u001b[0mt\u001b[0m\u001b[0;34m,\u001b[0m \u001b[0mtemp_cont_ave\u001b[0m\u001b[0;34m)\u001b[0m\u001b[0;34m\u001b[0m\u001b[0;34m\u001b[0m\u001b[0m\n\u001b[1;32m      8\u001b[0m \u001b[0mtemp_ave_trend\u001b[0m \u001b[0;34m=\u001b[0m \u001b[0mcubic\u001b[0m\u001b[0;34m(\u001b[0m\u001b[0mt\u001b[0m\u001b[0;34m,\u001b[0m \u001b[0;34m*\u001b[0m\u001b[0mpopt\u001b[0m\u001b[0;34m)\u001b[0m\u001b[0;34m\u001b[0m\u001b[0;34m\u001b[0m\u001b[0m\n",
      "\u001b[0;32m/g/data3/hh5/public/apps/miniconda3/envs/analysis3-21.01/lib/python3.8/site-packages/xarray/core/dataarray.py\u001b[0m in \u001b[0;36m__getitem__\u001b[0;34m(self, key)\u001b[0m\n\u001b[1;32m    702\u001b[0m     \u001b[0;32mdef\u001b[0m \u001b[0m__getitem__\u001b[0m\u001b[0;34m(\u001b[0m\u001b[0mself\u001b[0m\u001b[0;34m,\u001b[0m \u001b[0mkey\u001b[0m\u001b[0;34m:\u001b[0m \u001b[0mAny\u001b[0m\u001b[0;34m)\u001b[0m \u001b[0;34m->\u001b[0m \u001b[0;34m\"DataArray\"\u001b[0m\u001b[0;34m:\u001b[0m\u001b[0;34m\u001b[0m\u001b[0;34m\u001b[0m\u001b[0m\n\u001b[1;32m    703\u001b[0m         \u001b[0;32mif\u001b[0m \u001b[0misinstance\u001b[0m\u001b[0;34m(\u001b[0m\u001b[0mkey\u001b[0m\u001b[0;34m,\u001b[0m \u001b[0mstr\u001b[0m\u001b[0;34m)\u001b[0m\u001b[0;34m:\u001b[0m\u001b[0;34m\u001b[0m\u001b[0;34m\u001b[0m\u001b[0m\n\u001b[0;32m--> 704\u001b[0;31m             \u001b[0;32mreturn\u001b[0m \u001b[0mself\u001b[0m\u001b[0;34m.\u001b[0m\u001b[0m_getitem_coord\u001b[0m\u001b[0;34m(\u001b[0m\u001b[0mkey\u001b[0m\u001b[0;34m)\u001b[0m\u001b[0;34m\u001b[0m\u001b[0;34m\u001b[0m\u001b[0m\n\u001b[0m\u001b[1;32m    705\u001b[0m         \u001b[0;32melse\u001b[0m\u001b[0;34m:\u001b[0m\u001b[0;34m\u001b[0m\u001b[0;34m\u001b[0m\u001b[0m\n\u001b[1;32m    706\u001b[0m             \u001b[0;31m# xarray-style array indexing\u001b[0m\u001b[0;34m\u001b[0m\u001b[0;34m\u001b[0m\u001b[0;34m\u001b[0m\u001b[0m\n",
      "\u001b[0;32m/g/data3/hh5/public/apps/miniconda3/envs/analysis3-21.01/lib/python3.8/site-packages/xarray/core/dataarray.py\u001b[0m in \u001b[0;36m_getitem_coord\u001b[0;34m(self, key)\u001b[0m\n\u001b[1;32m    694\u001b[0m         \u001b[0;32mexcept\u001b[0m \u001b[0mKeyError\u001b[0m\u001b[0;34m:\u001b[0m\u001b[0;34m\u001b[0m\u001b[0;34m\u001b[0m\u001b[0m\n\u001b[1;32m    695\u001b[0m             \u001b[0mdim_sizes\u001b[0m \u001b[0;34m=\u001b[0m \u001b[0mdict\u001b[0m\u001b[0;34m(\u001b[0m\u001b[0mzip\u001b[0m\u001b[0;34m(\u001b[0m\u001b[0mself\u001b[0m\u001b[0;34m.\u001b[0m\u001b[0mdims\u001b[0m\u001b[0;34m,\u001b[0m \u001b[0mself\u001b[0m\u001b[0;34m.\u001b[0m\u001b[0mshape\u001b[0m\u001b[0;34m)\u001b[0m\u001b[0;34m)\u001b[0m\u001b[0;34m\u001b[0m\u001b[0;34m\u001b[0m\u001b[0m\n\u001b[0;32m--> 696\u001b[0;31m             _, key, var = _get_virtual_variable(\n\u001b[0m\u001b[1;32m    697\u001b[0m                 \u001b[0mself\u001b[0m\u001b[0;34m.\u001b[0m\u001b[0m_coords\u001b[0m\u001b[0;34m,\u001b[0m \u001b[0mkey\u001b[0m\u001b[0;34m,\u001b[0m \u001b[0mself\u001b[0m\u001b[0;34m.\u001b[0m\u001b[0m_level_coords\u001b[0m\u001b[0;34m,\u001b[0m \u001b[0mdim_sizes\u001b[0m\u001b[0;34m\u001b[0m\u001b[0;34m\u001b[0m\u001b[0m\n\u001b[1;32m    698\u001b[0m             )\n",
      "\u001b[0;32m/g/data3/hh5/public/apps/miniconda3/envs/analysis3-21.01/lib/python3.8/site-packages/xarray/core/dataset.py\u001b[0m in \u001b[0;36m_get_virtual_variable\u001b[0;34m(variables, key, level_vars, dim_sizes)\u001b[0m\n\u001b[1;32m    169\u001b[0m         \u001b[0mref_var\u001b[0m \u001b[0;34m=\u001b[0m \u001b[0mdim_var\u001b[0m\u001b[0;34m.\u001b[0m\u001b[0mto_index_variable\u001b[0m\u001b[0;34m(\u001b[0m\u001b[0;34m)\u001b[0m\u001b[0;34m.\u001b[0m\u001b[0mget_level_variable\u001b[0m\u001b[0;34m(\u001b[0m\u001b[0mref_name\u001b[0m\u001b[0;34m)\u001b[0m\u001b[0;34m\u001b[0m\u001b[0;34m\u001b[0m\u001b[0m\n\u001b[1;32m    170\u001b[0m     \u001b[0;32melse\u001b[0m\u001b[0;34m:\u001b[0m\u001b[0;34m\u001b[0m\u001b[0;34m\u001b[0m\u001b[0m\n\u001b[0;32m--> 171\u001b[0;31m         \u001b[0mref_var\u001b[0m \u001b[0;34m=\u001b[0m \u001b[0mvariables\u001b[0m\u001b[0;34m[\u001b[0m\u001b[0mref_name\u001b[0m\u001b[0;34m]\u001b[0m\u001b[0;34m\u001b[0m\u001b[0;34m\u001b[0m\u001b[0m\n\u001b[0m\u001b[1;32m    172\u001b[0m \u001b[0;34m\u001b[0m\u001b[0m\n\u001b[1;32m    173\u001b[0m     \u001b[0;32mif\u001b[0m \u001b[0mvar_name\u001b[0m \u001b[0;32mis\u001b[0m \u001b[0;32mNone\u001b[0m\u001b[0;34m:\u001b[0m\u001b[0;34m\u001b[0m\u001b[0;34m\u001b[0m\u001b[0m\n",
      "\u001b[0;31mKeyError\u001b[0m: 'year'"
     ]
    }
   ],
   "source": [
    "# Trend in control heat content: fit a cubic\n",
    "\n",
    "def cubic(t, a, b, c, d):\n",
    "    return a * t**3 + b * t**2 + c * t + d\n",
    "\n",
    "t = temp_cont_ave['year']\n",
    "popt, pcov = curve_fit(cubic, t, temp_cont_ave)\n",
    "temp_ave_trend = cubic(t, *popt)\n",
    "\n",
    "plt.figure(figsize=(13,9))\n",
    "(temp_ave_trend - 273.15).plot(color='r', linestyle='--', label='Fit')\n",
    "(temp_cont_ave - 273.15).plot(color='b', label='Data')\n",
    "plt.legend()\n",
    "plt.title('Drift in control global average temperature', fontsize=13)\n",
    "plt.ylabel('Temperature (deg C)', fontsize=12)\n",
    "plt.xlabel('Year', fontsize=12)\n",
    "plt.grid()\n",
    "#plt.savefig('drift.jpg')\n",
    "\n",
    "plt.figure(figsize=(13,9))\n",
    "(temp_cool_ave-273.15).plot(label='cool', color='b')\n",
    "(temp_warm_ave-273.15).plot(label='warm', color='r')\n",
    "(temp_cont_ave-273.15).plot(label='cont', color='g')"
   ]
  },
  {
   "cell_type": "markdown",
   "metadata": {},
   "source": [
    "#### Plotting globally averaged temperature over time"
   ]
  },
  {
   "cell_type": "code",
   "execution_count": 12,
   "metadata": {},
   "outputs": [
    {
     "data": {
      "image/png": "[encoded data removed]",
      "text/plain": [
       "<Figure size 1224x864 with 1 Axes>"
      ]
     },
     "metadata": {
      "needs_background": "light"
     },
     "output_type": "display_data"
    }
   ],
   "source": [
    "plt.figure(figsize = (17,12))\n",
    "\n",
    "zero = xr.DataArray(data=[0], dims='year', coords={\"year\": [2399]})\n",
    "\n",
    "warmx1_test_anom_plot = xr.concat([zero, temp_warmx1_test_ave - temp_cont_ave], dim='year')\n",
    "warmx1_test1_anom_plot = xr.concat([zero, temp_warmx1_test1_ave - temp_cont_ave], dim='year')\n",
    "\n",
    "warmx1_test1_anom_plot.plot(label='Manual file changes', color = 'r')\n",
    "warmx1_test_anom_plot.plot(label='Perturbations', color = 'r', linestyle = '--')\n",
    "\n",
    "plt.title('Global average temperature anomaly', fontsize=14)\n",
    "plt.ylabel('Temperature anomaly (K)', fontsize=12)\n",
    "plt.xlabel('Years', fontsize=12)\n",
    "plt.legend(fontsize=12)\n",
    "plt.grid()\n",
    "plt.savefig('ave_temp_compare.jpg')"
   ]
  },
  {
   "cell_type": "code",
   "execution_count": 48,
   "metadata": {},
   "outputs": [
    {
     "data": {
      "image/png": "[encoded data removed]",
      "text/plain": [
       "<Figure size 1224x864 with 1 Axes>"
      ]
     },
     "metadata": {
      "needs_background": "light"
     },
     "output_type": "display_data"
    }
   ],
   "source": [
    "plt.figure(figsize = (17,12))\n",
    "\n",
    "zero = xr.DataArray(data=[0], dims='year', coords={\"year\": [2399]})\n",
    "\n",
    "RCPcool_humid_x1_anom_plot = xr.concat([zero, temp_RCPcool_humid_x1_ave - temp_cont_ave], dim='year')\n",
    "RCPcool_humid_x2_anom_plot = xr.concat([zero, temp_RCPcool_humid_x2_ave - temp_cont_ave], dim='year')\n",
    "RCPwarm_humid_x1_anom_plot = xr.concat([zero, temp_RCPwarm_humid_x1_ave - temp_cont_ave], dim='year')\n",
    "RCPwarm_humid_x2_anom_plot = xr.concat([zero, temp_RCPwarm_humid_x2_ave - temp_cont_ave], dim='year')\n",
    "\n",
    "coolx1_anom_plot = xr.concat([zero, temp_coolx1_ave - temp_cont_ave], dim='year')\n",
    "coolx2_anom_plot = xr.concat([zero, temp_coolx2_ave - temp_cont_ave], dim='year')\n",
    "warmx1_anom_plot = xr.concat([zero, temp_warmx1_ave - temp_cont_ave], dim='year')\n",
    "warmx2_anom_plot = xr.concat([zero, temp_warmx2_ave - temp_cont_ave], dim='year')\n",
    "\n",
    "(- 0.5 * RCPcool_humid_x2_anom_plot).plot(label='Double cooling x$-0.5$', color = 'b', linestyle = '--')\n",
    "(- 1 * RCPcool_humid_x1_anom_plot).plot(label='Cooling x $-1$', color = 'b')\n",
    "RCPwarm_humid_x1_anom_plot.plot(label='Warming', color = 'r')\n",
    "(0.5 * RCPwarm_humid_x2_anom_plot).plot(label='Double warming x$0.5$', color = 'r', linestyle = '--')\n",
    "\n",
    "# (-0.5 * coolx2_anom_plot).plot(label='Double cooling x$-0.5$', color = 'b')\n",
    "(- 1 * coolx1_anom_plot).plot(label='Bad cooling x $-1$', color = 'b', linestyle = '-.')\n",
    "(warmx1_anom_plot).plot(label='Bad warming', color = 'r', linestyle = '-.')\n",
    "# (0.5 * warmx2_anom_plot).plot(label='Double warming x$0.5$', color = 'r')\n",
    "\n",
    "plt.title('Global average temperature anomaly', fontsize=14)\n",
    "plt.ylabel('Temperature anomaly (K)', fontsize=12)\n",
    "plt.xlabel('Years', fontsize=12)\n",
    "plt.legend(fontsize=12)\n",
    "plt.grid()\n",
    "#plt.savefig('global_average_temp.jpg')"
   ]
  },
  {
   "cell_type": "markdown",
   "metadata": {},
   "source": [
    "### Calculate SST"
   ]
  },
  {
   "cell_type": "code",
   "execution_count": 13,
   "metadata": {},
   "outputs": [],
   "source": [
    "# SST\n",
    "yr_beg = '2401-01-01' # I'm not sure why but this year makes the SST start at 2400-01-02, which I want.\n",
    "expt = '1deg_jra55_ryf_cont'\n",
    "var = 'temp_surface_ave'\n",
    "SST_cont = cc.querying.getvar(expt, var, session, start_time = yr_beg)[:-1].groupby('time.year').mean('time')"
   ]
  },
  {
   "cell_type": "code",
   "execution_count": null,
   "metadata": {
    "jupyter": {
     "source_hidden": true
    }
   },
   "outputs": [],
   "source": [
    "expt = '1deg_jra55_ryf_RCPcool_humid_x1'\n",
    "var = 'temp_surface_ave'\n",
    "SST_RCPcool_humid_x1 = cc.querying.getvar(expt, var, session)[:-1].groupby('time.year').mean('time')"
   ]
  },
  {
   "cell_type": "code",
   "execution_count": null,
   "metadata": {
    "jupyter": {
     "source_hidden": true
    }
   },
   "outputs": [],
   "source": [
    "expt = '1deg_jra55_ryf_RCPcool_humid_x2'\n",
    "var = 'temp_surface_ave'\n",
    "SST_RCPcool_humid_x2 = cc.querying.getvar(expt, var, session)[:-1].groupby('time.year').mean('time')"
   ]
  },
  {
   "cell_type": "code",
   "execution_count": null,
   "metadata": {
    "jupyter": {
     "source_hidden": true
    }
   },
   "outputs": [],
   "source": [
    "expt = '1deg_jra55_ryf_RCPwarm_humid_x1'\n",
    "var = 'temp_surface_ave'\n",
    "SST_RCPwarm_humid_x1 = cc.querying.getvar(expt, var, session)[:-1].groupby('time.year').mean('time')"
   ]
  },
  {
   "cell_type": "code",
   "execution_count": null,
   "metadata": {
    "jupyter": {
     "source_hidden": true
    }
   },
   "outputs": [],
   "source": [
    "expt = '1deg_jra55_ryf_RCPwarm_humid_x2'\n",
    "var = 'temp_surface_ave'\n",
    "SST_RCPwarm_humid_x2 = cc.querying.getvar(expt, var, session)[:-1].groupby('time.year').mean('time')"
   ]
  },
  {
   "cell_type": "code",
   "execution_count": null,
   "metadata": {
    "jupyter": {
     "source_hidden": true
    }
   },
   "outputs": [],
   "source": [
    "expt = '1deg_jra55_ryf_rcp45cool_x1_spinup500'\n",
    "var = 'temp_surface_ave'\n",
    "SST_coolx1 = cc.querying.getvar(expt, var, session)[:-1].groupby('time.year').mean('time')"
   ]
  },
  {
   "cell_type": "code",
   "execution_count": null,
   "metadata": {
    "jupyter": {
     "source_hidden": true
    }
   },
   "outputs": [],
   "source": [
    "expt = '1deg_jra55_ryf_rcp45warm_x1_spinup500'\n",
    "var = 'temp_surface_ave'\n",
    "SST_warmx1 = cc.querying.getvar(expt, var, session)[:-1].groupby('time.year').mean('time')"
   ]
  },
  {
   "cell_type": "code",
   "execution_count": null,
   "metadata": {
    "jupyter": {
     "source_hidden": true
    }
   },
   "outputs": [],
   "source": [
    "expt = '1deg_jra55_ryf_rcp45cool_x2_spinup500'\n",
    "var = 'temp_surface_ave'\n",
    "SST_coolx2 = cc.querying.getvar(expt, var, session)[:-1].groupby('time.year').mean('time')"
   ]
  },
  {
   "cell_type": "code",
   "execution_count": null,
   "metadata": {
    "jupyter": {
     "source_hidden": true
    }
   },
   "outputs": [],
   "source": [
    "expt = '1deg_jra55_ryf_rcp45warm_x2_spinup500'\n",
    "var = 'temp_surface_ave'\n",
    "SST_warmx2 = cc.querying.getvar(expt, var, session)[:-1].groupby('time.year').mean('time')"
   ]
  },
  {
   "cell_type": "code",
   "execution_count": 14,
   "metadata": {},
   "outputs": [],
   "source": [
    "expt = '1deg_jra55_ryf_rcp45warm_x1_spinup500_test'\n",
    "var = 'temp_surface_ave'\n",
    "SST_warmx1_test = cc.querying.getvar(expt, var, session)[:-1].groupby('time.year').mean('time')"
   ]
  },
  {
   "cell_type": "code",
   "execution_count": 15,
   "metadata": {},
   "outputs": [],
   "source": [
    "expt = '1deg_jra55_ryf_rcp45warm_x1_spinup500_test1'\n",
    "var = 'temp_surface_ave'\n",
    "SST_warmx1_test1 = cc.querying.getvar(expt, var, session)[:-1].groupby('time.year').mean('time')"
   ]
  },
  {
   "cell_type": "code",
   "execution_count": 56,
   "metadata": {
    "jupyter": {
     "source_hidden": true
    }
   },
   "outputs": [],
   "source": [
    "expt = '1deg_jra55_ryf_warm_1.5sat_0dwlw_spinup500'\n",
    "var = 'temp_surface_ave'\n",
    "SST_warm_Tonly = cc.querying.getvar(expt, var, session)[:-1].groupby('time.year').mean('time')"
   ]
  },
  {
   "cell_type": "code",
   "execution_count": 57,
   "metadata": {
    "jupyter": {
     "source_hidden": true
    }
   },
   "outputs": [],
   "source": [
    "expt = '1deg_jra55_ryf_warm_0sat_8dwlw_spinup500'\n",
    "var = 'temp_surface_ave'\n",
    "SST_warm_RADonly = cc.querying.getvar(expt, var, session)[:-1].groupby('time.year').mean('time')"
   ]
  },
  {
   "cell_type": "code",
   "execution_count": 16,
   "metadata": {},
   "outputs": [],
   "source": [
    "SST_cont = SST_cont.load()\n",
    "SST_warmx1_test = SST_warmx1_test.load()\n",
    "SST_warmx1_test1 = SST_warmx1_test1.load()"
   ]
  },
  {
   "cell_type": "code",
   "execution_count": null,
   "metadata": {
    "jupyter": {
     "source_hidden": true
    }
   },
   "outputs": [],
   "source": [
    "SST_cont = SST_cont.load()\n",
    "SST_RCPcool_humid_x1 = SST_RCPcool_humid_x1.load()\n",
    "SST_RCPcool_humid_x2 = SST_RCPcool_humid_x2.load()\n",
    "SST_RCPwarm_humid_x1 = SST_RCPwarm_humid_x1.load()\n",
    "SST_RCPwarm_humid_x2 = SST_RCPwarm_humid_x2.load()\n",
    "\n",
    "SST_coolx1 = SST_coolx1.load()\n",
    "SST_coolx2 = SST_coolx2.load()"
   ]
  },
  {
   "cell_type": "code",
   "execution_count": 17,
   "metadata": {},
   "outputs": [
    {
     "data": {
      "image/png": "[encoded data removed]",
      "text/plain": [
       "<Figure size 1224x864 with 1 Axes>"
      ]
     },
     "metadata": {
      "needs_background": "light"
     },
     "output_type": "display_data"
    }
   ],
   "source": [
    "plt.figure(figsize = (17,12))\n",
    "\n",
    "zero = xr.DataArray(data=[0], dims='year', coords={\"year\": [2399]})\n",
    "\n",
    "warmx1_test_anom_plot = xr.concat([zero, SST_warmx1_test[:,0] - SST_cont[:,0]], dim='year')\n",
    "warmx1_test1_anom_plot = xr.concat([zero, SST_warmx1_test1[:,0] - SST_cont[:,0]], dim='year')\n",
    "\n",
    "warmx1_test1_anom_plot.plot(label='Manual file changes', color = 'r')\n",
    "warmx1_test_anom_plot.plot(label='Perturbations', color = 'r', linestyle = '--')\n",
    "\n",
    "plt.title('SST anomaly', fontsize=13)\n",
    "plt.ylabel('Temperature anomaly (K)', fontsize=12)\n",
    "plt.xlabel('Years', fontsize=12)\n",
    "plt.legend(fontsize=12)\n",
    "plt.grid()\n",
    "plt.savefig('SST_compare.jpg')"
   ]
  },
  {
   "cell_type": "code",
   "execution_count": null,
   "metadata": {},
   "outputs": [],
   "source": [
    "plt.figure(figsize = (17,12))\n",
    "\n",
    "zero = xr.DataArray(data=[0], dims='year', coords={\"year\": [2399]})\n",
    "\n",
    "RCPcool_humid_x1_anom_plot = xr.concat([zero, SST_RCPcool_humid_x1[:,0] - SST_cont[:,0]], dim='year')\n",
    "RCPcool_humid_x2_anom_plot = xr.concat([zero, SST_RCPcool_humid_x2[:,0] - SST_cont[:,0]], dim='year')\n",
    "RCPwarm_humid_x1_anom_plot = xr.concat([zero, SST_RCPwarm_humid_x1[:,0] - SST_cont[:,0]], dim='year')\n",
    "RCPwarm_humid_x2_anom_plot = xr.concat([zero, SST_RCPwarm_humid_x2[:,0] - SST_cont[:,0]], dim='year')\n",
    "\n",
    "(- 1 * RCPcool_humid_x1_anom_plot).plot(label='Cooling x$-1$', color = 'b')\n",
    "(- 0.5 * RCPcool_humid_x2_anom_plot).plot(label='Double cooling x$-0.5$', color = 'b', linestyle = '--')\n",
    "RCPwarm_humid_x1_anom_plot.plot(label='Warming', color = 'r')\n",
    "(0.5 * RCPwarm_humid_x2_anom_plot).plot(label='Double warming x$0.5$', color = 'r', linestyle = '--')\n",
    "\n",
    "plt.title('SST anomaly', fontsize=13)\n",
    "plt.ylabel('Temperature anomaly (K)', fontsize=12)\n",
    "plt.xlabel('Years', fontsize=12)\n",
    "plt.legend(fontsize=12)\n",
    "plt.grid()\n",
    "#plt.savefig('SST_good_perturbation.jpg')"
   ]
  },
  {
   "cell_type": "markdown",
   "metadata": {},
   "source": [
    "### Calculate total ocean heat content from conservative temperature"
   ]
  },
  {
   "cell_type": "code",
   "execution_count": 8,
   "metadata": {},
   "outputs": [],
   "source": [
    "rho_0 = 1030 #kg/m^3\n",
    "c_p = 3992 #J/kg/K"
   ]
  },
  {
   "cell_type": "code",
   "execution_count": 9,
   "metadata": {},
   "outputs": [],
   "source": [
    "expt = '1deg_jra55_ryf_cont'\n",
    "dzt = cc.querying.getvar(expt, 'dzt', session, start_time = yr_beg)\n",
    "area_t = cc.querying.getvar(expt, 'area_t', session, n=1) # area of cells\n",
    "dVol = (dzt * area_t) #Volume of cells\n",
    "heat_cont = rho_0 * c_p * (temp_cont * dVol).sum(dim = ['xt_ocean', 'yt_ocean', 'st_ocean'])"
   ]
  },
  {
   "cell_type": "code",
   "execution_count": 35,
   "metadata": {},
   "outputs": [],
   "source": [
    "# expt = '1deg_jra55_ryf_rcp45cool_spinup500'\n",
    "# dzt = cc.querying.getvar(expt, 'dzt', session) #thickness of cells\n",
    "# area_t = cc.querying.getvar(expt, 'area_t', session, n=1) # area of cells\n",
    "# dVol = (dzt * area_t) #Volume of cells\n",
    "# heat_cool = rho_0 * c_p * (temp_cool * dVol).sum(dim = ['xt_ocean', 'yt_ocean', 'st_ocean'])"
   ]
  },
  {
   "cell_type": "code",
   "execution_count": 36,
   "metadata": {},
   "outputs": [],
   "source": [
    "# expt = '1deg_jra55_ryf_rcp45warm_spinup500'\n",
    "# dzt = cc.querying.getvar(expt, 'dzt', session) #thickness of cells\n",
    "# area_t = cc.querying.getvar(expt, 'area_t', session, n=1) # area of cells\n",
    "# dVol = (dzt * area_t) #Volume of cells\n",
    "# heat_warm = rho_0 * c_p * (temp_warm * dVol).sum(dim = ['xt_ocean', 'yt_ocean', 'st_ocean'])"
   ]
  },
  {
   "cell_type": "code",
   "execution_count": 26,
   "metadata": {
    "collapsed": true,
    "jupyter": {
     "outputs_hidden": true
    }
   },
   "outputs": [
    {
     "name": "stderr",
     "output_type": "stream",
     "text": [
      "Exception during reset or similar\n",
      "Traceback (most recent call last):\n",
      "  File \"/g/data3/hh5/public/apps/miniconda3/envs/analysis3-21.01/lib/python3.8/site-packages/sqlalchemy/pool/base.py\", line 697, in _finalize_fairy\n",
      "    fairy._reset(pool)\n",
      "  File \"/g/data3/hh5/public/apps/miniconda3/envs/analysis3-21.01/lib/python3.8/site-packages/sqlalchemy/pool/base.py\", line 893, in _reset\n",
      "    pool._dialect.do_rollback(self)\n",
      "  File \"/g/data3/hh5/public/apps/miniconda3/envs/analysis3-21.01/lib/python3.8/site-packages/sqlalchemy/engine/default.py\", line 559, in do_rollback\n",
      "    dbapi_connection.rollback()\n",
      "sqlite3.ProgrammingError: SQLite objects created in a thread can only be used in that same thread. The object was created in thread id 22783579019072 and this is thread id 22779092530944.\n",
      "Exception closing connection <sqlite3.Connection object at 0x14b816fef3f0>\n",
      "Traceback (most recent call last):\n",
      "  File \"/g/data3/hh5/public/apps/miniconda3/envs/analysis3-21.01/lib/python3.8/site-packages/sqlalchemy/pool/base.py\", line 697, in _finalize_fairy\n",
      "    fairy._reset(pool)\n",
      "  File \"/g/data3/hh5/public/apps/miniconda3/envs/analysis3-21.01/lib/python3.8/site-packages/sqlalchemy/pool/base.py\", line 893, in _reset\n",
      "    pool._dialect.do_rollback(self)\n",
      "  File \"/g/data3/hh5/public/apps/miniconda3/envs/analysis3-21.01/lib/python3.8/site-packages/sqlalchemy/engine/default.py\", line 559, in do_rollback\n",
      "    dbapi_connection.rollback()\n",
      "sqlite3.ProgrammingError: SQLite objects created in a thread can only be used in that same thread. The object was created in thread id 22783579019072 and this is thread id 22779092530944.\n",
      "\n",
      "During handling of the above exception, another exception occurred:\n",
      "\n",
      "Traceback (most recent call last):\n",
      "  File \"/g/data3/hh5/public/apps/miniconda3/envs/analysis3-21.01/lib/python3.8/site-packages/sqlalchemy/pool/base.py\", line 270, in _close_connection\n",
      "    self._dialect.do_close(connection)\n",
      "  File \"/g/data3/hh5/public/apps/miniconda3/envs/analysis3-21.01/lib/python3.8/site-packages/sqlalchemy/engine/default.py\", line 565, in do_close\n",
      "    dbapi_connection.close()\n",
      "sqlite3.ProgrammingError: SQLite objects created in a thread can only be used in that same thread. The object was created in thread id 22783579019072 and this is thread id 22779092530944.\n"
     ]
    }
   ],
   "source": [
    "expt = '1deg_jra55_ryf_rcp45cool_x1_spinup500'\n",
    "dzt = cc.querying.getvar(expt, 'dzt', session) #thickness of cells\n",
    "area_t = cc.querying.getvar(expt, 'area_t', session, n=1) # area of cells\n",
    "dVol = (dzt * area_t) #Volume of cells\n",
    "heat_coolx1 = rho_0 * c_p * (temp_coolx1 * dVol).sum(dim = ['xt_ocean', 'yt_ocean', 'st_ocean'])"
   ]
  },
  {
   "cell_type": "code",
   "execution_count": 27,
   "metadata": {},
   "outputs": [],
   "source": [
    "expt = '1deg_jra55_ryf_rcp45warm_x1_spinup500'\n",
    "dzt = cc.querying.getvar(expt, 'dzt', session) #thickness of cells\n",
    "area_t = cc.querying.getvar(expt, 'area_t', session, n=1) # area of cells\n",
    "dVol = (dzt * area_t) #Volume of cells\n",
    "heat_warmx1 = rho_0 * c_p * (temp_warmx1 * dVol).sum(dim = ['xt_ocean', 'yt_ocean', 'st_ocean'])"
   ]
  },
  {
   "cell_type": "code",
   "execution_count": 10,
   "metadata": {},
   "outputs": [],
   "source": [
    "expt = '1deg_jra55_ryf_rcp45cool_x2_spinup500'\n",
    "dzt = cc.querying.getvar(expt, 'dzt', session) #thickness of cells\n",
    "area_t = cc.querying.getvar(expt, 'area_t', session, n=1) # area of cells\n",
    "dVol = (dzt * area_t) #Volume of cells\n",
    "heat_coolx2 = rho_0 * c_p * (temp_coolx2 * dVol).sum(dim = ['xt_ocean', 'yt_ocean', 'st_ocean'])"
   ]
  },
  {
   "cell_type": "code",
   "execution_count": 11,
   "metadata": {},
   "outputs": [],
   "source": [
    "expt = '1deg_jra55_ryf_rcp45warm_x2_spinup500'\n",
    "dzt = cc.querying.getvar(expt, 'dzt', session) #thickness of cells\n",
    "area_t = cc.querying.getvar(expt, 'area_t', session, n=1) # area of cells\n",
    "dVol = (dzt * area_t) #Volume of cells\n",
    "heat_warmx2 = rho_0 * c_p * (temp_warmx2 * dVol).sum(dim = ['xt_ocean', 'yt_ocean', 'st_ocean'])"
   ]
  },
  {
   "cell_type": "code",
   "execution_count": 12,
   "metadata": {},
   "outputs": [],
   "source": [
    "# Yearly average\n",
    "\n",
    "heat_cont = heat_cont.groupby('time.year').mean(dim='time').load()\n",
    "heat_coolx2 = heat_coolx2.groupby('time.year').mean(dim='time').load()\n",
    "heat_warmx2 = heat_warmx2.groupby('time.year').mean(dim='time').load()"
   ]
  },
  {
   "cell_type": "code",
   "execution_count": 29,
   "metadata": {},
   "outputs": [],
   "source": [
    "heat_coolx1 = heat_coolx1.groupby('time.year').mean(dim='time').load()\n",
    "heat_warmx1 = heat_warmx1.groupby('time.year').mean(dim='time').load()"
   ]
  },
  {
   "cell_type": "code",
   "execution_count": 49,
   "metadata": {
    "collapsed": true,
    "jupyter": {
     "outputs_hidden": true
    }
   },
   "outputs": [
    {
     "data": {
      "text/plain": [
       "[<matplotlib.lines.Line2D at 0x154e806f6df0>]"
      ]
     },
     "execution_count": 49,
     "metadata": {},
     "output_type": "execute_result"
    },
    {
     "data": {
      "image/png": "[encoded data removed]",
      "text/plain": [
       "<Figure size 648x432 with 1 Axes>"
      ]
     },
     "metadata": {
      "needs_background": "light"
     },
     "output_type": "display_data"
    }
   ],
   "source": [
    "# Trend in control heat content: fit a cubic\n",
    "\n",
    "def cubic(t, a, b, c, d):\n",
    "    return a * t**3 + b * t**2 + c * t + d\n",
    "\n",
    "t = heat_cont['year']\n",
    "popt, pcov = curve_fit(cubic, t, heat_cont / 1e27)\n",
    "heat_trend = cubic(t, *popt) * 1e27\n",
    "\n",
    "plt.figure(figsize=(9,6))\n",
    "(heat_trend).plot(color='r', linestyle='--')\n",
    "heat_cont.plot(color='b')"
   ]
  },
  {
   "cell_type": "markdown",
   "metadata": {},
   "source": [
    "#### Plotting ocean heat content over time"
   ]
  },
  {
   "cell_type": "code",
   "execution_count": 36,
   "metadata": {},
   "outputs": [
    {
     "data": {
      "image/png": "[encoded data removed]",
      "text/plain": [
       "<Figure size 1224x864 with 1 Axes>"
      ]
     },
     "metadata": {
      "needs_background": "light"
     },
     "output_type": "display_data"
    }
   ],
   "source": [
    "plt.figure(figsize = (17,12))\n",
    "\n",
    "(-1 * (heat_coolx1 - heat_cont)).plot(label='Cooling x$-1$', color = 'b')\n",
    "(heat_warmx1 - heat_cont).plot(label='Warming', color = 'r')\n",
    "(-0.5 * (heat_coolx2 - heat_cont)).plot(label='Double cooling x$-0.5$', color = 'b', linestyle='--')\n",
    "(0.5 * (heat_warmx2 - heat_cont)).plot(label='Double warming x$0.5$', color = 'r', linestyle='--')\n",
    "plt.title('Total ocean heat content')\n",
    "plt.ylabel('Heat content anomaly (J)', fontsize=12)\n",
    "plt.xlabel('Years', fontsize=12)\n",
    "plt.legend(fontsize=12)\n",
    "plt.grid()\n",
    "#plt.savefig('total_heat_content.jpg')"
   ]
  },
  {
   "cell_type": "markdown",
   "metadata": {},
   "source": [
    "### Calculate vertically-integrated heat content from conservative temperature"
   ]
  },
  {
   "cell_type": "code",
   "execution_count": 83,
   "metadata": {},
   "outputs": [],
   "source": [
    "expt = '1deg_jra55_ryf_cont'\n",
    "var = 'dzt'\n",
    "dzt = cc.querying.getvar(expt, var, session, start_time = yr_beg)\n",
    "vertically_integrated_heat_cont = (rho_0 * c_p * temp_cont * dzt).sum('st_ocean').groupby('time.year').mean(dim='time')"
   ]
  },
  {
   "cell_type": "code",
   "execution_count": 84,
   "metadata": {},
   "outputs": [],
   "source": [
    "expt = '1deg_jra55_ryf_rcp45cool_spinup500'\n",
    "var = 'dzt'\n",
    "dzt = cc.querying.getvar(expt, var, session)\n",
    "vertically_integrated_heat_cool = (rho_0 * c_p * temp_cool * dzt).sum('st_ocean').groupby('time.year').mean(dim='time')"
   ]
  },
  {
   "cell_type": "code",
   "execution_count": 85,
   "metadata": {},
   "outputs": [],
   "source": [
    "expt = '1deg_jra55_ryf_rcp45warm_spinup500'\n",
    "var = 'dzt'\n",
    "dzt = cc.querying.getvar(expt, var, session)\n",
    "vertically_integrated_heat_warm = (rho_0 * c_p * temp_warm * dzt).sum('st_ocean').groupby('time.year').mean(dim='time')"
   ]
  },
  {
   "cell_type": "code",
   "execution_count": 86,
   "metadata": {
    "collapsed": true,
    "jupyter": {
     "outputs_hidden": true
    }
   },
   "outputs": [
    {
     "data": {
      "text/html": [
       "<div><svg style=\"position: absolute; width: 0; height: 0; overflow: hidden\">\n",
       "<defs>\n",
       "<symbol id=\"icon-database\" viewBox=\"0 0 32 32\">\n",
       "<path d=\"M16 0c-8.837 0-16 2.239-16 5v4c0 2.761 7.163 5 16 5s16-2.239 16-5v-4c0-2.761-7.163-5-16-5z\"></path>\n",
       "<path d=\"M16 17c-8.837 0-16-2.239-16-5v6c0 2.761 7.163 5 16 5s16-2.239 16-5v-6c0 2.761-7.163 5-16 5z\"></path>\n",
       "<path d=\"M16 26c-8.837 0-16-2.239-16-5v6c0 2.761 7.163 5 16 5s16-2.239 16-5v-6c0 2.761-7.163 5-16 5z\"></path>\n",
       "</symbol>\n",
       "<symbol id=\"icon-file-text2\" viewBox=\"0 0 32 32\">\n",
       "<path d=\"M28.681 7.159c-0.694-0.947-1.662-2.053-2.724-3.116s-2.169-2.030-3.116-2.724c-1.612-1.182-2.393-1.319-2.841-1.319h-15.5c-1.378 0-2.5 1.121-2.5 2.5v27c0 1.378 1.122 2.5 2.5 2.5h23c1.378 0 2.5-1.122 2.5-2.5v-19.5c0-0.448-0.137-1.23-1.319-2.841zM24.543 5.457c0.959 0.959 1.712 1.825 2.268 2.543h-4.811v-4.811c0.718 0.556 1.584 1.309 2.543 2.268zM28 29.5c0 0.271-0.229 0.5-0.5 0.5h-23c-0.271 0-0.5-0.229-0.5-0.5v-27c0-0.271 0.229-0.5 0.5-0.5 0 0 15.499-0 15.5 0v7c0 0.552 0.448 1 1 1h7v19.5z\"></path>\n",
       "<path d=\"M23 26h-14c-0.552 0-1-0.448-1-1s0.448-1 1-1h14c0.552 0 1 0.448 1 1s-0.448 1-1 1z\"></path>\n",
       "<path d=\"M23 22h-14c-0.552 0-1-0.448-1-1s0.448-1 1-1h14c0.552 0 1 0.448 1 1s-0.448 1-1 1z\"></path>\n",
       "<path d=\"M23 18h-14c-0.552 0-1-0.448-1-1s0.448-1 1-1h14c0.552 0 1 0.448 1 1s-0.448 1-1 1z\"></path>\n",
       "</symbol>\n",
       "</defs>\n",
       "</svg>\n",
       "<style>/* CSS stylesheet for displaying xarray objects in jupyterlab.\n",
       " *\n",
       " */\n",
       "\n",
       ":root {\n",
       "  --xr-font-color0: var(--jp-content-font-color0, rgba(0, 0, 0, 1));\n",
       "  --xr-font-color2: var(--jp-content-font-color2, rgba(0, 0, 0, 0.54));\n",
       "  --xr-font-color3: var(--jp-content-font-color3, rgba(0, 0, 0, 0.38));\n",
       "  --xr-border-color: var(--jp-border-color2, #e0e0e0);\n",
       "  --xr-disabled-color: var(--jp-layout-color3, #bdbdbd);\n",
       "  --xr-background-color: var(--jp-layout-color0, white);\n",
       "  --xr-background-color-row-even: var(--jp-layout-color1, white);\n",
       "  --xr-background-color-row-odd: var(--jp-layout-color2, #eeeeee);\n",
       "}\n",
       "\n",
       "html[theme=dark],\n",
       "body.vscode-dark {\n",
       "  --xr-font-color0: rgba(255, 255, 255, 1);\n",
       "  --xr-font-color2: rgba(255, 255, 255, 0.54);\n",
       "  --xr-font-color3: rgba(255, 255, 255, 0.38);\n",
       "  --xr-border-color: #1F1F1F;\n",
       "  --xr-disabled-color: #515151;\n",
       "  --xr-background-color: #111111;\n",
       "  --xr-background-color-row-even: #111111;\n",
       "  --xr-background-color-row-odd: #313131;\n",
       "}\n",
       "\n",
       ".xr-wrap {\n",
       "  display: block;\n",
       "  min-width: 300px;\n",
       "  max-width: 700px;\n",
       "}\n",
       "\n",
       ".xr-text-repr-fallback {\n",
       "  /* fallback to plain text repr when CSS is not injected (untrusted notebook) */\n",
       "  display: none;\n",
       "}\n",
       "\n",
       ".xr-header {\n",
       "  padding-top: 6px;\n",
       "  padding-bottom: 6px;\n",
       "  margin-bottom: 4px;\n",
       "  border-bottom: solid 1px var(--xr-border-color);\n",
       "}\n",
       "\n",
       ".xr-header > div,\n",
       ".xr-header > ul {\n",
       "  display: inline;\n",
       "  margin-top: 0;\n",
       "  margin-bottom: 0;\n",
       "}\n",
       "\n",
       ".xr-obj-type,\n",
       ".xr-array-name {\n",
       "  margin-left: 2px;\n",
       "  margin-right: 10px;\n",
       "}\n",
       "\n",
       ".xr-obj-type {\n",
       "  color: var(--xr-font-color2);\n",
       "}\n",
       "\n",
       ".xr-sections {\n",
       "  padding-left: 0 !important;\n",
       "  display: grid;\n",
       "  grid-template-columns: 150px auto auto 1fr 20px 20px;\n",
       "}\n",
       "\n",
       ".xr-section-item {\n",
       "  display: contents;\n",
       "}\n",
       "\n",
       ".xr-section-item input {\n",
       "  display: none;\n",
       "}\n",
       "\n",
       ".xr-section-item input + label {\n",
       "  color: var(--xr-disabled-color);\n",
       "}\n",
       "\n",
       ".xr-section-item input:enabled + label {\n",
       "  cursor: pointer;\n",
       "  color: var(--xr-font-color2);\n",
       "}\n",
       "\n",
       ".xr-section-item input:enabled + label:hover {\n",
       "  color: var(--xr-font-color0);\n",
       "}\n",
       "\n",
       ".xr-section-summary {\n",
       "  grid-column: 1;\n",
       "  color: var(--xr-font-color2);\n",
       "  font-weight: 500;\n",
       "}\n",
       "\n",
       ".xr-section-summary > span {\n",
       "  display: inline-block;\n",
       "  padding-left: 0.5em;\n",
       "}\n",
       "\n",
       ".xr-section-summary-in:disabled + label {\n",
       "  color: var(--xr-font-color2);\n",
       "}\n",
       "\n",
       ".xr-section-summary-in + label:before {\n",
       "  display: inline-block;\n",
       "  content: '►';\n",
       "  font-size: 11px;\n",
       "  width: 15px;\n",
       "  text-align: center;\n",
       "}\n",
       "\n",
       ".xr-section-summary-in:disabled + label:before {\n",
       "  color: var(--xr-disabled-color);\n",
       "}\n",
       "\n",
       ".xr-section-summary-in:checked + label:before {\n",
       "  content: '▼';\n",
       "}\n",
       "\n",
       ".xr-section-summary-in:checked + label > span {\n",
       "  display: none;\n",
       "}\n",
       "\n",
       ".xr-section-summary,\n",
       ".xr-section-inline-details {\n",
       "  padding-top: 4px;\n",
       "  padding-bottom: 4px;\n",
       "}\n",
       "\n",
       ".xr-section-inline-details {\n",
       "  grid-column: 2 / -1;\n",
       "}\n",
       "\n",
       ".xr-section-details {\n",
       "  display: none;\n",
       "  grid-column: 1 / -1;\n",
       "  margin-bottom: 5px;\n",
       "}\n",
       "\n",
       ".xr-section-summary-in:checked ~ .xr-section-details {\n",
       "  display: contents;\n",
       "}\n",
       "\n",
       ".xr-array-wrap {\n",
       "  grid-column: 1 / -1;\n",
       "  display: grid;\n",
       "  grid-template-columns: 20px auto;\n",
       "}\n",
       "\n",
       ".xr-array-wrap > label {\n",
       "  grid-column: 1;\n",
       "  vertical-align: top;\n",
       "}\n",
       "\n",
       ".xr-preview {\n",
       "  color: var(--xr-font-color3);\n",
       "}\n",
       "\n",
       ".xr-array-preview,\n",
       ".xr-array-data {\n",
       "  padding: 0 5px !important;\n",
       "  grid-column: 2;\n",
       "}\n",
       "\n",
       ".xr-array-data,\n",
       ".xr-array-in:checked ~ .xr-array-preview {\n",
       "  display: none;\n",
       "}\n",
       "\n",
       ".xr-array-in:checked ~ .xr-array-data,\n",
       ".xr-array-preview {\n",
       "  display: inline-block;\n",
       "}\n",
       "\n",
       ".xr-dim-list {\n",
       "  display: inline-block !important;\n",
       "  list-style: none;\n",
       "  padding: 0 !important;\n",
       "  margin: 0;\n",
       "}\n",
       "\n",
       ".xr-dim-list li {\n",
       "  display: inline-block;\n",
       "  padding: 0;\n",
       "  margin: 0;\n",
       "}\n",
       "\n",
       ".xr-dim-list:before {\n",
       "  content: '(';\n",
       "}\n",
       "\n",
       ".xr-dim-list:after {\n",
       "  content: ')';\n",
       "}\n",
       "\n",
       ".xr-dim-list li:not(:last-child):after {\n",
       "  content: ',';\n",
       "  padding-right: 5px;\n",
       "}\n",
       "\n",
       ".xr-has-index {\n",
       "  font-weight: bold;\n",
       "}\n",
       "\n",
       ".xr-var-list,\n",
       ".xr-var-item {\n",
       "  display: contents;\n",
       "}\n",
       "\n",
       ".xr-var-item > div,\n",
       ".xr-var-item label,\n",
       ".xr-var-item > .xr-var-name span {\n",
       "  background-color: var(--xr-background-color-row-even);\n",
       "  margin-bottom: 0;\n",
       "}\n",
       "\n",
       ".xr-var-item > .xr-var-name:hover span {\n",
       "  padding-right: 5px;\n",
       "}\n",
       "\n",
       ".xr-var-list > li:nth-child(odd) > div,\n",
       ".xr-var-list > li:nth-child(odd) > label,\n",
       ".xr-var-list > li:nth-child(odd) > .xr-var-name span {\n",
       "  background-color: var(--xr-background-color-row-odd);\n",
       "}\n",
       "\n",
       ".xr-var-name {\n",
       "  grid-column: 1;\n",
       "}\n",
       "\n",
       ".xr-var-dims {\n",
       "  grid-column: 2;\n",
       "}\n",
       "\n",
       ".xr-var-dtype {\n",
       "  grid-column: 3;\n",
       "  text-align: right;\n",
       "  color: var(--xr-font-color2);\n",
       "}\n",
       "\n",
       ".xr-var-preview {\n",
       "  grid-column: 4;\n",
       "}\n",
       "\n",
       ".xr-var-name,\n",
       ".xr-var-dims,\n",
       ".xr-var-dtype,\n",
       ".xr-preview,\n",
       ".xr-attrs dt {\n",
       "  white-space: nowrap;\n",
       "  overflow: hidden;\n",
       "  text-overflow: ellipsis;\n",
       "  padding-right: 10px;\n",
       "}\n",
       "\n",
       ".xr-var-name:hover,\n",
       ".xr-var-dims:hover,\n",
       ".xr-var-dtype:hover,\n",
       ".xr-attrs dt:hover {\n",
       "  overflow: visible;\n",
       "  width: auto;\n",
       "  z-index: 1;\n",
       "}\n",
       "\n",
       ".xr-var-attrs,\n",
       ".xr-var-data {\n",
       "  display: none;\n",
       "  background-color: var(--xr-background-color) !important;\n",
       "  padding-bottom: 5px !important;\n",
       "}\n",
       "\n",
       ".xr-var-attrs-in:checked ~ .xr-var-attrs,\n",
       ".xr-var-data-in:checked ~ .xr-var-data {\n",
       "  display: block;\n",
       "}\n",
       "\n",
       ".xr-var-data > table {\n",
       "  float: right;\n",
       "}\n",
       "\n",
       ".xr-var-name span,\n",
       ".xr-var-data,\n",
       ".xr-attrs {\n",
       "  padding-left: 25px !important;\n",
       "}\n",
       "\n",
       ".xr-attrs,\n",
       ".xr-var-attrs,\n",
       ".xr-var-data {\n",
       "  grid-column: 1 / -1;\n",
       "}\n",
       "\n",
       "dl.xr-attrs {\n",
       "  padding: 0;\n",
       "  margin: 0;\n",
       "  display: grid;\n",
       "  grid-template-columns: 125px auto;\n",
       "}\n",
       "\n",
       ".xr-attrs dt,\n",
       ".xr-attrs dd {\n",
       "  padding: 0;\n",
       "  margin: 0;\n",
       "  float: left;\n",
       "  padding-right: 10px;\n",
       "  width: auto;\n",
       "}\n",
       "\n",
       ".xr-attrs dt {\n",
       "  font-weight: normal;\n",
       "  grid-column: 1;\n",
       "}\n",
       "\n",
       ".xr-attrs dt:hover span {\n",
       "  display: inline-block;\n",
       "  background: var(--xr-background-color);\n",
       "  padding-right: 10px;\n",
       "}\n",
       "\n",
       ".xr-attrs dd {\n",
       "  grid-column: 2;\n",
       "  white-space: pre-wrap;\n",
       "  word-break: break-all;\n",
       "}\n",
       "\n",
       ".xr-icon-database,\n",
       ".xr-icon-file-text2 {\n",
       "  display: inline-block;\n",
       "  vertical-align: middle;\n",
       "  width: 1em;\n",
       "  height: 1.5em !important;\n",
       "  stroke-width: 0;\n",
       "  stroke: currentColor;\n",
       "  fill: currentColor;\n",
       "}\n",
       "</style><pre class='xr-text-repr-fallback'>&lt;xarray.DataArray (year: 100, yt_ocean: 300, xt_ocean: 360)&gt;\n",
       "array([[[0., 0., 0., ..., 0., 0., 0.],\n",
       "        [0., 0., 0., ..., 0., 0., 0.],\n",
       "        [0., 0., 0., ..., 0., 0., 0.],\n",
       "        ...,\n",
       "        [0., 0., 0., ..., 0., 0., 0.],\n",
       "        [0., 0., 0., ..., 0., 0., 0.],\n",
       "        [0., 0., 0., ..., 0., 0., 0.]],\n",
       "\n",
       "       [[0., 0., 0., ..., 0., 0., 0.],\n",
       "        [0., 0., 0., ..., 0., 0., 0.],\n",
       "        [0., 0., 0., ..., 0., 0., 0.],\n",
       "        ...,\n",
       "        [0., 0., 0., ..., 0., 0., 0.],\n",
       "        [0., 0., 0., ..., 0., 0., 0.],\n",
       "        [0., 0., 0., ..., 0., 0., 0.]],\n",
       "\n",
       "       [[0., 0., 0., ..., 0., 0., 0.],\n",
       "        [0., 0., 0., ..., 0., 0., 0.],\n",
       "        [0., 0., 0., ..., 0., 0., 0.],\n",
       "        ...,\n",
       "...\n",
       "        ...,\n",
       "        [0., 0., 0., ..., 0., 0., 0.],\n",
       "        [0., 0., 0., ..., 0., 0., 0.],\n",
       "        [0., 0., 0., ..., 0., 0., 0.]],\n",
       "\n",
       "       [[0., 0., 0., ..., 0., 0., 0.],\n",
       "        [0., 0., 0., ..., 0., 0., 0.],\n",
       "        [0., 0., 0., ..., 0., 0., 0.],\n",
       "        ...,\n",
       "        [0., 0., 0., ..., 0., 0., 0.],\n",
       "        [0., 0., 0., ..., 0., 0., 0.],\n",
       "        [0., 0., 0., ..., 0., 0., 0.]],\n",
       "\n",
       "       [[0., 0., 0., ..., 0., 0., 0.],\n",
       "        [0., 0., 0., ..., 0., 0., 0.],\n",
       "        [0., 0., 0., ..., 0., 0., 0.],\n",
       "        ...,\n",
       "        [0., 0., 0., ..., 0., 0., 0.],\n",
       "        [0., 0., 0., ..., 0., 0., 0.],\n",
       "        [0., 0., 0., ..., 0., 0., 0.]]])\n",
       "Coordinates:\n",
       "  * xt_ocean  (xt_ocean) float64 -279.5 -278.5 -277.5 -276.5 ... 77.5 78.5 79.5\n",
       "  * yt_ocean  (yt_ocean) float64 -77.88 -77.63 -77.38 ... 88.87 89.32 89.77\n",
       "  * year      (year) int64 2400 2401 2402 2403 2404 ... 2495 2496 2497 2498 2499</pre><div class='xr-wrap' hidden><div class='xr-header'><div class='xr-obj-type'>xarray.DataArray</div><div class='xr-array-name'></div><ul class='xr-dim-list'><li><span class='xr-has-index'>year</span>: 100</li><li><span class='xr-has-index'>yt_ocean</span>: 300</li><li><span class='xr-has-index'>xt_ocean</span>: 360</li></ul></div><ul class='xr-sections'><li class='xr-section-item'><div class='xr-array-wrap'><input id='section-68404a43-1584-4706-91a7-51e50c3a6c7d' class='xr-array-in' type='checkbox' checked><label for='section-68404a43-1584-4706-91a7-51e50c3a6c7d' title='Show/hide data repr'><svg class='icon xr-icon-database'><use xlink:href='#icon-database'></use></svg></label><div class='xr-array-preview xr-preview'><span>0.0 0.0 0.0 0.0 0.0 0.0 0.0 0.0 ... 0.0 0.0 0.0 0.0 0.0 0.0 0.0 0.0</span></div><div class='xr-array-data'><pre>array([[[0., 0., 0., ..., 0., 0., 0.],\n",
       "        [0., 0., 0., ..., 0., 0., 0.],\n",
       "        [0., 0., 0., ..., 0., 0., 0.],\n",
       "        ...,\n",
       "        [0., 0., 0., ..., 0., 0., 0.],\n",
       "        [0., 0., 0., ..., 0., 0., 0.],\n",
       "        [0., 0., 0., ..., 0., 0., 0.]],\n",
       "\n",
       "       [[0., 0., 0., ..., 0., 0., 0.],\n",
       "        [0., 0., 0., ..., 0., 0., 0.],\n",
       "        [0., 0., 0., ..., 0., 0., 0.],\n",
       "        ...,\n",
       "        [0., 0., 0., ..., 0., 0., 0.],\n",
       "        [0., 0., 0., ..., 0., 0., 0.],\n",
       "        [0., 0., 0., ..., 0., 0., 0.]],\n",
       "\n",
       "       [[0., 0., 0., ..., 0., 0., 0.],\n",
       "        [0., 0., 0., ..., 0., 0., 0.],\n",
       "        [0., 0., 0., ..., 0., 0., 0.],\n",
       "        ...,\n",
       "...\n",
       "        ...,\n",
       "        [0., 0., 0., ..., 0., 0., 0.],\n",
       "        [0., 0., 0., ..., 0., 0., 0.],\n",
       "        [0., 0., 0., ..., 0., 0., 0.]],\n",
       "\n",
       "       [[0., 0., 0., ..., 0., 0., 0.],\n",
       "        [0., 0., 0., ..., 0., 0., 0.],\n",
       "        [0., 0., 0., ..., 0., 0., 0.],\n",
       "        ...,\n",
       "        [0., 0., 0., ..., 0., 0., 0.],\n",
       "        [0., 0., 0., ..., 0., 0., 0.],\n",
       "        [0., 0., 0., ..., 0., 0., 0.]],\n",
       "\n",
       "       [[0., 0., 0., ..., 0., 0., 0.],\n",
       "        [0., 0., 0., ..., 0., 0., 0.],\n",
       "        [0., 0., 0., ..., 0., 0., 0.],\n",
       "        ...,\n",
       "        [0., 0., 0., ..., 0., 0., 0.],\n",
       "        [0., 0., 0., ..., 0., 0., 0.],\n",
       "        [0., 0., 0., ..., 0., 0., 0.]]])</pre></div></div></li><li class='xr-section-item'><input id='section-0ac06560-519d-40ba-b1f5-f07b862d9cb8' class='xr-section-summary-in' type='checkbox'  checked><label for='section-0ac06560-519d-40ba-b1f5-f07b862d9cb8' class='xr-section-summary' >Coordinates: <span>(3)</span></label><div class='xr-section-inline-details'></div><div class='xr-section-details'><ul class='xr-var-list'><li class='xr-var-item'><div class='xr-var-name'><span class='xr-has-index'>xt_ocean</span></div><div class='xr-var-dims'>(xt_ocean)</div><div class='xr-var-dtype'>float64</div><div class='xr-var-preview xr-preview'>-279.5 -278.5 -277.5 ... 78.5 79.5</div><input id='attrs-17c30718-22d6-47dc-b91f-7eabaaf8de44' class='xr-var-attrs-in' type='checkbox' ><label for='attrs-17c30718-22d6-47dc-b91f-7eabaaf8de44' title='Show/Hide attributes'><svg class='icon xr-icon-file-text2'><use xlink:href='#icon-file-text2'></use></svg></label><input id='data-3502b042-8ce0-408d-840e-7595815845c7' class='xr-var-data-in' type='checkbox'><label for='data-3502b042-8ce0-408d-840e-7595815845c7' title='Show/Hide data repr'><svg class='icon xr-icon-database'><use xlink:href='#icon-database'></use></svg></label><div class='xr-var-attrs'><dl class='xr-attrs'><dt><span>long_name :</span></dt><dd>tcell longitude</dd><dt><span>units :</span></dt><dd>degrees_E</dd><dt><span>cartesian_axis :</span></dt><dd>X</dd></dl></div><div class='xr-var-data'><pre>array([-279.5, -278.5, -277.5, ...,   77.5,   78.5,   79.5])</pre></div></li><li class='xr-var-item'><div class='xr-var-name'><span class='xr-has-index'>yt_ocean</span></div><div class='xr-var-dims'>(yt_ocean)</div><div class='xr-var-dtype'>float64</div><div class='xr-var-preview xr-preview'>-77.88 -77.63 ... 89.32 89.77</div><input id='attrs-25bd738e-fa37-404c-8d21-b6fef884719a' class='xr-var-attrs-in' type='checkbox' ><label for='attrs-25bd738e-fa37-404c-8d21-b6fef884719a' title='Show/Hide attributes'><svg class='icon xr-icon-file-text2'><use xlink:href='#icon-file-text2'></use></svg></label><input id='data-db32ee69-2794-47ac-99bf-33e709d4e682' class='xr-var-data-in' type='checkbox'><label for='data-db32ee69-2794-47ac-99bf-33e709d4e682' title='Show/Hide data repr'><svg class='icon xr-icon-database'><use xlink:href='#icon-database'></use></svg></label><div class='xr-var-attrs'><dl class='xr-attrs'><dt><span>long_name :</span></dt><dd>tcell latitude</dd><dt><span>units :</span></dt><dd>degrees_N</dd><dt><span>cartesian_axis :</span></dt><dd>Y</dd></dl></div><div class='xr-var-data'><pre>array([-77.876623, -77.629713, -77.381707, ...,  88.872933,  89.324006,\n",
       "        89.774476])</pre></div></li><li class='xr-var-item'><div class='xr-var-name'><span class='xr-has-index'>year</span></div><div class='xr-var-dims'>(year)</div><div class='xr-var-dtype'>int64</div><div class='xr-var-preview xr-preview'>2400 2401 2402 ... 2497 2498 2499</div><input id='attrs-990b6ed7-812d-418b-b6b4-5939f971bf95' class='xr-var-attrs-in' type='checkbox' disabled><label for='attrs-990b6ed7-812d-418b-b6b4-5939f971bf95' title='Show/Hide attributes'><svg class='icon xr-icon-file-text2'><use xlink:href='#icon-file-text2'></use></svg></label><input id='data-50d5cae4-6044-4197-8ce1-6c22cb344956' class='xr-var-data-in' type='checkbox'><label for='data-50d5cae4-6044-4197-8ce1-6c22cb344956' title='Show/Hide data repr'><svg class='icon xr-icon-database'><use xlink:href='#icon-database'></use></svg></label><div class='xr-var-attrs'><dl class='xr-attrs'></dl></div><div class='xr-var-data'><pre>array([2400, 2401, 2402, 2403, 2404, 2405, 2406, 2407, 2408, 2409, 2410, 2411,\n",
       "       2412, 2413, 2414, 2415, 2416, 2417, 2418, 2419, 2420, 2421, 2422, 2423,\n",
       "       2424, 2425, 2426, 2427, 2428, 2429, 2430, 2431, 2432, 2433, 2434, 2435,\n",
       "       2436, 2437, 2438, 2439, 2440, 2441, 2442, 2443, 2444, 2445, 2446, 2447,\n",
       "       2448, 2449, 2450, 2451, 2452, 2453, 2454, 2455, 2456, 2457, 2458, 2459,\n",
       "       2460, 2461, 2462, 2463, 2464, 2465, 2466, 2467, 2468, 2469, 2470, 2471,\n",
       "       2472, 2473, 2474, 2475, 2476, 2477, 2478, 2479, 2480, 2481, 2482, 2483,\n",
       "       2484, 2485, 2486, 2487, 2488, 2489, 2490, 2491, 2492, 2493, 2494, 2495,\n",
       "       2496, 2497, 2498, 2499])</pre></div></li></ul></div></li><li class='xr-section-item'><input id='section-983ffb50-8527-4d26-8177-9d5575d08ef7' class='xr-section-summary-in' type='checkbox' disabled ><label for='section-983ffb50-8527-4d26-8177-9d5575d08ef7' class='xr-section-summary'  title='Expand/collapse section'>Attributes: <span>(0)</span></label><div class='xr-section-inline-details'></div><div class='xr-section-details'><dl class='xr-attrs'></dl></div></li></ul></div></div>"
      ],
      "text/plain": [
       "<xarray.DataArray (year: 100, yt_ocean: 300, xt_ocean: 360)>\n",
       "array([[[0., 0., 0., ..., 0., 0., 0.],\n",
       "        [0., 0., 0., ..., 0., 0., 0.],\n",
       "        [0., 0., 0., ..., 0., 0., 0.],\n",
       "        ...,\n",
       "        [0., 0., 0., ..., 0., 0., 0.],\n",
       "        [0., 0., 0., ..., 0., 0., 0.],\n",
       "        [0., 0., 0., ..., 0., 0., 0.]],\n",
       "\n",
       "       [[0., 0., 0., ..., 0., 0., 0.],\n",
       "        [0., 0., 0., ..., 0., 0., 0.],\n",
       "        [0., 0., 0., ..., 0., 0., 0.],\n",
       "        ...,\n",
       "        [0., 0., 0., ..., 0., 0., 0.],\n",
       "        [0., 0., 0., ..., 0., 0., 0.],\n",
       "        [0., 0., 0., ..., 0., 0., 0.]],\n",
       "\n",
       "       [[0., 0., 0., ..., 0., 0., 0.],\n",
       "        [0., 0., 0., ..., 0., 0., 0.],\n",
       "        [0., 0., 0., ..., 0., 0., 0.],\n",
       "        ...,\n",
       "...\n",
       "        ...,\n",
       "        [0., 0., 0., ..., 0., 0., 0.],\n",
       "        [0., 0., 0., ..., 0., 0., 0.],\n",
       "        [0., 0., 0., ..., 0., 0., 0.]],\n",
       "\n",
       "       [[0., 0., 0., ..., 0., 0., 0.],\n",
       "        [0., 0., 0., ..., 0., 0., 0.],\n",
       "        [0., 0., 0., ..., 0., 0., 0.],\n",
       "        ...,\n",
       "        [0., 0., 0., ..., 0., 0., 0.],\n",
       "        [0., 0., 0., ..., 0., 0., 0.],\n",
       "        [0., 0., 0., ..., 0., 0., 0.]],\n",
       "\n",
       "       [[0., 0., 0., ..., 0., 0., 0.],\n",
       "        [0., 0., 0., ..., 0., 0., 0.],\n",
       "        [0., 0., 0., ..., 0., 0., 0.],\n",
       "        ...,\n",
       "        [0., 0., 0., ..., 0., 0., 0.],\n",
       "        [0., 0., 0., ..., 0., 0., 0.],\n",
       "        [0., 0., 0., ..., 0., 0., 0.]]])\n",
       "Coordinates:\n",
       "  * xt_ocean  (xt_ocean) float64 -279.5 -278.5 -277.5 -276.5 ... 77.5 78.5 79.5\n",
       "  * yt_ocean  (yt_ocean) float64 -77.88 -77.63 -77.38 ... 88.87 89.32 89.77\n",
       "  * year      (year) int64 2400 2401 2402 2403 2404 ... 2495 2496 2497 2498 2499"
      ]
     },
     "execution_count": 86,
     "metadata": {},
     "output_type": "execute_result"
    }
   ],
   "source": [
    "vertically_integrated_heat_cont.load()\n",
    "vertically_integrated_heat_cool.load()\n",
    "vertically_integrated_heat_warm.load()"
   ]
  }
 ],
 "metadata": {
  "kernelspec": {
   "display_name": "Python 3",
   "language": "python",
   "name": "python3"
  },
  "language_info": {
   "codemirror_mode": {
    "name": "ipython",
    "version": 3
   },
   "file_extension": ".py",
   "mimetype": "text/x-python",
   "name": "python",
   "nbconvert_exporter": "python",
   "pygments_lexer": "ipython3",
   "version": "3.8.6"
  }
 },
 "nbformat": 4,
 "nbformat_minor": 4
}
