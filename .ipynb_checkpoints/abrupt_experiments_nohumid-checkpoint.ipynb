{
 "cells": [
  {
   "cell_type": "markdown",
   "metadata": {},
   "source": [
    "#### This notebook examines the abrupt experiments which follow a 200 year spinup using ACCESS-OM2-1.\n",
    "\n",
    "\n",
    "The downward longwave and SAT forcing fields are modified as globally uniform, time-independent constant perturbations of $\\pm$ 8 W/m^2 and $\\pm$ 1.5C following _Stewart and Hogg (2019)_, and $\\pm$ 16 W/m^2 and $\\pm$ 3C for the x2 experiment. The model is forcied with _specific humidity_ here in order to examine a bug which seems to be occuring when we force with _relative humidity_."
   ]
  },
  {
   "cell_type": "code",
   "execution_count": 7,
   "metadata": {},
   "outputs": [],
   "source": [
    "import cosima_cookbook as cc\n",
    "import numpy as np\n",
    "import xarray as xr\n",
    "import pandas as pd\n",
    "import matplotlib.pyplot as plt\n",
    "import cmocean as cm\n",
    "from scipy.optimize import curve_fit\n",
    "\n",
    "from dask.distributed import Client\n",
    "\n",
    "%matplotlib inline"
   ]
  },
  {
   "cell_type": "code",
   "execution_count": 8,
   "metadata": {},
   "outputs": [
    {
     "data": {
      "text/html": [
       "<table style=\"border: 2px solid white;\">\n",
       "<tr>\n",
       "<td style=\"vertical-align: top; border: 0px solid white\">\n",
       "<h3 style=\"text-align: left;\">Client</h3>\n",
       "<ul style=\"text-align: left; list-style: none; margin: 0; padding: 0;\">\n",
       "  <li><b>Scheduler: </b>tcp://127.0.0.1:33813</li>\n",
       "  <li><b>Dashboard: </b><a href='/proxy/33001/status' target='_blank'>/proxy/33001/status</a></li>\n",
       "</ul>\n",
       "</td>\n",
       "<td style=\"vertical-align: top; border: 0px solid white\">\n",
       "<h3 style=\"text-align: left;\">Cluster</h3>\n",
       "<ul style=\"text-align: left; list-style:none; margin: 0; padding: 0;\">\n",
       "  <li><b>Workers: </b>4</li>\n",
       "  <li><b>Cores: </b>8</li>\n",
       "  <li><b>Memory: </b>128.85 GB</li>\n",
       "</ul>\n",
       "</td>\n",
       "</tr>\n",
       "</table>"
      ],
      "text/plain": [
       "<Client: 'tcp://127.0.0.1:33813' processes=4 threads=8, memory=128.85 GB>"
      ]
     },
     "metadata": {},
     "output_type": "display_data"
    }
   ],
   "source": [
    "client = Client()\n",
    "display(client)"
   ]
  },
  {
   "cell_type": "code",
   "execution_count": 9,
   "metadata": {},
   "outputs": [],
   "source": [
    "### Open session\n",
    "\n",
    "db = '1deg_jra55_ryf_experiments_abrupt.db'\n",
    "session = cc.database.create_session(db)\n",
    "\n",
    "# directory_list = ['/g/data/e14/mp2135/access-om2/archive/1deg_jra55_ryf_cont',\n",
    "#                   '/g/data/e14/mp2135/access-om2/archive/1deg_jra55_ryf_rcp45cool',\n",
    "#                  '/g/data/e14/mp2135/access-om2/archive/1deg_jra55_ryf_rcp45warm',\n",
    "#                  '/g/data/e14/mp2135/access-om2/archive/1deg_jra55_ryf_rcp45cool_x2',\n",
    "#                  '/g/data/e14/mp2135/access-om2/archive/1deg_jra55_ryf_rcp45warm_x2']"
   ]
  },
  {
   "cell_type": "code",
   "execution_count": 10,
   "metadata": {},
   "outputs": [
    {
     "data": {
      "text/html": [
       "<div>\n",
       "<style scoped>\n",
       "    .dataframe tbody tr th:only-of-type {\n",
       "        vertical-align: middle;\n",
       "    }\n",
       "\n",
       "    .dataframe tbody tr th {\n",
       "        vertical-align: top;\n",
       "    }\n",
       "\n",
       "    .dataframe thead th {\n",
       "        text-align: right;\n",
       "    }\n",
       "</style>\n",
       "<table border=\"1\" class=\"dataframe\">\n",
       "  <thead>\n",
       "    <tr style=\"text-align: right;\">\n",
       "      <th></th>\n",
       "      <th>experiment</th>\n",
       "      <th>ncfiles</th>\n",
       "    </tr>\n",
       "  </thead>\n",
       "  <tbody>\n",
       "    <tr>\n",
       "      <th>0</th>\n",
       "      <td>1deg_jra55_ryf_cont</td>\n",
       "      <td>21220</td>\n",
       "    </tr>\n",
       "    <tr>\n",
       "      <th>1</th>\n",
       "      <td>1deg_jra55_ryf_rcp45cool</td>\n",
       "      <td>47726</td>\n",
       "    </tr>\n",
       "    <tr>\n",
       "      <th>2</th>\n",
       "      <td>1deg_jra55_ryf_rcp45warm</td>\n",
       "      <td>45662</td>\n",
       "    </tr>\n",
       "    <tr>\n",
       "      <th>3</th>\n",
       "      <td>1deg_jra55_ryf_rcp45cool_x2</td>\n",
       "      <td>9534</td>\n",
       "    </tr>\n",
       "    <tr>\n",
       "      <th>4</th>\n",
       "      <td>1deg_jra55_ryf_rcp45warm_x2</td>\n",
       "      <td>9534</td>\n",
       "    </tr>\n",
       "    <tr>\n",
       "      <th>5</th>\n",
       "      <td>1deg_jra55_ryf_RCPwarm_x1</td>\n",
       "      <td>9534</td>\n",
       "    </tr>\n",
       "    <tr>\n",
       "      <th>6</th>\n",
       "      <td>1deg_jra55_ryf_RCPwarm_x2</td>\n",
       "      <td>9534</td>\n",
       "    </tr>\n",
       "  </tbody>\n",
       "</table>\n",
       "</div>"
      ],
      "text/plain": [
       "                    experiment  ncfiles\n",
       "0          1deg_jra55_ryf_cont    21220\n",
       "1     1deg_jra55_ryf_rcp45cool    47726\n",
       "2     1deg_jra55_ryf_rcp45warm    45662\n",
       "3  1deg_jra55_ryf_rcp45cool_x2     9534\n",
       "4  1deg_jra55_ryf_rcp45warm_x2     9534\n",
       "5    1deg_jra55_ryf_RCPwarm_x1     9534\n",
       "6    1deg_jra55_ryf_RCPwarm_x2     9534"
      ]
     },
     "execution_count": 10,
     "metadata": {},
     "output_type": "execute_result"
    }
   ],
   "source": [
    "cc.querying.get_experiments(session)"
   ]
  },
  {
   "cell_type": "markdown",
   "metadata": {},
   "source": [
    "### Calculate global average temperature"
   ]
  },
  {
   "cell_type": "code",
   "execution_count": 28,
   "metadata": {},
   "outputs": [],
   "source": [
    "yr_end = '2149-12-31'\n",
    "\n",
    "expt = '1deg_jra55_ryf_cont'\n",
    "var = 'temp'\n",
    "frequency = '1 monthly'\n",
    "temp_cont = cc.querying.getvar(expt, var, session, end_time = yr_end, frequency = frequency).chunk(chunks='auto')\n",
    "\n",
    "var = 'dzt'\n",
    "dzt = cc.querying.getvar(expt, var, session) #thickness of cells\n",
    "area_t = cc.querying.getvar(expt, 'area_t', session, n=1) # area of cells\n",
    "dVol = (dzt * area_t) # Volume of cells\n",
    "Vol = dVol.sum(dim = ['xt_ocean', 'yt_ocean', 'st_ocean']) # total volume of ocean\n",
    "\n",
    "temp_cont_ave = (temp_cont * dVol).sum(dim = ['xt_ocean', 'yt_ocean', 'st_ocean']) / Vol"
   ]
  },
  {
   "cell_type": "code",
   "execution_count": 29,
   "metadata": {},
   "outputs": [],
   "source": [
    "expt = '1deg_jra55_ryf_RCPwarm_x1'\n",
    "var = 'temp'\n",
    "frequency = '1 monthly'\n",
    "temp_RCPwarm_x1 = cc.querying.getvar(expt, var, session, frequency = frequency).chunk(chunks='auto') \n",
    "\n",
    "var = 'dzt'\n",
    "dzt = cc.querying.getvar(expt, var, session) #thickness of cells\n",
    "area_t = cc.querying.getvar(expt, 'area_t', session, n=1) # area of cells\n",
    "dVol = (dzt * area_t) # Volume of cells\n",
    "Vol = dVol.sum(dim = ['xt_ocean', 'yt_ocean', 'st_ocean']) # total volume of ocean\n",
    "\n",
    "temp_RCPwarm_x1_ave = (temp_RCPwarm_x1 * dVol).sum(dim = ['xt_ocean', 'yt_ocean', 'st_ocean']) / Vol"
   ]
  },
  {
   "cell_type": "code",
   "execution_count": 30,
   "metadata": {},
   "outputs": [],
   "source": [
    "expt = '1deg_jra55_ryf_RCPwarm_x2'\n",
    "var = 'temp'\n",
    "frequency = '1 monthly'\n",
    "temp_RCPwarm_x2 = cc.querying.getvar(expt, var, session, frequency = frequency).chunk(chunks='auto')\n",
    "\n",
    "var = 'dzt'\n",
    "dzt = cc.querying.getvar(expt, var, session) #thickness of cells\n",
    "area_t = cc.querying.getvar(expt, 'area_t', session, n=1) # area of cells\n",
    "dVol = (dzt * area_t) # Volume of cells\n",
    "Vol = dVol.sum(dim = ['xt_ocean', 'yt_ocean', 'st_ocean']) # total volume of ocean\n",
    "\n",
    "temp_RCPwarm_x2_ave = (temp_RCPwarm_x2 * dVol).sum(dim = ['xt_ocean', 'yt_ocean', 'st_ocean']) / Vol"
   ]
  },
  {
   "cell_type": "code",
   "execution_count": 18,
   "metadata": {},
   "outputs": [],
   "source": [
    "expt = '1deg_jra55_ryf_rcp45cool'\n",
    "var = 'temp'\n",
    "frequency = '1 monthly'\n",
    "temp_cool = cc.querying.getvar(expt, var, session, end_time = yr_end, frequency = frequency).chunk(chunks='auto') \n",
    "\n",
    "var = 'dzt'\n",
    "dzt = cc.querying.getvar(expt, var, session) #thickness of cells\n",
    "area_t = cc.querying.getvar(expt, 'area_t', session, n=1) # area of cells\n",
    "dVol = (dzt * area_t) # Volume of cells\n",
    "Vol = dVol.sum(dim = ['xt_ocean', 'yt_ocean', 'st_ocean']) # total volume of ocean\n",
    "\n",
    "temp_cool_ave = (temp_cool * dVol).sum(dim = ['xt_ocean', 'yt_ocean', 'st_ocean']) / Vol"
   ]
  },
  {
   "cell_type": "code",
   "execution_count": 19,
   "metadata": {},
   "outputs": [],
   "source": [
    "expt = '1deg_jra55_ryf_rcp45warm'\n",
    "var = 'temp'\n",
    "frequency = '1 monthly'\n",
    "temp_warm = cc.querying.getvar(expt, var, session, end_time = yr_end, frequency = frequency).chunk(chunks='auto')\n",
    "\n",
    "var = 'dzt'\n",
    "dzt = cc.querying.getvar(expt, var, session) #thickness of cells\n",
    "area_t = cc.querying.getvar(expt, 'area_t', session, n=1) # area of cells\n",
    "dVol = (dzt * area_t) # Volume of cells\n",
    "Vol = dVol.sum(dim = ['xt_ocean', 'yt_ocean', 'st_ocean']) # total volume of ocean\n",
    "\n",
    "temp_warm_ave = (temp_warm * dVol).sum(dim = ['xt_ocean', 'yt_ocean', 'st_ocean']) / Vol"
   ]
  },
  {
   "cell_type": "code",
   "execution_count": 20,
   "metadata": {},
   "outputs": [],
   "source": [
    "expt = '1deg_jra55_ryf_rcp45cool_x2'\n",
    "var = 'temp'\n",
    "frequency = '1 monthly'\n",
    "temp_coolx2 = cc.querying.getvar(expt, var, session, end_time = yr_end, frequency = frequency).chunk(chunks='auto') \n",
    "\n",
    "var = 'dzt'\n",
    "dzt = cc.querying.getvar(expt, var, session) #thickness of cells\n",
    "area_t = cc.querying.getvar(expt, 'area_t', session, n=1) # area of cells\n",
    "dVol = (dzt * area_t) # Volume of cells\n",
    "Vol = dVol.sum(dim = ['xt_ocean', 'yt_ocean', 'st_ocean']) # total volume of ocean\n",
    "\n",
    "temp_coolx2_ave = (temp_coolx2 * dVol).sum(dim = ['xt_ocean', 'yt_ocean', 'st_ocean']) / Vol"
   ]
  },
  {
   "cell_type": "code",
   "execution_count": 21,
   "metadata": {},
   "outputs": [],
   "source": [
    "expt = '1deg_jra55_ryf_rcp45warm_x2'\n",
    "var = 'temp'\n",
    "frequency = '1 monthly'\n",
    "temp_warmx2 = cc.querying.getvar(expt, var, session, end_time = yr_end, frequency = frequency).chunk(chunks='auto')\n",
    "\n",
    "var = 'dzt'\n",
    "dzt = cc.querying.getvar(expt, var, session) #thickness of cells\n",
    "area_t = cc.querying.getvar(expt, 'area_t', session, n=1) # area of cells\n",
    "dVol = (dzt * area_t) # Volume of cells\n",
    "Vol = dVol.sum(dim = ['xt_ocean', 'yt_ocean', 'st_ocean']) # total volume of ocean\n",
    "\n",
    "temp_warmx2_ave = (temp_warmx2 * dVol).sum(dim = ['xt_ocean', 'yt_ocean', 'st_ocean']) / Vol"
   ]
  },
  {
   "cell_type": "code",
   "execution_count": 35,
   "metadata": {},
   "outputs": [],
   "source": [
    "temp_cont_ave = temp_cont_ave.groupby('time.year').mean(dim='time').load()\n",
    "temp_RCPwarm_x1_ave = temp_RCPwarm_x1_ave.groupby('time.year').mean(dim='time').load()\n",
    "temp_RCPwarm_x2_ave = temp_RCPwarm_x2_ave.groupby('time.year').mean(dim='time').load()\n",
    "\n",
    "\n",
    "# temp_cool_ave = temp_cool_ave.groupby('time.year').mean(dim='time').load()\n",
    "# temp_warm_ave = temp_warm_ave.groupby('time.year').mean(dim='time').load()\n",
    "# temp_coolx2_ave = temp_coolx2_ave.groupby('time.year').mean(dim='time').load()\n",
    "# temp_warmx2_ave = temp_warmx2_ave.groupby('time.year').mean(dim='time').load()"
   ]
  },
  {
   "cell_type": "markdown",
   "metadata": {},
   "source": [
    "#### Plotting globally averaged temperature over time"
   ]
  },
  {
   "cell_type": "code",
   "execution_count": 45,
   "metadata": {},
   "outputs": [
    {
     "data": {
      "image/png": "[encoded data removed]",
      "text/plain": [
       "<Figure size 1224x864 with 1 Axes>"
      ]
     },
     "metadata": {
      "needs_background": "light"
     },
     "output_type": "display_data"
    }
   ],
   "source": [
    "plt.figure(figsize = (17,12))\n",
    "\n",
    "zero = xr.DataArray(data=[0], dims='year', coords={\"year\": [2399]})\n",
    "# cool_anom_plot = xr.concat([zero, temp_cool_ave - temp_cont_ave], dim='year')\n",
    "# warm_anom_plot = xr.concat([zero, temp_warm_ave - temp_cont_ave], dim='year')\n",
    "# coolx2_anom_plot = xr.concat([zero, temp_coolx2_ave - temp_cont_ave], dim='year')\n",
    "# warmx2_anom_plot = xr.concat([zero, temp_warmx2_ave - temp_cont_ave], dim='year')\n",
    "\n",
    "# (- 1 * cool_anom_plot).plot(label='Cooling x$-1$', color = 'b')\n",
    "# warm_anom_plot.plot(label='Warming', color = 'r')\n",
    "# (-0.5 * coolx2_anom_plot).plot(label='Double cooling x$-0.5$', color = 'b', linestyle = '--')\n",
    "# (0.5 * warmx2_anom_plot).plot(label='Double warming x$0.5$', color = 'r', linestyle = '--')\n",
    "\n",
    "RCPwarm_x1_anom_plot.plot(label='Warming', color = 'r')\n",
    "(0.5 * RCPwarm_x2_anom_plot).plot(label='Double warming', color = 'r', linestyle = '--')\n",
    "\n",
    "plt.title('Global average temperature anomaly', fontsize=13)\n",
    "plt.ylabel('Temperature anomaly (K)', fontsize=12)\n",
    "plt.xlabel('Years', fontsize=12)\n",
    "plt.legend(fontsize=12)\n",
    "plt.grid()\n",
    "#plt.savefig('global_average_temp_bad_humid_2100-2150.jpg')"
   ]
  },
  {
   "cell_type": "markdown",
   "metadata": {},
   "source": [
    "### Calculate SST"
   ]
  },
  {
   "cell_type": "code",
   "execution_count": 42,
   "metadata": {
    "jupyter": {
     "source_hidden": true
    }
   },
   "outputs": [],
   "source": [
    "yr_end = '2149-12-31'\n",
    "\n",
    "expt = '1deg_jra55_ryf_cont'\n",
    "var = 'temp_surface_ave'\n",
    "SST_cont = cc.querying.getvar(expt, var, session, end_time = yr_end)[:-1].chunk(chunks='auto')"
   ]
  },
  {
   "cell_type": "code",
   "execution_count": 44,
   "metadata": {
    "jupyter": {
     "source_hidden": true
    }
   },
   "outputs": [],
   "source": [
    "expt = '1deg_jra55_ryf_rcp45cool'\n",
    "var = 'temp_surface_ave'\n",
    "SST_cool = cc.querying.getvar(expt, var, session, end_time = yr_end)[:-1].chunk(chunks='auto') "
   ]
  },
  {
   "cell_type": "code",
   "execution_count": 45,
   "metadata": {
    "jupyter": {
     "source_hidden": true
    }
   },
   "outputs": [],
   "source": [
    "expt = '1deg_jra55_ryf_rcp45warm'\n",
    "var = 'temp_surface_ave'\n",
    "SST_warm = cc.querying.getvar(expt, var, session, end_time = yr_end)[:-1].chunk(chunks='auto')"
   ]
  },
  {
   "cell_type": "code",
   "execution_count": 46,
   "metadata": {
    "jupyter": {
     "source_hidden": true
    }
   },
   "outputs": [],
   "source": [
    "expt = '1deg_jra55_ryf_rcp45cool_x2'\n",
    "var = 'temp_surface_ave'\n",
    "SST_coolx2 = cc.querying.getvar(expt, var, session, end_time = yr_end)[:-1].chunk(chunks='auto') "
   ]
  },
  {
   "cell_type": "code",
   "execution_count": 47,
   "metadata": {
    "jupyter": {
     "source_hidden": true
    }
   },
   "outputs": [],
   "source": [
    "expt = '1deg_jra55_ryf_rcp45warm_x2'\n",
    "var = 'temp_surface_ave'\n",
    "SST_warmx2 = cc.querying.getvar(expt, var, session, end_time = yr_end)[:-1].chunk(chunks='auto') "
   ]
  },
  {
   "cell_type": "code",
   "execution_count": 49,
   "metadata": {},
   "outputs": [],
   "source": [
    "expt = '1deg_jra55_ryf_RCPwarm_x1'\n",
    "var = 'temp_surface_ave'\n",
    "SST_RCPwarm_x1 = cc.querying.getvar(expt, var, session)[:-1].chunk(chunks='auto') "
   ]
  },
  {
   "cell_type": "code",
   "execution_count": 50,
   "metadata": {},
   "outputs": [],
   "source": [
    "expt = '1deg_jra55_ryf_RCPwarm_x2'\n",
    "var = 'temp_surface_ave'\n",
    "SST_RCPwarm_x2 = cc.querying.getvar(expt, var, session)[:-1].chunk(chunks='auto')"
   ]
  },
  {
   "cell_type": "code",
   "execution_count": 52,
   "metadata": {},
   "outputs": [],
   "source": [
    "# SST_cont = SST_cont.groupby('time.year').mean(dim='time').load()\n",
    "# SST_cool = SST_cool.groupby('time.year').mean(dim='time').load()\n",
    "# SST_warm = SST_warm.groupby('time.year').mean(dim='time').load()\n",
    "# SST_coolx2 = SST_coolx2.groupby('time.year').mean(dim='time').load()\n",
    "# SST_warmx2 = SST_warmx2.groupby('time.year').mean(dim='time').load()\n",
    "\n",
    "SST_RCPwarm_x1 = SST_RCPwarm_x1.groupby('time.year').mean(dim='time').load()\n",
    "SST_RCPwarm_x2 = SST_RCPwarm_x2.groupby('time.year').mean(dim='time').load()"
   ]
  },
  {
   "cell_type": "code",
   "execution_count": 75,
   "metadata": {},
   "outputs": [
    {
     "data": {
      "image/png": "[encoded data removed]",
      "text/plain": [
       "<Figure size 936x648 with 1 Axes>"
      ]
     },
     "metadata": {
      "needs_background": "light"
     },
     "output_type": "display_data"
    }
   ],
   "source": [
    "plt.figure(figsize = (13,9))\n",
    "\n",
    "zero = xr.DataArray(data=[0], dims='year', coords={\"year\": [2399]})\n",
    "# SST_cool_anom_plot = xr.concat([zero, SST_cool[:,0] - SST_cont[:,0]], dim='year')\n",
    "# SST_warm_anom_plot = xr.concat([zero, SST_warm[:,0] - SST_cont[:,0]], dim='year')\n",
    "# SST_warm_anom_plot[4] = SST_warm_anom_plot[4]-0.045\n",
    "# SST_coolx2_anom_plot = xr.concat([zero, SST_coolx2[:,0] - SST_cont[:,0]], dim='year')\n",
    "# SST_warmx2_anom_plot = xr.concat([zero, SST_warmx2[:,0] - SST_cont[:,0]], dim='year')\n",
    "\n",
    "# (-1 * SST_cool_anom_plot).plot(label='Cooling x$-1$', color = 'b')\n",
    "# SST_warm_anom_plot.plot(label='Warming', color = 'r')\n",
    "# (-0.5 * SST_coolx2_anom_plot).plot(label='Double cooling x$-0.5$', color = 'b', linestyle = '--')\n",
    "# (0.5 * SST_warmx2_anom_plot).plot(label='Double warming x$0.5$', color = 'r', linestyle = '--')\n",
    "\n",
    "# Average value of control SST between 2400 and 2419 is 18.2877681 (calculated in a different notebook):\n",
    "\n",
    "SST_RCPwarm_x1_anom_plot = xr.concat([zero, SST_RCPwarm_x1 - 18.2877681], dim='year')\n",
    "SST_RCPwarm_x2_anom_plot = xr.concat([zero, SST_RCPwarm_x2 - 18.2877681], dim='year')\n",
    "\n",
    "SST_RCPwarm_x1_anom_plot.plot(label='Warming', color = 'r')\n",
    "(0.5 * SST_RCPwarm_x2_anom_plot).plot(label='Double warming x $0.5', color = 'r', linestyle = '--')\n",
    "\n",
    "plt.title('SST anomaly', fontsize=13)\n",
    "plt.ylabel('Temperature anomaly (K)', fontsize=12)\n",
    "plt.xlabel('Years', fontsize=12)\n",
    "plt.legend(fontsize=12)\n",
    "plt.grid()\n",
    "plt.savefig('SST_bad_humid.jpg')"
   ]
  },
  {
   "cell_type": "code",
   "execution_count": null,
   "metadata": {},
   "outputs": [],
   "source": []
  }
 ],
 "metadata": {
  "kernelspec": {
   "display_name": "Python 3",
   "language": "python",
   "name": "python3"
  },
  "language_info": {
   "codemirror_mode": {
    "name": "ipython",
    "version": 3
   },
   "file_extension": ".py",
   "mimetype": "text/x-python",
   "name": "python",
   "nbconvert_exporter": "python",
   "pygments_lexer": "ipython3",
   "version": "3.8.6"
  }
 },
 "nbformat": 4,
 "nbformat_minor": 4
}
